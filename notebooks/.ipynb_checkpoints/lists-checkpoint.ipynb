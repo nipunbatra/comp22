{
 "cells": [
  {
   "cell_type": "markdown",
   "id": "9b0ddde9",
   "metadata": {},
   "source": [
    "int\n",
    "float\n",
    "bool\n",
    "\n",
    "\n",
    "### Collection\n",
    "\n",
    "\n",
    "### List\n",
    "\n",
    "### Todo list\n",
    "\n",
    "1. Prepare lecture\n",
    "2. Deliver lecture\n",
    "3. Create Quiz\n",
    "4. Conduct Quiz\n",
    "5. Get quiz graded\n"
   ]
  },
  {
   "cell_type": "markdown",
   "id": "2805e152",
   "metadata": {},
   "source": [
    "### Initialisation"
   ]
  },
  {
   "cell_type": "code",
   "execution_count": 1,
   "id": "a2bd7840",
   "metadata": {},
   "outputs": [],
   "source": [
    "todo = [\"Prepare lecture\", \"Deliver Lecture\"]"
   ]
  },
  {
   "cell_type": "code",
   "execution_count": 2,
   "id": "3aa75c61",
   "metadata": {},
   "outputs": [],
   "source": [
    "kohli = [90, 82, 83, 100, 102]"
   ]
  },
  {
   "cell_type": "code",
   "execution_count": 3,
   "id": "274bdbc2",
   "metadata": {},
   "outputs": [],
   "source": [
    "speed = [90.1, 100.3]"
   ]
  },
  {
   "cell_type": "code",
   "execution_count": 4,
   "id": "d49298a5",
   "metadata": {},
   "outputs": [],
   "source": [
    "list_of_ints = [True, False]"
   ]
  },
  {
   "cell_type": "code",
   "execution_count": 5,
   "id": "44e5859e",
   "metadata": {},
   "outputs": [],
   "source": [
    "student_1 = [\"Rahul\", 80.5, \"A\", True]"
   ]
  },
  {
   "cell_type": "code",
   "execution_count": 6,
   "id": "b2b884b3",
   "metadata": {},
   "outputs": [
    {
     "name": "stdout",
     "output_type": "stream",
     "text": [
      "['Prepare lecture', 'Deliver Lecture']\n"
     ]
    }
   ],
   "source": [
    "print(todo)"
   ]
  },
  {
   "cell_type": "code",
   "execution_count": 7,
   "id": "8260bec1",
   "metadata": {},
   "outputs": [
    {
     "name": "stdout",
     "output_type": "stream",
     "text": [
      "[90.1, 100.3]\n"
     ]
    }
   ],
   "source": [
    "print(speed)"
   ]
  },
  {
   "cell_type": "code",
   "execution_count": 8,
   "id": "e62d382b",
   "metadata": {},
   "outputs": [
    {
     "name": "stdout",
     "output_type": "stream",
     "text": [
      "5\n"
     ]
    }
   ],
   "source": [
    "print(len(kohli))"
   ]
  },
  {
   "cell_type": "markdown",
   "id": "542f4efd",
   "metadata": {},
   "source": [
    "### Empty initialisation"
   ]
  },
  {
   "cell_type": "markdown",
   "id": "aa9f4a97",
   "metadata": {},
   "source": [
    "### len()"
   ]
  },
  {
   "cell_type": "code",
   "execution_count": 9,
   "id": "26ae8e8d",
   "metadata": {},
   "outputs": [
    {
     "data": {
      "text/plain": [
       "2"
      ]
     },
     "execution_count": 9,
     "metadata": {},
     "output_type": "execute_result"
    }
   ],
   "source": [
    "len(todo)"
   ]
  },
  {
   "cell_type": "code",
   "execution_count": 10,
   "id": "c5c2cc9d",
   "metadata": {},
   "outputs": [
    {
     "data": {
      "text/plain": [
       "2"
      ]
     },
     "execution_count": 10,
     "metadata": {},
     "output_type": "execute_result"
    }
   ],
   "source": [
    "len(speed)"
   ]
  },
  {
   "cell_type": "code",
   "execution_count": 11,
   "id": "b4794165",
   "metadata": {},
   "outputs": [
    {
     "data": {
      "text/plain": [
       "4"
      ]
     },
     "execution_count": 11,
     "metadata": {},
     "output_type": "execute_result"
    }
   ],
   "source": [
    "len(student_1)"
   ]
  },
  {
   "cell_type": "markdown",
   "id": "9d132e2c",
   "metadata": {},
   "source": [
    "### Indexing\n"
   ]
  },
  {
   "cell_type": "code",
   "execution_count": 67,
   "id": "727b582b",
   "metadata": {},
   "outputs": [
    {
     "name": "stdout",
     "output_type": "stream",
     "text": [
      "90\n",
      "82\n",
      "100\n"
     ]
    }
   ],
   "source": [
    "\n",
    "kohli = [90, 82, 83, 100, 102]\n",
    "\n",
    "# 1st match\n",
    "print(kohli[0])\n",
    "\n",
    "# 2nd match\n",
    "print(kohli[1])\n",
    "\n",
    "\n",
    "n = 4\n",
    "# nth match\n",
    "print(kohli[n-1])"
   ]
  },
  {
   "cell_type": "code",
   "execution_count": 68,
   "id": "20d95faa",
   "metadata": {},
   "outputs": [
    {
     "name": "stdout",
     "output_type": "stream",
     "text": [
      "[90, 82, 83, 100, 102]\n"
     ]
    }
   ],
   "source": [
    "# Print all scores of Kohli\n",
    "print(kohli)"
   ]
  },
  {
   "cell_type": "markdown",
   "id": "70409c99",
   "metadata": {},
   "source": [
    "### Negative indexing"
   ]
  },
  {
   "cell_type": "code",
   "execution_count": 72,
   "id": "621989f9",
   "metadata": {},
   "outputs": [
    {
     "data": {
      "text/plain": [
       "(102, 102)"
      ]
     },
     "execution_count": 72,
     "metadata": {},
     "output_type": "execute_result"
    }
   ],
   "source": [
    "kohli[-1], kohli[len(kohli)-1]"
   ]
  },
  {
   "cell_type": "markdown",
   "id": "488ee00a",
   "metadata": {},
   "source": [
    "### Iteration"
   ]
  },
  {
   "cell_type": "code",
   "execution_count": 16,
   "id": "11c356aa",
   "metadata": {},
   "outputs": [
    {
     "name": "stdout",
     "output_type": "stream",
     "text": [
      "90\n",
      "82\n",
      "83\n",
      "100\n",
      "102\n"
     ]
    }
   ],
   "source": [
    "print(kohli[0])\n",
    "print(kohli[1])\n",
    "print(kohli[2])\n",
    "print(kohli[3])\n",
    "print(kohli[4])"
   ]
  },
  {
   "cell_type": "code",
   "execution_count": 17,
   "id": "dcafd34a",
   "metadata": {},
   "outputs": [
    {
     "name": "stdout",
     "output_type": "stream",
     "text": [
      "90\n",
      "82\n",
      "83\n",
      "100\n",
      "102\n"
     ]
    }
   ],
   "source": [
    "num_matches = len(kohli)\n",
    "i = 0\n",
    "\n",
    "while i<num_matches:\n",
    "    print(kohli[i])\n",
    "    i = i +1"
   ]
  },
  {
   "cell_type": "code",
   "execution_count": 19,
   "id": "f8fa75c4",
   "metadata": {},
   "outputs": [
    {
     "name": "stdout",
     "output_type": "stream",
     "text": [
      "91.4\n"
     ]
    }
   ],
   "source": [
    "# Average\n",
    "num_matches = len(kohli)\n",
    "i = 0\n",
    "s = 0\n",
    "\n",
    "while i<num_matches:\n",
    "    s = s + kohli[i]\n",
    "    i = i +1\n",
    "avg = s/num_matches\n",
    "print(avg)"
   ]
  },
  {
   "cell_type": "code",
   "execution_count": 20,
   "id": "8ac77434",
   "metadata": {},
   "outputs": [
    {
     "name": "stdout",
     "output_type": "stream",
     "text": [
      "143\n"
     ]
    }
   ],
   "source": [
    "expected_avg = 100\n",
    "expected_total = (num_matches+1)*expected_avg\n",
    "\n",
    "current_total = s\n",
    "new_score = expected_total - current_total\n",
    "print(new_score)"
   ]
  },
  {
   "cell_type": "markdown",
   "id": "31e30750",
   "metadata": {},
   "source": [
    "### Find highest (Method 1)"
   ]
  },
  {
   "cell_type": "code",
   "execution_count": 21,
   "id": "5d865d38",
   "metadata": {},
   "outputs": [
    {
     "name": "stdout",
     "output_type": "stream",
     "text": [
      "102\n"
     ]
    }
   ],
   "source": [
    "highest_thus_far = -1\n",
    "\n",
    "num_matches = len(kohli)\n",
    "\n",
    "i = 0\n",
    "\n",
    "while i < num_matches:\n",
    "    # Get score of ith match\n",
    "    ith_score = kohli[i]\n",
    "    if ith_score > highest_thus_far:\n",
    "        highest_thus_far = ith_score\n",
    "    i = i +1\n",
    "\n",
    "print(highest_thus_far)"
   ]
  },
  {
   "cell_type": "markdown",
   "id": "e2b16008",
   "metadata": {},
   "source": [
    "### Find lowest (Method 2)"
   ]
  },
  {
   "cell_type": "code",
   "execution_count": 22,
   "id": "f4fd2d6b",
   "metadata": {},
   "outputs": [
    {
     "name": "stdout",
     "output_type": "stream",
     "text": [
      "82\n"
     ]
    }
   ],
   "source": [
    "lowest_thus_far = 10000000000\n",
    "\n",
    "num_matches = len(kohli)\n",
    "\n",
    "i = 0\n",
    "\n",
    "while i < num_matches:\n",
    "    # Get score of ith match\n",
    "    ith_score = kohli[i]\n",
    "    if ith_score < lowest_thus_far:\n",
    "        lowest_thus_far = ith_score\n",
    "    i = i +1\n",
    "\n",
    "print(lowest_thus_far)"
   ]
  },
  {
   "cell_type": "markdown",
   "id": "315e26ab",
   "metadata": {},
   "source": [
    "### Find highest (Method 2) \n",
    "\n",
    "First number is assumed to be highest, check with remaining numbers"
   ]
  },
  {
   "cell_type": "code",
   "execution_count": 24,
   "id": "70dd042d",
   "metadata": {},
   "outputs": [
    {
     "name": "stdout",
     "output_type": "stream",
     "text": [
      "102\n"
     ]
    }
   ],
   "source": [
    "highest_thus_far = kohli[0]\n",
    "\n",
    "num_matches = len(kohli)\n",
    "\n",
    "i = 1\n",
    "\n",
    "while i < num_matches:\n",
    "    # Get score of ith match\n",
    "    ith_score = kohli[i]\n",
    "    if ith_score > highest_thus_far:\n",
    "        highest_thus_far = ith_score\n",
    "    i = i +1\n",
    "\n",
    "print(highest_thus_far)"
   ]
  },
  {
   "cell_type": "markdown",
   "id": "bab6eb5d",
   "metadata": {},
   "source": [
    "### Appending"
   ]
  },
  {
   "cell_type": "code",
   "execution_count": 28,
   "id": "a1ba42cf",
   "metadata": {},
   "outputs": [
    {
     "name": "stdout",
     "output_type": "stream",
     "text": [
      "[90, 82, 83, 100, 102]\n",
      "After considering new match\n",
      "[90, 82, 83, 100, 102, 145]\n"
     ]
    }
   ],
   "source": [
    "### Appending\n",
    "kohli = [90, 82, 83, 100, 102]\n",
    "\n",
    "new_match_score = 145\n",
    "\n",
    "print(kohli)\n",
    "\n",
    "kohli.append(new_match_score)\n",
    "print(\"After considering new match\")\n",
    "print(kohli)"
   ]
  },
  {
   "cell_type": "code",
   "execution_count": 42,
   "id": "e4201485",
   "metadata": {},
   "outputs": [],
   "source": [
    "###\n",
    "\n",
    "n = 15\n",
    "x = []\n",
    "y1 = [] # i**2\n",
    "y2 = [] # (i**3)/10\n"
   ]
  },
  {
   "cell_type": "code",
   "execution_count": 43,
   "id": "0d5a3919",
   "metadata": {},
   "outputs": [],
   "source": [
    "i = 1\n",
    "while i<=n:\n",
    "    x.append(i)\n",
    "    y1.append(i**2)\n",
    "    y2.append((i**3)/10)\n",
    "\n",
    "    i = i +1"
   ]
  },
  {
   "cell_type": "code",
   "execution_count": 44,
   "id": "468f5aac",
   "metadata": {},
   "outputs": [
    {
     "data": {
      "text/plain": [
       "[1, 2, 3, 4, 5, 6, 7, 8, 9, 10, 11, 12, 13, 14, 15]"
      ]
     },
     "execution_count": 44,
     "metadata": {},
     "output_type": "execute_result"
    }
   ],
   "source": [
    "x"
   ]
  },
  {
   "cell_type": "code",
   "execution_count": 45,
   "id": "563b6930",
   "metadata": {},
   "outputs": [
    {
     "data": {
      "text/plain": [
       "[1, 4, 9, 16, 25, 36, 49, 64, 81, 100, 121, 144, 169, 196, 225]"
      ]
     },
     "execution_count": 45,
     "metadata": {},
     "output_type": "execute_result"
    }
   ],
   "source": [
    "y1"
   ]
  },
  {
   "cell_type": "code",
   "execution_count": 46,
   "id": "f13f2ba8",
   "metadata": {},
   "outputs": [
    {
     "data": {
      "text/plain": [
       "[0.1,\n",
       " 0.8,\n",
       " 2.7,\n",
       " 6.4,\n",
       " 12.5,\n",
       " 21.6,\n",
       " 34.3,\n",
       " 51.2,\n",
       " 72.9,\n",
       " 100.0,\n",
       " 133.1,\n",
       " 172.8,\n",
       " 219.7,\n",
       " 274.4,\n",
       " 337.5]"
      ]
     },
     "execution_count": 46,
     "metadata": {},
     "output_type": "execute_result"
    }
   ],
   "source": [
    "y2"
   ]
  },
  {
   "cell_type": "code",
   "execution_count": 47,
   "id": "013c1ad4",
   "metadata": {},
   "outputs": [
    {
     "data": {
      "text/plain": [
       "<matplotlib.legend.Legend at 0x11f21faf0>"
      ]
     },
     "execution_count": 47,
     "metadata": {},
     "output_type": "execute_result"
    },
    {
     "data": {
      "image/png": "[encoded data removed]",
      "text/plain": [
       "<Figure size 432x288 with 1 Axes>"
      ]
     },
     "metadata": {
      "needs_background": "light"
     },
     "output_type": "display_data"
    }
   ],
   "source": [
    "%matplotlib inline\n",
    "import matplotlib.pyplot as plt\n",
    "\n",
    "plt.plot(x, y1, label='x^2')\n",
    "plt.plot(x, y2, label='(x^3)/10')\n",
    "plt.legend()"
   ]
  },
  {
   "cell_type": "markdown",
   "id": "37a2cf60",
   "metadata": {},
   "source": [
    "### Append (with multiple items)"
   ]
  },
  {
   "cell_type": "markdown",
   "id": "e68a7881",
   "metadata": {},
   "source": [
    "### Extend"
   ]
  },
  {
   "cell_type": "markdown",
   "id": "1c382b67",
   "metadata": {},
   "source": [
    "### Adding elements with +"
   ]
  },
  {
   "cell_type": "code",
   "execution_count": 48,
   "id": "dec59c7d",
   "metadata": {},
   "outputs": [],
   "source": [
    "x = []"
   ]
  },
  {
   "cell_type": "code",
   "execution_count": 50,
   "id": "95e49e0e",
   "metadata": {},
   "outputs": [
    {
     "data": {
      "text/plain": [
       "[10]"
      ]
     },
     "execution_count": 50,
     "metadata": {},
     "output_type": "execute_result"
    }
   ],
   "source": [
    "x = x + [10]\n",
    "x"
   ]
  },
  {
   "cell_type": "code",
   "execution_count": 51,
   "id": "4121175e",
   "metadata": {},
   "outputs": [
    {
     "data": {
      "text/plain": [
       "[20, 10]"
      ]
     },
     "execution_count": 51,
     "metadata": {},
     "output_type": "execute_result"
    }
   ],
   "source": [
    "x = [20] + x\n",
    "x"
   ]
  },
  {
   "cell_type": "code",
   "execution_count": 52,
   "id": "1c64f297",
   "metadata": {},
   "outputs": [
    {
     "data": {
      "text/plain": [
       "[1, 5, 20, 10]"
      ]
     },
     "execution_count": 52,
     "metadata": {},
     "output_type": "execute_result"
    }
   ],
   "source": [
    "x = [1, 5] + x\n",
    "x"
   ]
  },
  {
   "cell_type": "markdown",
   "id": "fc29b2ac",
   "metadata": {},
   "source": [
    "### Some other functions (max, min, sum)"
   ]
  },
  {
   "cell_type": "markdown",
   "id": "c7818aa8",
   "metadata": {},
   "source": [
    "### Map (transformation)\n",
    "\n",
    "Kohli's score increase by 4 in each match\n",
    "\n",
    "#### Create a new list"
   ]
  },
  {
   "cell_type": "markdown",
   "id": "7a835563",
   "metadata": {},
   "source": [
    "#### Inplace"
   ]
  },
  {
   "cell_type": "code",
   "execution_count": 55,
   "id": "c464ca75",
   "metadata": {},
   "outputs": [
    {
     "data": {
      "text/plain": [
       "[90, 82, 83, 100, 102, 145]"
      ]
     },
     "execution_count": 55,
     "metadata": {},
     "output_type": "execute_result"
    }
   ],
   "source": [
    "kohli"
   ]
  },
  {
   "cell_type": "code",
   "execution_count": 56,
   "id": "a7611815",
   "metadata": {},
   "outputs": [],
   "source": [
    "i  = 0\n",
    "while i<len(kohli):\n",
    "    kohli[i] = kohli[i] + 4\n",
    "    i = i +1\n"
   ]
  },
  {
   "cell_type": "code",
   "execution_count": 57,
   "id": "ed3efc58",
   "metadata": {},
   "outputs": [
    {
     "data": {
      "text/plain": [
       "[94, 86, 87, 104, 106, 149]"
      ]
     },
     "execution_count": 57,
     "metadata": {},
     "output_type": "execute_result"
    }
   ],
   "source": [
    "kohli"
   ]
  },
  {
   "cell_type": "markdown",
   "id": "c0e5fff7",
   "metadata": {},
   "source": [
    "### Filter"
   ]
  },
  {
   "cell_type": "markdown",
   "id": "fc98f562",
   "metadata": {},
   "source": [
    "### Reduce\n",
    "\n"
   ]
  },
  {
   "cell_type": "markdown",
   "id": "5f85314a",
   "metadata": {},
   "source": [
    "### in"
   ]
  },
  {
   "cell_type": "markdown",
   "id": "1c39cfb8",
   "metadata": {},
   "source": [
    "### Slicing\n",
    "\n",
    "x[start:stop:step]"
   ]
  },
  {
   "cell_type": "code",
   "execution_count": 58,
   "id": "0c03f984",
   "metadata": {},
   "outputs": [],
   "source": [
    "x = [1, 2, 3, 4, 5]"
   ]
  },
  {
   "cell_type": "code",
   "execution_count": 59,
   "id": "6f2bea06",
   "metadata": {},
   "outputs": [
    {
     "data": {
      "text/plain": [
       "[1, 2, 3, 4, 5]"
      ]
     },
     "execution_count": 59,
     "metadata": {},
     "output_type": "execute_result"
    }
   ],
   "source": [
    "x[0:5:1]"
   ]
  },
  {
   "cell_type": "code",
   "execution_count": 60,
   "id": "85a0b45c",
   "metadata": {},
   "outputs": [
    {
     "data": {
      "text/plain": [
       "[2, 3, 4, 5]"
      ]
     },
     "execution_count": 60,
     "metadata": {},
     "output_type": "execute_result"
    }
   ],
   "source": [
    "x[1:5:1]"
   ]
  },
  {
   "cell_type": "code",
   "execution_count": 61,
   "id": "4d7695b3",
   "metadata": {},
   "outputs": [
    {
     "data": {
      "text/plain": [
       "[2, 3, 4]"
      ]
     },
     "execution_count": 61,
     "metadata": {},
     "output_type": "execute_result"
    }
   ],
   "source": [
    "x[1:4:1]"
   ]
  },
  {
   "cell_type": "code",
   "execution_count": 62,
   "id": "bdf73749",
   "metadata": {},
   "outputs": [
    {
     "data": {
      "text/plain": [
       "[2, 4]"
      ]
     },
     "execution_count": 62,
     "metadata": {},
     "output_type": "execute_result"
    }
   ],
   "source": [
    "x[1:5:2]"
   ]
  },
  {
   "cell_type": "code",
   "execution_count": 63,
   "id": "85401317",
   "metadata": {},
   "outputs": [
    {
     "data": {
      "text/plain": [
       "[1, 3, 5]"
      ]
     },
     "execution_count": 63,
     "metadata": {},
     "output_type": "execute_result"
    }
   ],
   "source": [
    "x[::2]"
   ]
  },
  {
   "cell_type": "code",
   "execution_count": 64,
   "id": "32fb540d",
   "metadata": {},
   "outputs": [
    {
     "data": {
      "text/plain": [
       "[1, 4]"
      ]
     },
     "execution_count": 64,
     "metadata": {},
     "output_type": "execute_result"
    }
   ],
   "source": [
    "x[::3]"
   ]
  },
  {
   "cell_type": "code",
   "execution_count": 65,
   "id": "72431dd1",
   "metadata": {},
   "outputs": [
    {
     "data": {
      "text/plain": [
       "[5, 4, 3, 2, 1]"
      ]
     },
     "execution_count": 65,
     "metadata": {},
     "output_type": "execute_result"
    }
   ],
   "source": [
    "x[::-1]"
   ]
  },
  {
   "cell_type": "code",
   "execution_count": 73,
   "id": "b136d65d",
   "metadata": {},
   "outputs": [
    {
     "data": {
      "text/plain": [
       "[5, 3, 1]"
      ]
     },
     "execution_count": 73,
     "metadata": {},
     "output_type": "execute_result"
    }
   ],
   "source": [
    "x[::-2]"
   ]
  },
  {
   "cell_type": "code",
   "execution_count": 75,
   "id": "8bc315d1",
   "metadata": {},
   "outputs": [
    {
     "data": {
      "text/plain": [
       "[3, 2, 1]"
      ]
     },
     "execution_count": 75,
     "metadata": {},
     "output_type": "execute_result"
    }
   ],
   "source": [
    "x[2::-1]"
   ]
  },
  {
   "cell_type": "code",
   "execution_count": 76,
   "id": "793825c0",
   "metadata": {},
   "outputs": [
    {
     "data": {
      "text/plain": [
       "[3, 4, 5]"
      ]
     },
     "execution_count": 76,
     "metadata": {},
     "output_type": "execute_result"
    }
   ],
   "source": [
    "x[2::1]"
   ]
  },
  {
   "cell_type": "code",
   "execution_count": 77,
   "id": "96b3301b",
   "metadata": {},
   "outputs": [
    {
     "data": {
      "text/plain": [
       "[4, 5]"
      ]
     },
     "execution_count": 77,
     "metadata": {},
     "output_type": "execute_result"
    }
   ],
   "source": [
    "x[-2::1]"
   ]
  },
  {
   "cell_type": "code",
   "execution_count": 78,
   "id": "b21a063a",
   "metadata": {},
   "outputs": [
    {
     "data": {
      "text/plain": [
       "[4, 3, 2, 1]"
      ]
     },
     "execution_count": 78,
     "metadata": {},
     "output_type": "execute_result"
    }
   ],
   "source": [
    "x[-2::-1]"
   ]
  },
  {
   "cell_type": "code",
   "execution_count": 79,
   "id": "011387ec",
   "metadata": {},
   "outputs": [
    {
     "data": {
      "text/plain": [
       "[2, 3, 4]"
      ]
     },
     "execution_count": 79,
     "metadata": {},
     "output_type": "execute_result"
    }
   ],
   "source": [
    "x[1:-1:1]"
   ]
  },
  {
   "cell_type": "code",
   "execution_count": 80,
   "id": "96c077d8",
   "metadata": {},
   "outputs": [
    {
     "data": {
      "text/plain": [
       "[]"
      ]
     },
     "execution_count": 80,
     "metadata": {},
     "output_type": "execute_result"
    }
   ],
   "source": [
    "x[-1:-3:1]"
   ]
  },
  {
   "cell_type": "code",
   "execution_count": 81,
   "id": "9cc278a9",
   "metadata": {},
   "outputs": [
    {
     "data": {
      "text/plain": [
       "[5, 4]"
      ]
     },
     "execution_count": 81,
     "metadata": {},
     "output_type": "execute_result"
    }
   ],
   "source": [
    "x[-1:-3:-1]"
   ]
  },
  {
   "cell_type": "markdown",
   "id": "c889e018",
   "metadata": {},
   "source": [
    "### Mutability\n",
    "\n",
    "We can change values of elements in a list"
   ]
  },
  {
   "cell_type": "markdown",
   "id": "b90073e5",
   "metadata": {},
   "source": [
    "### List comprehensions\n",
    "\n"
   ]
  },
  {
   "cell_type": "markdown",
   "id": "6ff07e45",
   "metadata": {},
   "source": [
    "### Nested lists"
   ]
  },
  {
   "cell_type": "markdown",
   "id": "8d21b269",
   "metadata": {},
   "source": [
    "### range() function"
   ]
  },
  {
   "cell_type": "code",
   "execution_count": null,
   "id": "81bbf04a",
   "metadata": {},
   "outputs": [],
   "source": []
  }
 ],
 "metadata": {
  "kernelspec": {
   "display_name": "Python 3 (ipykernel)",
   "language": "python",
   "name": "python3"
  },
  "language_info": {
   "codemirror_mode": {
    "name": "ipython",
    "version": 3
   },
   "file_extension": ".py",
   "mimetype": "text/x-python",
   "name": "python",
   "nbconvert_exporter": "python",
   "pygments_lexer": "ipython3",
   "version": "3.8.13"
  }
 },
 "nbformat": 4,
 "nbformat_minor": 5
}
