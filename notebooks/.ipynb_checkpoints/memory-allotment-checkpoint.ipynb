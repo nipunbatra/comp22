{
 "cells": [
  {
   "cell_type": "markdown",
   "id": "2a1c9c3e",
   "metadata": {},
   "source": [
    "### Motivating example"
   ]
  },
  {
   "cell_type": "code",
   "execution_count": 1,
   "id": "2a5bc5d7",
   "metadata": {},
   "outputs": [
    {
     "name": "stdout",
     "output_type": "stream",
     "text": [
      "[1, 4, 3]\n",
      "[1, 4, 3]\n"
     ]
    }
   ],
   "source": [
    "x = [1, 2, 3]\n",
    "y = x\n",
    "\n",
    "y[1] = 4\n",
    "\n",
    "print(x)\n",
    "print(y)"
   ]
  },
  {
   "cell_type": "markdown",
   "id": "8dc60652",
   "metadata": {},
   "source": [
    "### Start with integers"
   ]
  },
  {
   "cell_type": "code",
   "execution_count": 58,
   "id": "36a6703e",
   "metadata": {},
   "outputs": [],
   "source": [
    "x = 500"
   ]
  },
  {
   "cell_type": "code",
   "execution_count": 59,
   "id": "da06626f",
   "metadata": {},
   "outputs": [
    {
     "data": {
      "text/plain": [
       "4424766704"
      ]
     },
     "execution_count": 59,
     "metadata": {},
     "output_type": "execute_result"
    }
   ],
   "source": [
    "id(x)"
   ]
  },
  {
   "cell_type": "code",
   "execution_count": 60,
   "id": "c0d26f9b",
   "metadata": {},
   "outputs": [
    {
     "data": {
      "text/plain": [
       "'0x107bc94f0'"
      ]
     },
     "execution_count": 60,
     "metadata": {},
     "output_type": "execute_result"
    }
   ],
   "source": [
    "hex(id(x))"
   ]
  },
  {
   "cell_type": "code",
   "execution_count": 62,
   "id": "7c046922",
   "metadata": {},
   "outputs": [
    {
     "data": {
      "text/plain": [
       "(4424766928, '0x107bc95d0')"
      ]
     },
     "execution_count": 62,
     "metadata": {},
     "output_type": "execute_result"
    }
   ],
   "source": [
    "x = 600\n",
    "id(x), hex(id(x))"
   ]
  },
  {
   "cell_type": "code",
   "execution_count": 63,
   "id": "5002ab10",
   "metadata": {},
   "outputs": [
    {
     "data": {
      "text/plain": [
       "(4424766928, '0x107bc95d0')"
      ]
     },
     "execution_count": 63,
     "metadata": {},
     "output_type": "execute_result"
    }
   ],
   "source": [
    "y = x\n",
    "id(y), hex(id(y))"
   ]
  },
  {
   "cell_type": "code",
   "execution_count": 64,
   "id": "2933a166",
   "metadata": {},
   "outputs": [
    {
     "data": {
      "text/plain": [
       "(4424767280, '0x107bc9730')"
      ]
     },
     "execution_count": 64,
     "metadata": {},
     "output_type": "execute_result"
    }
   ],
   "source": [
    "y = y + 2\n",
    "id(y), hex(id(y))"
   ]
  },
  {
   "cell_type": "markdown",
   "id": "37755fd3",
   "metadata": {},
   "source": [
    "#### == checks values are same, is checks same PyObject"
   ]
  },
  {
   "cell_type": "code",
   "execution_count": 65,
   "id": "829e59e0",
   "metadata": {},
   "outputs": [
    {
     "data": {
      "text/plain": [
       "(True, True)"
      ]
     },
     "execution_count": 65,
     "metadata": {},
     "output_type": "execute_result"
    }
   ],
   "source": [
    "x = 400\n",
    "y = x\n",
    "\n",
    "x is y, x == y"
   ]
  },
  {
   "cell_type": "code",
   "execution_count": 66,
   "id": "e02e30f2",
   "metadata": {},
   "outputs": [
    {
     "data": {
      "text/plain": [
       "(4424767696, 4424766256, False, True)"
      ]
     },
     "execution_count": 66,
     "metadata": {},
     "output_type": "execute_result"
    }
   ],
   "source": [
    "x = 400\n",
    "y = 400\n",
    "\n",
    "\n",
    "id(x), id(y), x is y, x == y"
   ]
  },
  {
   "cell_type": "code",
   "execution_count": 67,
   "id": "82fe5f93",
   "metadata": {},
   "outputs": [
    {
     "data": {
      "text/plain": [
       "(4308821824, 4308821824, 4308821824, 4308821824)"
      ]
     },
     "execution_count": 67,
     "metadata": {},
     "output_type": "execute_result"
    }
   ],
   "source": [
    "### Ref count is 4\n",
    "\n",
    "x = 10\n",
    "y = x\n",
    "z = x\n",
    "w = y\n",
    "\n",
    "id(x), id(y), id(z), id(w)\n"
   ]
  },
  {
   "cell_type": "code",
   "execution_count": 71,
   "id": "c78c6e8d",
   "metadata": {},
   "outputs": [
    {
     "data": {
      "text/plain": [
       "(4424767664, 4424767664, 4424767664)"
      ]
     },
     "execution_count": 71,
     "metadata": {},
     "output_type": "execute_result"
    }
   ],
   "source": [
    "### Ref count is 3\n",
    "\n",
    "a = b = c = 500\n",
    "\n",
    "id(a), id(b), id(c)"
   ]
  },
  {
   "cell_type": "code",
   "execution_count": 72,
   "id": "86f5683c",
   "metadata": {},
   "outputs": [
    {
     "data": {
      "text/plain": [
       "(4308827904, 4308827904)"
      ]
     },
     "execution_count": 72,
     "metadata": {},
     "output_type": "execute_result"
    }
   ],
   "source": [
    "x = 200\n",
    "y = 200\n",
    "\n",
    "id(x), id(y)"
   ]
  },
  {
   "cell_type": "code",
   "execution_count": 73,
   "id": "96e64bfc",
   "metadata": {},
   "outputs": [
    {
     "data": {
      "text/plain": [
       "(4308829696, 4308829696)"
      ]
     },
     "execution_count": 73,
     "metadata": {},
     "output_type": "execute_result"
    }
   ],
   "source": [
    "x = 256\n",
    "y = 256\n",
    "\n",
    "id(x), id(y)"
   ]
  },
  {
   "cell_type": "code",
   "execution_count": 74,
   "id": "68c8484d",
   "metadata": {},
   "outputs": [
    {
     "data": {
      "text/plain": [
       "(4424767856, 4424768176)"
      ]
     },
     "execution_count": 74,
     "metadata": {},
     "output_type": "execute_result"
    }
   ],
   "source": [
    "x = 257\n",
    "y = 257\n",
    "\n",
    "id(x), id(y)"
   ]
  },
  {
   "cell_type": "code",
   "execution_count": 76,
   "id": "e73ee1f1",
   "metadata": {},
   "outputs": [],
   "source": [
    "x = [400, 500]"
   ]
  },
  {
   "cell_type": "code",
   "execution_count": 77,
   "id": "3b5d1f4c",
   "metadata": {},
   "outputs": [
    {
     "data": {
      "text/plain": [
       "'0x107bcb840'"
      ]
     },
     "execution_count": 77,
     "metadata": {},
     "output_type": "execute_result"
    }
   ],
   "source": [
    "hex(id(x))"
   ]
  },
  {
   "cell_type": "code",
   "execution_count": 79,
   "id": "fdf769b9",
   "metadata": {},
   "outputs": [
    {
     "data": {
      "text/plain": [
       "('0x107bc9a10', '0x107bc9d50')"
      ]
     },
     "execution_count": 79,
     "metadata": {},
     "output_type": "execute_result"
    }
   ],
   "source": [
    "hex(id(x[0])), hex(id(x[1]))"
   ]
  },
  {
   "cell_type": "code",
   "execution_count": 80,
   "id": "27195380",
   "metadata": {},
   "outputs": [
    {
     "data": {
      "text/plain": [
       "(4424449728, 4424449728)"
      ]
     },
     "execution_count": 80,
     "metadata": {},
     "output_type": "execute_result"
    }
   ],
   "source": [
    "x = [400, 500]\n",
    "y = x\n",
    "\n",
    "id(x), id(y)"
   ]
  },
  {
   "cell_type": "code",
   "execution_count": 81,
   "id": "ff473088",
   "metadata": {},
   "outputs": [
    {
     "name": "stdout",
     "output_type": "stream",
     "text": [
      "[10, 500]\n",
      "[10, 500]\n"
     ]
    }
   ],
   "source": [
    "y[0] = 10\n",
    "print(x)\n",
    "print(y)"
   ]
  },
  {
   "cell_type": "code",
   "execution_count": 82,
   "id": "d59ec99c",
   "metadata": {},
   "outputs": [
    {
     "data": {
      "text/plain": [
       "(4363111808, 4424448896, 4424870656)"
      ]
     },
     "execution_count": 82,
     "metadata": {},
     "output_type": "execute_result"
    }
   ],
   "source": [
    "x = [400, 500, 600]\n",
    "y = x.copy()\n",
    "z = x[:]\n",
    "\n",
    "id(x), id(y), id(z)"
   ]
  },
  {
   "cell_type": "markdown",
   "id": "cc88d047",
   "metadata": {},
   "source": [
    "### Nested lists"
   ]
  },
  {
   "cell_type": "code",
   "execution_count": 105,
   "id": "c4c1ffd5",
   "metadata": {},
   "outputs": [
    {
     "data": {
      "text/plain": [
       "(4405103488, 4411681728)"
      ]
     },
     "execution_count": 105,
     "metadata": {},
     "output_type": "execute_result"
    }
   ],
   "source": [
    "a = [400, 500]\n",
    "b = [3, 4]\n",
    "\n",
    "id(a), id(b)"
   ]
  },
  {
   "cell_type": "code",
   "execution_count": 106,
   "id": "5fbd5c91",
   "metadata": {},
   "outputs": [
    {
     "name": "stdout",
     "output_type": "stream",
     "text": [
      "[[400, 500], [3, 4]]\n"
     ]
    },
    {
     "data": {
      "text/plain": [
       "'0x106c302c0'"
      ]
     },
     "execution_count": 106,
     "metadata": {},
     "output_type": "execute_result"
    }
   ],
   "source": [
    "x = [a, b]\n",
    "print(x)\n",
    "hex(id(x))"
   ]
  },
  {
   "cell_type": "code",
   "execution_count": 107,
   "id": "ac2d12c4",
   "metadata": {},
   "outputs": [
    {
     "data": {
      "text/plain": [
       "4405103488"
      ]
     },
     "execution_count": 107,
     "metadata": {},
     "output_type": "execute_result"
    }
   ],
   "source": [
    "id(x[0])"
   ]
  },
  {
   "cell_type": "code",
   "execution_count": 108,
   "id": "e3088c69",
   "metadata": {},
   "outputs": [
    {
     "data": {
      "text/plain": [
       "4411681728"
      ]
     },
     "execution_count": 108,
     "metadata": {},
     "output_type": "execute_result"
    }
   ],
   "source": [
    "id(x[1])"
   ]
  },
  {
   "cell_type": "code",
   "execution_count": 109,
   "id": "f62b5aa5",
   "metadata": {},
   "outputs": [
    {
     "name": "stdout",
     "output_type": "stream",
     "text": [
      "4405103488 4411681728\n",
      "4405103488 4411681728\n"
     ]
    }
   ],
   "source": [
    "y = x.copy()\n",
    "y\n",
    "\n",
    "print(id(x[0]), id(x[1]))\n",
    "print(id(y[0]), id(y[1]))\n"
   ]
  },
  {
   "cell_type": "code",
   "execution_count": 90,
   "id": "5f6b21ee",
   "metadata": {},
   "outputs": [
    {
     "data": {
      "text/plain": [
       "(4424868224, 4424806080)"
      ]
     },
     "execution_count": 90,
     "metadata": {},
     "output_type": "execute_result"
    }
   ],
   "source": [
    "id(y), id(x)"
   ]
  },
  {
   "cell_type": "code",
   "execution_count": 91,
   "id": "bcd6f28f",
   "metadata": {},
   "outputs": [
    {
     "data": {
      "text/plain": [
       "(4363107840, 4363107840)"
      ]
     },
     "execution_count": 91,
     "metadata": {},
     "output_type": "execute_result"
    }
   ],
   "source": [
    "id(y[0]), id(x[0])"
   ]
  },
  {
   "cell_type": "code",
   "execution_count": 92,
   "id": "5797e3fd",
   "metadata": {},
   "outputs": [
    {
     "data": {
      "text/plain": [
       "([[1, 2], [3, 4], [4, 10]], [[1, 2], [3, 4]], 4424806080, 4424868224)"
      ]
     },
     "execution_count": 92,
     "metadata": {},
     "output_type": "execute_result"
    }
   ],
   "source": [
    "x.append([4, 10])\n",
    "x, y, id(x), id(y)"
   ]
  },
  {
   "cell_type": "markdown",
   "id": "af43c0a0",
   "metadata": {},
   "source": [
    "### It breaks!"
   ]
  },
  {
   "cell_type": "code",
   "execution_count": 93,
   "id": "8e7348d2",
   "metadata": {},
   "outputs": [
    {
     "name": "stdout",
     "output_type": "stream",
     "text": [
      "[[1, 2], [3, 4], [4, 10]]\n",
      "[[1, 2], [3, 4]]\n"
     ]
    }
   ],
   "source": [
    "print(x)\n",
    "print(y)"
   ]
  },
  {
   "cell_type": "code",
   "execution_count": 94,
   "id": "ff7adfcb",
   "metadata": {},
   "outputs": [
    {
     "data": {
      "text/plain": [
       "([[99, 2], [3, 4], [4, 10]], [[99, 2], [3, 4]])"
      ]
     },
     "execution_count": 94,
     "metadata": {},
     "output_type": "execute_result"
    }
   ],
   "source": [
    "y[0][0] = 99\n",
    "\n",
    "x, y"
   ]
  },
  {
   "cell_type": "code",
   "execution_count": 96,
   "id": "04839906",
   "metadata": {},
   "outputs": [
    {
     "data": {
      "text/plain": [
       "([[1, 2], [3, 4]], [[4, 2], [3, 4]])"
      ]
     },
     "execution_count": 96,
     "metadata": {},
     "output_type": "execute_result"
    }
   ],
   "source": [
    "a = [1, 2]\n",
    "b = [3, 4]\n",
    "from copy import deepcopy\n",
    "x = [a, b]\n",
    "y = deepcopy(x)\n",
    "\n",
    "id(x), id(y)\n",
    "\n",
    "y[0][0] = 4\n",
    "\n",
    "x, y"
   ]
  },
  {
   "cell_type": "code",
   "execution_count": 97,
   "id": "63af0cc1",
   "metadata": {},
   "outputs": [
    {
     "data": {
      "text/plain": [
       "(4408391168, 4424823744)"
      ]
     },
     "execution_count": 97,
     "metadata": {},
     "output_type": "execute_result"
    }
   ],
   "source": [
    "id(x), id(y)"
   ]
  },
  {
   "cell_type": "code",
   "execution_count": 99,
   "id": "2f77273e",
   "metadata": {},
   "outputs": [
    {
     "name": "stdout",
     "output_type": "stream",
     "text": [
      "4408331072 4424868096\n",
      "4405961344 4408328832\n"
     ]
    }
   ],
   "source": [
    "print(id(x[0]), id(x[1]))\n",
    "print(id(y[0]), id(y[1]))\n"
   ]
  },
  {
   "cell_type": "code",
   "execution_count": 111,
   "id": "1071737b",
   "metadata": {},
   "outputs": [
    {
     "data": {
      "text/plain": [
       "(4424927376, 4424927696, 4424927696)"
      ]
     },
     "execution_count": 111,
     "metadata": {},
     "output_type": "execute_result"
    }
   ],
   "source": [
    "x = [400, 500, 500]\n",
    "id(x[0]), id(x[1]), id(x[2])\n",
    "\n",
    "x[]"
   ]
  },
  {
   "cell_type": "code",
   "execution_count": null,
   "id": "2c47b013",
   "metadata": {},
   "outputs": [],
   "source": [
    "b = [1, 2, 3, 4]\n"
   ]
  },
  {
   "cell_type": "code",
   "execution_count": 112,
   "id": "31c1c8cd",
   "metadata": {},
   "outputs": [
    {
     "data": {
      "text/plain": [
       "4424515648"
      ]
     },
     "execution_count": 112,
     "metadata": {},
     "output_type": "execute_result"
    }
   ],
   "source": [
    "row = [0, 0, 0]\n",
    "\n",
    "id(row)"
   ]
  },
  {
   "cell_type": "code",
   "execution_count": 114,
   "id": "6435fac4",
   "metadata": {},
   "outputs": [
    {
     "data": {
      "text/plain": [
       "4425022016"
      ]
     },
     "execution_count": 114,
     "metadata": {},
     "output_type": "execute_result"
    }
   ],
   "source": [
    "mat = [row, row, row]\n",
    "id(mat)"
   ]
  },
  {
   "cell_type": "code",
   "execution_count": 116,
   "id": "c4fdada0",
   "metadata": {},
   "outputs": [
    {
     "data": {
      "text/plain": [
       "(4424515648, 4424515648, 4424515648)"
      ]
     },
     "execution_count": 116,
     "metadata": {},
     "output_type": "execute_result"
    }
   ],
   "source": [
    "id(mat[0]), id(mat[1]), id(mat[2])"
   ]
  },
  {
   "cell_type": "markdown",
   "id": "d8c2865d",
   "metadata": {},
   "source": [
    "References\n",
    "\n",
    "1. https://www.youtube.com/watch?v=0Om2gYU6clE&t=387s\n",
    "2. http://foobarnbaz.com/2012/07/08/understanding-python-variables/\n",
    "3. https://stackoverflow.com/questions/306313/is-operator-behaves-unexpectedly-with-integers\n",
    "4. https://stackoverflow.com/questions/27683764/what-is-a-pyobject-in-python\n",
    "5. https://pythonextensionpatterns.readthedocs.io/en/latest/refcount.html\n",
    "6. https://www.youtube.com/watch?v=54NWGAYhfbc\n",
    "7. https://luminousmen.com/post/interning-in-cpython/\n",
    "8. http://henry.precheur.org/python/copy_list"
   ]
  }
 ],
 "metadata": {
  "kernelspec": {
   "display_name": "Python 3 (ipykernel)",
   "language": "python",
   "name": "python3"
  },
  "language_info": {
   "codemirror_mode": {
    "name": "ipython",
    "version": 3
   },
   "file_extension": ".py",
   "mimetype": "text/x-python",
   "name": "python",
   "nbconvert_exporter": "python",
   "pygments_lexer": "ipython3",
   "version": "3.8.13"
  }
 },
 "nbformat": 4,
 "nbformat_minor": 5
}
