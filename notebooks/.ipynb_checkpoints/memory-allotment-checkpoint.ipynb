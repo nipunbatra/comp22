{
 "cells": [
  {
   "cell_type": "markdown",
   "id": "6aa30f79",
   "metadata": {},
   "source": [
    "### Motivating example"
   ]
  },
  {
   "cell_type": "code",
   "execution_count": 1,
   "id": "1b1bd5d5",
   "metadata": {},
   "outputs": [
    {
     "name": "stdout",
     "output_type": "stream",
     "text": [
      "[1, 4, 3]\n",
      "[1, 4, 3]\n"
     ]
    }
   ],
   "source": [
    "x = [1, 2, 3]\n",
    "y = x\n",
    "\n",
    "y[1] = 4\n",
    "\n",
    "print(x)\n",
    "print(y)"
   ]
  },
  {
   "cell_type": "markdown",
   "id": "7d910abb",
   "metadata": {},
   "source": [
    "### Start with integers"
   ]
  },
  {
   "cell_type": "code",
   "execution_count": 58,
   "id": "2b615144",
   "metadata": {},
   "outputs": [],
   "source": [
    "x = 500"
   ]
  },
  {
   "cell_type": "code",
   "execution_count": 59,
   "id": "a19768e7",
   "metadata": {},
   "outputs": [
    {
     "data": {
      "text/plain": [
       "4424766704"
      ]
     },
     "execution_count": 59,
     "metadata": {},
     "output_type": "execute_result"
    }
   ],
   "source": [
    "id(x)"
   ]
  },
  {
   "cell_type": "code",
   "execution_count": 60,
   "id": "7e69103e",
   "metadata": {},
   "outputs": [
    {
     "data": {
      "text/plain": [
       "'0x107bc94f0'"
      ]
     },
     "execution_count": 60,
     "metadata": {},
     "output_type": "execute_result"
    }
   ],
   "source": [
    "hex(id(x))"
   ]
  },
  {
   "cell_type": "code",
   "execution_count": 62,
   "id": "e593705e",
   "metadata": {},
   "outputs": [
    {
     "data": {
      "text/plain": [
       "(4424766928, '0x107bc95d0')"
      ]
     },
     "execution_count": 62,
     "metadata": {},
     "output_type": "execute_result"
    }
   ],
   "source": [
    "x = 600\n",
    "id(x), hex(id(x))"
   ]
  },
  {
   "cell_type": "code",
   "execution_count": 63,
   "id": "b2f53f95",
   "metadata": {},
   "outputs": [
    {
     "data": {
      "text/plain": [
       "(4424766928, '0x107bc95d0')"
      ]
     },
     "execution_count": 63,
     "metadata": {},
     "output_type": "execute_result"
    }
   ],
   "source": [
    "y = x\n",
    "id(y), hex(id(y))"
   ]
  },
  {
   "cell_type": "code",
   "execution_count": 64,
   "id": "c99c3f97",
   "metadata": {},
   "outputs": [
    {
     "data": {
      "text/plain": [
       "(4424767280, '0x107bc9730')"
      ]
     },
     "execution_count": 64,
     "metadata": {},
     "output_type": "execute_result"
    }
   ],
   "source": [
    "y = y + 2\n",
    "id(y), hex(id(y))"
   ]
  },
  {
   "cell_type": "markdown",
   "id": "75bcc101",
   "metadata": {},
   "source": [
    "#### == checks values are same, is checks same PyObject"
   ]
  },
  {
   "cell_type": "code",
   "execution_count": 65,
   "id": "054c2434",
   "metadata": {},
   "outputs": [
    {
     "data": {
      "text/plain": [
       "(True, True)"
      ]
     },
     "execution_count": 65,
     "metadata": {},
     "output_type": "execute_result"
    }
   ],
   "source": [
    "x = 400\n",
    "y = x\n",
    "\n",
    "x is y, x == y"
   ]
  },
  {
   "cell_type": "code",
   "execution_count": 66,
   "id": "ae744a26",
   "metadata": {},
   "outputs": [
    {
     "data": {
      "text/plain": [
       "(4424767696, 4424766256, False, True)"
      ]
     },
     "execution_count": 66,
     "metadata": {},
     "output_type": "execute_result"
    }
   ],
   "source": [
    "x = 400\n",
    "y = 400\n",
    "\n",
    "\n",
    "id(x), id(y), x is y, x == y"
   ]
  },
  {
   "cell_type": "code",
   "execution_count": 67,
   "id": "f11751c3",
   "metadata": {},
   "outputs": [
    {
     "data": {
      "text/plain": [
       "(4308821824, 4308821824, 4308821824, 4308821824)"
      ]
     },
     "execution_count": 67,
     "metadata": {},
     "output_type": "execute_result"
    }
   ],
   "source": [
    "### Ref count is 4\n",
    "\n",
    "x = 10\n",
    "y = x\n",
    "z = x\n",
    "w = y\n",
    "\n",
    "id(x), id(y), id(z), id(w)\n"
   ]
  },
  {
   "cell_type": "code",
   "execution_count": 71,
   "id": "ceb27e1a",
   "metadata": {},
   "outputs": [
    {
     "data": {
      "text/plain": [
       "(4424767664, 4424767664, 4424767664)"
      ]
     },
     "execution_count": 71,
     "metadata": {},
     "output_type": "execute_result"
    }
   ],
   "source": [
    "### Ref count is 3\n",
    "\n",
    "a = b = c = 500\n",
    "\n",
    "id(a), id(b), id(c)"
   ]
  },
  {
   "cell_type": "code",
   "execution_count": 72,
   "id": "54ac3a15",
   "metadata": {},
   "outputs": [
    {
     "data": {
      "text/plain": [
       "(4308827904, 4308827904)"
      ]
     },
     "execution_count": 72,
     "metadata": {},
     "output_type": "execute_result"
    }
   ],
   "source": [
    "x = 200\n",
    "y = 200\n",
    "\n",
    "id(x), id(y)"
   ]
  },
  {
   "cell_type": "code",
   "execution_count": 73,
   "id": "7924cfdd",
   "metadata": {},
   "outputs": [
    {
     "data": {
      "text/plain": [
       "(4308829696, 4308829696)"
      ]
     },
     "execution_count": 73,
     "metadata": {},
     "output_type": "execute_result"
    }
   ],
   "source": [
    "x = 256\n",
    "y = 256\n",
    "\n",
    "id(x), id(y)"
   ]
  },
  {
   "cell_type": "code",
   "execution_count": 74,
   "id": "74c8a5c3",
   "metadata": {},
   "outputs": [
    {
     "data": {
      "text/plain": [
       "(4424767856, 4424768176)"
      ]
     },
     "execution_count": 74,
     "metadata": {},
     "output_type": "execute_result"
    }
   ],
   "source": [
    "x = 257\n",
    "y = 257\n",
    "\n",
    "id(x), id(y)"
   ]
  },
  {
   "cell_type": "code",
   "execution_count": 76,
   "id": "21431c25",
   "metadata": {},
   "outputs": [],
   "source": [
    "x = [400, 500]"
   ]
  },
  {
   "cell_type": "code",
   "execution_count": 77,
   "id": "c15b8689",
   "metadata": {},
   "outputs": [
    {
     "data": {
      "text/plain": [
       "'0x107bcb840'"
      ]
     },
     "execution_count": 77,
     "metadata": {},
     "output_type": "execute_result"
    }
   ],
   "source": [
    "hex(id(x))"
   ]
  },
  {
   "cell_type": "code",
   "execution_count": 79,
   "id": "b4ad94a6",
   "metadata": {},
   "outputs": [
    {
     "data": {
      "text/plain": [
       "('0x107bc9a10', '0x107bc9d50')"
      ]
     },
     "execution_count": 79,
     "metadata": {},
     "output_type": "execute_result"
    }
   ],
   "source": [
    "hex(id(x[0])), hex(id(x[1]))"
   ]
  },
  {
   "cell_type": "code",
   "execution_count": 80,
   "id": "4e107f79",
   "metadata": {},
   "outputs": [
    {
     "data": {
      "text/plain": [
       "(4424449728, 4424449728)"
      ]
     },
     "execution_count": 80,
     "metadata": {},
     "output_type": "execute_result"
    }
   ],
   "source": [
    "x = [400, 500]\n",
    "y = x\n",
    "\n",
    "id(x), id(y)"
   ]
  },
  {
   "cell_type": "code",
   "execution_count": 81,
   "id": "cdef2093",
   "metadata": {},
   "outputs": [
    {
     "name": "stdout",
     "output_type": "stream",
     "text": [
      "[10, 500]\n",
      "[10, 500]\n"
     ]
    }
   ],
   "source": [
    "y[0] = 10\n",
    "print(x)\n",
    "print(y)"
   ]
  },
  {
   "cell_type": "code",
   "execution_count": 82,
   "id": "3dfc8d57",
   "metadata": {},
   "outputs": [
    {
     "data": {
      "text/plain": [
       "(4363111808, 4424448896, 4424870656)"
      ]
     },
     "execution_count": 82,
     "metadata": {},
     "output_type": "execute_result"
    }
   ],
   "source": [
    "x = [400, 500, 600]\n",
    "y = x.copy()\n",
    "z = x[:]\n",
    "\n",
    "id(x), id(y), id(z)"
   ]
  },
  {
   "cell_type": "markdown",
   "id": "ebff1b12",
   "metadata": {},
   "source": [
    "### Nested lists"
   ]
  },
  {
   "cell_type": "code",
   "execution_count": 105,
   "id": "b1d4e6e5",
   "metadata": {},
   "outputs": [
    {
     "data": {
      "text/plain": [
       "(4405103488, 4411681728)"
      ]
     },
     "execution_count": 105,
     "metadata": {},
     "output_type": "execute_result"
    }
   ],
   "source": [
    "a = [400, 500]\n",
    "b = [3, 4]\n",
    "\n",
    "id(a), id(b)"
   ]
  },
  {
   "cell_type": "code",
   "execution_count": 106,
   "id": "dc565e3c",
   "metadata": {},
   "outputs": [
    {
     "name": "stdout",
     "output_type": "stream",
     "text": [
      "[[400, 500], [3, 4]]\n"
     ]
    },
    {
     "data": {
      "text/plain": [
       "'0x106c302c0'"
      ]
     },
     "execution_count": 106,
     "metadata": {},
     "output_type": "execute_result"
    }
   ],
   "source": [
    "x = [a, b]\n",
    "print(x)\n",
    "hex(id(x))"
   ]
  },
  {
   "cell_type": "code",
   "execution_count": 107,
   "id": "9704daaa",
   "metadata": {},
   "outputs": [
    {
     "data": {
      "text/plain": [
       "4405103488"
      ]
     },
     "execution_count": 107,
     "metadata": {},
     "output_type": "execute_result"
    }
   ],
   "source": [
    "id(x[0])"
   ]
  },
  {
   "cell_type": "code",
   "execution_count": 108,
   "id": "12e6fd03",
   "metadata": {},
   "outputs": [
    {
     "data": {
      "text/plain": [
       "4411681728"
      ]
     },
     "execution_count": 108,
     "metadata": {},
     "output_type": "execute_result"
    }
   ],
   "source": [
    "id(x[1])"
   ]
  },
  {
   "cell_type": "code",
   "execution_count": 109,
   "id": "c8dbcf68",
   "metadata": {},
   "outputs": [
    {
     "name": "stdout",
     "output_type": "stream",
     "text": [
      "4405103488 4411681728\n",
      "4405103488 4411681728\n"
     ]
    }
   ],
   "source": [
    "y = x.copy()\n",
    "y\n",
    "\n",
    "print(id(x[0]), id(x[1]))\n",
    "print(id(y[0]), id(y[1]))\n"
   ]
  },
  {
   "cell_type": "code",
   "execution_count": 90,
   "id": "f90daf60",
   "metadata": {},
   "outputs": [
    {
     "data": {
      "text/plain": [
       "(4424868224, 4424806080)"
      ]
     },
     "execution_count": 90,
     "metadata": {},
     "output_type": "execute_result"
    }
   ],
   "source": [
    "id(y), id(x)"
   ]
  },
  {
   "cell_type": "code",
   "execution_count": 91,
   "id": "3f24233d",
   "metadata": {},
   "outputs": [
    {
     "data": {
      "text/plain": [
       "(4363107840, 4363107840)"
      ]
     },
     "execution_count": 91,
     "metadata": {},
     "output_type": "execute_result"
    }
   ],
   "source": [
    "id(y[0]), id(x[0])"
   ]
  },
  {
   "cell_type": "code",
   "execution_count": 92,
   "id": "ab3fb1d3",
   "metadata": {},
   "outputs": [
    {
     "data": {
      "text/plain": [
       "([[1, 2], [3, 4], [4, 10]], [[1, 2], [3, 4]], 4424806080, 4424868224)"
      ]
     },
     "execution_count": 92,
     "metadata": {},
     "output_type": "execute_result"
    }
   ],
   "source": [
    "x.append([4, 10])\n",
    "x, y, id(x), id(y)"
   ]
  },
  {
   "cell_type": "markdown",
   "id": "7a4b1889",
   "metadata": {},
   "source": [
    "### It breaks!"
   ]
  },
  {
   "cell_type": "code",
   "execution_count": 93,
   "id": "3a353c44",
   "metadata": {},
   "outputs": [
    {
     "name": "stdout",
     "output_type": "stream",
     "text": [
      "[[1, 2], [3, 4], [4, 10]]\n",
      "[[1, 2], [3, 4]]\n"
     ]
    }
   ],
   "source": [
    "print(x)\n",
    "print(y)"
   ]
  },
  {
   "cell_type": "code",
   "execution_count": 94,
   "id": "00345ca8",
   "metadata": {},
   "outputs": [
    {
     "data": {
      "text/plain": [
       "([[99, 2], [3, 4], [4, 10]], [[99, 2], [3, 4]])"
      ]
     },
     "execution_count": 94,
     "metadata": {},
     "output_type": "execute_result"
    }
   ],
   "source": [
    "y[0][0] = 99\n",
    "\n",
    "x, y"
   ]
  },
  {
   "cell_type": "code",
   "execution_count": 96,
   "id": "f5c2455c",
   "metadata": {},
   "outputs": [
    {
     "data": {
      "text/plain": [
       "([[1, 2], [3, 4]], [[4, 2], [3, 4]])"
      ]
     },
     "execution_count": 96,
     "metadata": {},
     "output_type": "execute_result"
    }
   ],
   "source": [
    "a = [1, 2]\n",
    "b = [3, 4]\n",
    "from copy import deepcopy\n",
    "x = [a, b]\n",
    "y = deepcopy(x)\n",
    "\n",
    "id(x), id(y)\n",
    "\n",
    "y[0][0] = 4\n",
    "\n",
    "x, y"
   ]
  },
  {
   "cell_type": "code",
   "execution_count": 97,
   "id": "7dbe7e23",
   "metadata": {},
   "outputs": [
    {
     "data": {
      "text/plain": [
       "(4408391168, 4424823744)"
      ]
     },
     "execution_count": 97,
     "metadata": {},
     "output_type": "execute_result"
    }
   ],
   "source": [
    "id(x), id(y)"
   ]
  },
  {
   "cell_type": "code",
   "execution_count": 99,
   "id": "0e8a5aa3",
   "metadata": {},
   "outputs": [
    {
     "name": "stdout",
     "output_type": "stream",
     "text": [
      "4408331072 4424868096\n",
      "4405961344 4408328832\n"
     ]
    }
   ],
   "source": [
    "print(id(x[0]), id(x[1]))\n",
    "print(id(y[0]), id(y[1]))\n"
   ]
  },
  {
   "cell_type": "code",
   "execution_count": 111,
   "id": "c77c6e0b",
   "metadata": {},
   "outputs": [
    {
     "data": {
      "text/plain": [
       "(4424927376, 4424927696, 4424927696)"
      ]
     },
     "execution_count": 111,
     "metadata": {},
     "output_type": "execute_result"
    }
   ],
   "source": [
    "x = [400, 500, 500]\n",
    "id(x[0]), id(x[1]), id(x[2])\n",
    "\n",
    "x[]"
   ]
  },
  {
   "cell_type": "code",
   "execution_count": null,
   "id": "77ec3ebf",
   "metadata": {},
   "outputs": [],
   "source": [
    "b = [1, 2, 3, 4]\n"
   ]
  },
  {
   "cell_type": "code",
   "execution_count": 112,
   "id": "359c5aa6",
   "metadata": {},
   "outputs": [
    {
     "data": {
      "text/plain": [
       "4424515648"
      ]
     },
     "execution_count": 112,
     "metadata": {},
     "output_type": "execute_result"
    }
   ],
   "source": [
    "row = [0, 0, 0]\n",
    "\n",
    "id(row)"
   ]
  },
  {
   "cell_type": "code",
   "execution_count": 114,
   "id": "9698b82f",
   "metadata": {},
   "outputs": [
    {
     "data": {
      "text/plain": [
       "4425022016"
      ]
     },
     "execution_count": 114,
     "metadata": {},
     "output_type": "execute_result"
    }
   ],
   "source": [
    "mat = [row, row, row]\n",
    "id(mat)"
   ]
  },
  {
   "cell_type": "code",
   "execution_count": 116,
   "id": "e09f1950",
   "metadata": {},
   "outputs": [
    {
     "data": {
      "text/plain": [
       "(4424515648, 4424515648, 4424515648)"
      ]
     },
     "execution_count": 116,
     "metadata": {},
     "output_type": "execute_result"
    }
   ],
   "source": [
    "id(mat[0]), id(mat[1]), id(mat[2])"
   ]
  },
  {
   "cell_type": "markdown",
   "id": "8c0c3d64",
   "metadata": {},
   "source": [
    "References\n",
    "\n",
    "1. https://www.youtube.com/watch?v=0Om2gYU6clE&t=387s\n",
    "2. http://foobarnbaz.com/2012/07/08/understanding-python-variables/\n",
    "3. https://stackoverflow.com/questions/306313/is-operator-behaves-unexpectedly-with-integers\n",
    "4. https://stackoverflow.com/questions/27683764/what-is-a-pyobject-in-python\n",
    "5. https://pythonextensionpatterns.readthedocs.io/en/latest/refcount.html\n",
    "6. https://www.youtube.com/watch?v=54NWGAYhfbc\n",
    "7. https://luminousmen.com/post/interning-in-cpython/\n",
    "8. http://henry.precheur.org/python/copy_list"
   ]
  }
 ],
 "metadata": {
  "kernelspec": {
   "display_name": "Python 3 (ipykernel)",
   "language": "python",
   "name": "python3"
  },
  "language_info": {
   "codemirror_mode": {
    "name": "ipython",
    "version": 3
   },
   "file_extension": ".py",
   "mimetype": "text/x-python",
   "name": "python",
   "nbconvert_exporter": "python",
   "pygments_lexer": "ipython3",
   "version": "3.8.13"
  }
 },
 "nbformat": 4,
 "nbformat_minor": 5
}
