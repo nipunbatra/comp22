{
 "cells": [
  {
   "cell_type": "markdown",
   "id": "da7c7983",
   "metadata": {},
   "source": [
    "### Motivating example"
   ]
  },
  {
   "cell_type": "code",
   "execution_count": 1,
   "id": "ec0d2750",
   "metadata": {},
   "outputs": [
    {
     "name": "stdout",
     "output_type": "stream",
     "text": [
      "[1, 4, 3]\n",
      "[1, 4, 3]\n"
     ]
    }
   ],
   "source": [
    "x = [1, 2, 3]\n",
    "y = x\n",
    "\n",
    "y[1] = 4\n",
    "\n",
    "print(x)\n",
    "print(y)"
   ]
  },
  {
   "cell_type": "markdown",
   "id": "421b9e8a",
   "metadata": {},
   "source": [
    "### Start with integers"
   ]
  },
  {
   "cell_type": "code",
   "execution_count": 7,
   "id": "4301db78",
   "metadata": {},
   "outputs": [],
   "source": [
    "x = 400"
   ]
  },
  {
   "cell_type": "code",
   "execution_count": 8,
   "id": "a34535a9",
   "metadata": {},
   "outputs": [
    {
     "data": {
      "text/plain": [
       "4362748368"
      ]
     },
     "execution_count": 8,
     "metadata": {},
     "output_type": "execute_result"
    }
   ],
   "source": [
    "id(x)"
   ]
  },
  {
   "cell_type": "code",
   "execution_count": 9,
   "id": "b676e530",
   "metadata": {},
   "outputs": [
    {
     "data": {
      "text/plain": [
       "'0x1040a41d0'"
      ]
     },
     "execution_count": 9,
     "metadata": {},
     "output_type": "execute_result"
    }
   ],
   "source": [
    "hex(id(x))"
   ]
  },
  {
   "cell_type": "code",
   "execution_count": 10,
   "id": "fdbaebdd",
   "metadata": {},
   "outputs": [
    {
     "data": {
      "text/plain": [
       "4362750576"
      ]
     },
     "execution_count": 10,
     "metadata": {},
     "output_type": "execute_result"
    }
   ],
   "source": [
    "x = 600\n",
    "id(x)"
   ]
  },
  {
   "cell_type": "code",
   "execution_count": 11,
   "id": "046a9cf8",
   "metadata": {},
   "outputs": [
    {
     "data": {
      "text/plain": [
       "4362750576"
      ]
     },
     "execution_count": 11,
     "metadata": {},
     "output_type": "execute_result"
    }
   ],
   "source": [
    "y = x\n",
    "id(y)"
   ]
  },
  {
   "cell_type": "code",
   "execution_count": 12,
   "id": "8f358033",
   "metadata": {},
   "outputs": [
    {
     "data": {
      "text/plain": [
       "4362750704"
      ]
     },
     "execution_count": 12,
     "metadata": {},
     "output_type": "execute_result"
    }
   ],
   "source": [
    "y = y + 2\n",
    "id(y)"
   ]
  },
  {
   "cell_type": "code",
   "execution_count": 13,
   "id": "eac177bc",
   "metadata": {},
   "outputs": [
    {
     "data": {
      "text/plain": [
       "(True, True)"
      ]
     },
     "execution_count": 13,
     "metadata": {},
     "output_type": "execute_result"
    }
   ],
   "source": [
    "x = 400\n",
    "y = x\n",
    "\n",
    "x is y, x == y"
   ]
  },
  {
   "cell_type": "code",
   "execution_count": 14,
   "id": "9f82bb67",
   "metadata": {},
   "outputs": [
    {
     "data": {
      "text/plain": [
       "(False, True)"
      ]
     },
     "execution_count": 14,
     "metadata": {},
     "output_type": "execute_result"
    }
   ],
   "source": [
    "x = 400\n",
    "y = 400\n",
    "\n",
    "x is y, x == y"
   ]
  },
  {
   "cell_type": "code",
   "execution_count": 15,
   "id": "65953b3d",
   "metadata": {},
   "outputs": [
    {
     "data": {
      "text/plain": [
       "(4308827904, 4308827904)"
      ]
     },
     "execution_count": 15,
     "metadata": {},
     "output_type": "execute_result"
    }
   ],
   "source": [
    "x = 200\n",
    "y = 200\n",
    "\n",
    "id(x), id(y)"
   ]
  },
  {
   "cell_type": "code",
   "execution_count": 16,
   "id": "7a36a242",
   "metadata": {},
   "outputs": [
    {
     "data": {
      "text/plain": [
       "(4308821344, 4308821344)"
      ]
     },
     "execution_count": 16,
     "metadata": {},
     "output_type": "execute_result"
    }
   ],
   "source": [
    "x = -5\n",
    "y = -5\n",
    "\n",
    "id(x), id(y)"
   ]
  },
  {
   "cell_type": "code",
   "execution_count": 17,
   "id": "a438ab2e",
   "metadata": {},
   "outputs": [
    {
     "data": {
      "text/plain": [
       "(4308829696, 4308829696)"
      ]
     },
     "execution_count": 17,
     "metadata": {},
     "output_type": "execute_result"
    }
   ],
   "source": [
    "x = 256\n",
    "y = 256\n",
    "\n",
    "id(x), id(y)"
   ]
  },
  {
   "cell_type": "code",
   "execution_count": 18,
   "id": "0a3f7ea4",
   "metadata": {},
   "outputs": [
    {
     "data": {
      "text/plain": [
       "(4362750832, 4362749808)"
      ]
     },
     "execution_count": 18,
     "metadata": {},
     "output_type": "execute_result"
    }
   ],
   "source": [
    "x = 257\n",
    "y = 257\n",
    "\n",
    "id(x), id(y)"
   ]
  },
  {
   "cell_type": "code",
   "execution_count": 19,
   "id": "1542daaa",
   "metadata": {},
   "outputs": [],
   "source": [
    "x = [400, 500, 600]"
   ]
  },
  {
   "cell_type": "code",
   "execution_count": 21,
   "id": "7c9bab88",
   "metadata": {},
   "outputs": [
    {
     "data": {
      "text/plain": [
       "'0x1040d2900'"
      ]
     },
     "execution_count": 21,
     "metadata": {},
     "output_type": "execute_result"
    }
   ],
   "source": [
    "hex(id(x))"
   ]
  },
  {
   "cell_type": "code",
   "execution_count": 24,
   "id": "38876d94",
   "metadata": {},
   "outputs": [
    {
     "data": {
      "text/plain": [
       "('0x1040a4290', '0x1040a4af0', '0x1040a4c50')"
      ]
     },
     "execution_count": 24,
     "metadata": {},
     "output_type": "execute_result"
    }
   ],
   "source": [
    "hex(id(x[0])), hex(id(x[1])), hex(id(x[2]))"
   ]
  },
  {
   "cell_type": "code",
   "execution_count": 25,
   "id": "9d79bc16",
   "metadata": {},
   "outputs": [
    {
     "data": {
      "text/plain": [
       "(4363105472, 4363105472)"
      ]
     },
     "execution_count": 25,
     "metadata": {},
     "output_type": "execute_result"
    }
   ],
   "source": [
    "x = [400, 500, 600]\n",
    "y = x\n",
    "\n",
    "id(x), id(y)"
   ]
  },
  {
   "cell_type": "code",
   "execution_count": 26,
   "id": "9fdf7e46",
   "metadata": {},
   "outputs": [
    {
     "data": {
      "text/plain": [
       "(4362965120, 4363100544, 4363107392)"
      ]
     },
     "execution_count": 26,
     "metadata": {},
     "output_type": "execute_result"
    }
   ],
   "source": [
    "x = [400, 500, 600]\n",
    "y = x.copy()\n",
    "z = x[:]\n",
    "\n",
    "id(x), id(y), id(z)"
   ]
  },
  {
   "cell_type": "markdown",
   "id": "37d13533",
   "metadata": {},
   "source": [
    "### Nested lists"
   ]
  },
  {
   "cell_type": "code",
   "execution_count": 36,
   "id": "a89540de",
   "metadata": {},
   "outputs": [
    {
     "data": {
      "text/plain": [
       "(4408393664, 4424774656)"
      ]
     },
     "execution_count": 36,
     "metadata": {},
     "output_type": "execute_result"
    }
   ],
   "source": [
    "a = [1, 2]\n",
    "b = [3, 4]\n",
    "\n",
    "id(a), id(b)"
   ]
  },
  {
   "cell_type": "code",
   "execution_count": 37,
   "id": "918a940f",
   "metadata": {},
   "outputs": [
    {
     "data": {
      "text/plain": [
       "4362941312"
      ]
     },
     "execution_count": 37,
     "metadata": {},
     "output_type": "execute_result"
    }
   ],
   "source": [
    "x = [a, b]\n",
    "id(x)"
   ]
  },
  {
   "cell_type": "code",
   "execution_count": 38,
   "id": "1b91d481",
   "metadata": {},
   "outputs": [
    {
     "data": {
      "text/plain": [
       "4408393664"
      ]
     },
     "execution_count": 38,
     "metadata": {},
     "output_type": "execute_result"
    }
   ],
   "source": [
    "id(x[0])"
   ]
  },
  {
   "cell_type": "code",
   "execution_count": 39,
   "id": "88d673a4",
   "metadata": {},
   "outputs": [
    {
     "data": {
      "text/plain": [
       "4424774656"
      ]
     },
     "execution_count": 39,
     "metadata": {},
     "output_type": "execute_result"
    }
   ],
   "source": [
    "id(x[1])"
   ]
  },
  {
   "cell_type": "code",
   "execution_count": 40,
   "id": "e3de6afe",
   "metadata": {},
   "outputs": [
    {
     "data": {
      "text/plain": [
       "[[1, 2], [3, 4]]"
      ]
     },
     "execution_count": 40,
     "metadata": {},
     "output_type": "execute_result"
    }
   ],
   "source": [
    "y = x.copy()\n",
    "y"
   ]
  },
  {
   "cell_type": "code",
   "execution_count": 41,
   "id": "02bf7b06",
   "metadata": {},
   "outputs": [
    {
     "data": {
      "text/plain": [
       "4424755712"
      ]
     },
     "execution_count": 41,
     "metadata": {},
     "output_type": "execute_result"
    }
   ],
   "source": [
    "id(y)"
   ]
  },
  {
   "cell_type": "code",
   "execution_count": 43,
   "id": "2737f012",
   "metadata": {},
   "outputs": [
    {
     "data": {
      "text/plain": [
       "(4408393664, 4408393664)"
      ]
     },
     "execution_count": 43,
     "metadata": {},
     "output_type": "execute_result"
    }
   ],
   "source": [
    "id(y[0]), id(x[0])"
   ]
  },
  {
   "cell_type": "code",
   "execution_count": 44,
   "id": "57be43f6",
   "metadata": {},
   "outputs": [
    {
     "data": {
      "text/plain": [
       "([[1, 2], [3, 4], [4, 10]], [[1, 2], [3, 4]], 4362941312, 4424755712)"
      ]
     },
     "execution_count": 44,
     "metadata": {},
     "output_type": "execute_result"
    }
   ],
   "source": [
    "x.append([4, 10])\n",
    "x, y, id(x), id(y)"
   ]
  },
  {
   "cell_type": "markdown",
   "id": "e6997dee",
   "metadata": {},
   "source": [
    "### It breaks!"
   ]
  },
  {
   "cell_type": "code",
   "execution_count": 46,
   "id": "59324ea4",
   "metadata": {},
   "outputs": [
    {
     "data": {
      "text/plain": [
       "([[99, 2], [3, 4], [4, 10]], [[99, 2], [3, 4]])"
      ]
     },
     "execution_count": 46,
     "metadata": {},
     "output_type": "execute_result"
    }
   ],
   "source": [
    "y[0][0] = 99\n",
    "\n",
    "x, y"
   ]
  },
  {
   "cell_type": "code",
   "execution_count": 47,
   "id": "cb99491f",
   "metadata": {},
   "outputs": [
    {
     "data": {
      "text/plain": [
       "([[99, 2], [3, 4]], [[4, 2], [3, 4]])"
      ]
     },
     "execution_count": 47,
     "metadata": {},
     "output_type": "execute_result"
    }
   ],
   "source": [
    "from copy import deepcopy\n",
    "x = [a, b]\n",
    "y = deepcopy(x)\n",
    "\n",
    "id(x), id(y)\n",
    "\n",
    "y[0][0] = 4\n",
    "\n",
    "x, y"
   ]
  },
  {
   "cell_type": "code",
   "execution_count": 48,
   "id": "c2037ff2",
   "metadata": {},
   "outputs": [
    {
     "data": {
      "text/plain": [
       "(4424912128, 4423491136)"
      ]
     },
     "execution_count": 48,
     "metadata": {},
     "output_type": "execute_result"
    }
   ],
   "source": [
    "id(x), id(y)"
   ]
  },
  {
   "cell_type": "code",
   "execution_count": 49,
   "id": "021e8b9f",
   "metadata": {},
   "outputs": [
    {
     "data": {
      "text/plain": [
       "(4408393664, 4424774656)"
      ]
     },
     "execution_count": 49,
     "metadata": {},
     "output_type": "execute_result"
    }
   ],
   "source": [
    "id(x[0]), id(x[1])"
   ]
  },
  {
   "cell_type": "markdown",
   "id": "f015fb90",
   "metadata": {},
   "source": [
    "References\n",
    "\n",
    "1. https://www.youtube.com/watch?v=0Om2gYU6clE&t=387s\n",
    "2. http://foobarnbaz.com/2012/07/08/understanding-python-variables/\n",
    "3. https://stackoverflow.com/questions/306313/is-operator-behaves-unexpectedly-with-integers\n",
    "4. https://stackoverflow.com/questions/27683764/what-is-a-pyobject-in-python\n",
    "5. https://pythonextensionpatterns.readthedocs.io/en/latest/refcount.html\n",
    "6. https://www.youtube.com/watch?v=54NWGAYhfbc\n",
    "7. https://luminousmen.com/post/interning-in-cpython/\n",
    "8. http://henry.precheur.org/python/copy_list"
   ]
  }
 ],
 "metadata": {
  "kernelspec": {
   "display_name": "Python 3 (ipykernel)",
   "language": "python",
   "name": "python3"
  },
  "language_info": {
   "codemirror_mode": {
    "name": "ipython",
    "version": 3
   },
   "file_extension": ".py",
   "mimetype": "text/x-python",
   "name": "python",
   "nbconvert_exporter": "python",
   "pygments_lexer": "ipython3",
   "version": "3.8.13"
  }
 },
 "nbformat": 4,
 "nbformat_minor": 5
}
