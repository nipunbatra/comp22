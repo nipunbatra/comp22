{
 "cells": [
  {
   "cell_type": "markdown",
   "id": "4492fe23",
   "metadata": {},
   "source": [
    "### Revision\n",
    "\n",
    "- A string is a sequence of characters\n",
    "- For example: \"Hello\" is a sequence of characters: 'H', 'e', 'l', 'l', 'o'"
   ]
  },
  {
   "cell_type": "markdown",
   "id": "bf862bc3",
   "metadata": {},
   "source": [
    "### Defining/Creating Strings"
   ]
  },
  {
   "cell_type": "code",
   "execution_count": 6,
   "id": "a9637a1f",
   "metadata": {},
   "outputs": [
    {
     "name": "stdout",
     "output_type": "stream",
     "text": [
      "Hello\n",
      "<class 'str'>\n"
     ]
    }
   ],
   "source": [
    "# Some ways of defining/creating strings we have already seen\n",
    "\n",
    "# 1. Define a string variable\n",
    "\n",
    "s = \"Hello\"\n",
    "print(s)\n",
    "print(type(s))"
   ]
  },
  {
   "cell_type": "code",
   "execution_count": 8,
   "id": "02cb449b",
   "metadata": {},
   "outputs": [
    {
     "name": "stdout",
     "output_type": "stream",
     "text": [
      "7,9,19,19,12,23\n",
      "7,9,19,19,12,23\n",
      "<class 'str'>\n"
     ]
    }
   ],
   "source": [
    "# 2. Get user input\n",
    "\n",
    "x = input()\n",
    "print(x)\n",
    "print(type(x))"
   ]
  },
  {
   "cell_type": "code",
   "execution_count": 11,
   "id": "85a0e0ba",
   "metadata": {},
   "outputs": [
    {
     "data": {
      "text/plain": [
       "[7, 9, 19, 19, 12, 23]"
      ]
     },
     "execution_count": 11,
     "metadata": {},
     "output_type": "execute_result"
    }
   ],
   "source": [
    "y = x.split(\",\")\n",
    "z = []\n",
    "for num in y:\n",
    "    z.append(int(num))\n",
    "z"
   ]
  },
  {
   "cell_type": "code",
   "execution_count": 14,
   "id": "a11c4aad",
   "metadata": {},
   "outputs": [
    {
     "data": {
      "text/plain": [
       "['7', '9', '19', '19', '12', '23']"
      ]
     },
     "execution_count": 14,
     "metadata": {},
     "output_type": "execute_result"
    }
   ],
   "source": [
    "y"
   ]
  },
  {
   "cell_type": "code",
   "execution_count": 16,
   "id": "1d8d9d93",
   "metadata": {},
   "outputs": [
    {
     "data": {
      "text/plain": [
       "89"
      ]
     },
     "execution_count": 16,
     "metadata": {},
     "output_type": "execute_result"
    }
   ],
   "source": [
    "sum(map(int, y))"
   ]
  },
  {
   "cell_type": "code",
   "execution_count": 17,
   "id": "afd78801",
   "metadata": {},
   "outputs": [
    {
     "name": "stdout",
     "output_type": "stream",
     "text": [
      "10 <class 'int'>\n",
      "10 <class 'str'>\n"
     ]
    }
   ],
   "source": [
    "# 3. Use str() method \n",
    "\n",
    "x = 10\n",
    "x_str = str(x)\n",
    "print(x, type(x))\n",
    "print(x_str, type(x_str))"
   ]
  },
  {
   "cell_type": "code",
   "execution_count": 18,
   "id": "e01ffedb",
   "metadata": {},
   "outputs": [
    {
     "name": "stdout",
     "output_type": "stream",
     "text": [
      "Hello World\n",
      "<class 'str'>\n"
     ]
    }
   ],
   "source": [
    "# 4. Concatenating existing string\n",
    "\n",
    "x1 = \"Hello\"\n",
    "x2 = \" \"\n",
    "x3 = \"World\"\n",
    "\n",
    "y = x1 + x2 + x3\n",
    "print(y)\n",
    "print(type(y))"
   ]
  },
  {
   "cell_type": "code",
   "execution_count": 22,
   "id": "5741c239",
   "metadata": {},
   "outputs": [
    {
     "name": "stdout",
     "output_type": "stream",
     "text": [
      "*****\n",
      "****\n",
      "***\n"
     ]
    }
   ],
   "source": [
    "# 5. Repeating a string using *\n",
    "\n",
    "x = \"Name \"\n",
    "y = x*5\n",
    "#print(y)\n",
    "\n",
    "\n",
    "x = \"*\"\n",
    "print(x*5)\n",
    "print(x*4)\n",
    "print(x*3)"
   ]
  },
  {
   "cell_type": "code",
   "execution_count": 23,
   "id": "3cffa950",
   "metadata": {},
   "outputs": [
    {
     "name": "stdout",
     "output_type": "stream",
     "text": [
      "My name is Ramanujan. I am 60 years old. My favourite subject is Maths.\n",
      "<class 'str'>\n"
     ]
    }
   ],
   "source": [
    "# 6. Use format (f) strings\n",
    "\n",
    "name = 'Ramanujan'\n",
    "age = 60\n",
    "subject = 'Maths'\n",
    "\n",
    "out = f\"My name is {name}. I am {age} years old. My favourite subject is {subject}.\"\n",
    "print(out)\n",
    "print(type(out))"
   ]
  },
  {
   "cell_type": "code",
   "execution_count": 25,
   "id": "c9229de5",
   "metadata": {},
   "outputs": [
    {
     "name": "stdout",
     "output_type": "stream",
     "text": [
      "My name is Ramanujan. I am 60year old. My\n"
     ]
    }
   ],
   "source": [
    "x = \"My name is \" + name + \". I am \" + str(age) + \"year old. My\"\n",
    "print(x)"
   ]
  },
  {
   "cell_type": "code",
   "execution_count": 26,
   "id": "de453d38",
   "metadata": {},
   "outputs": [
    {
     "name": "stdout",
     "output_type": "stream",
     "text": [
      "Subject name: maths\n",
      "Subject name: english\n",
      "Subject name: science\n",
      "********************\n",
      "Subject name: maths\n",
      "Subject name: english\n",
      "Subject name: science\n"
     ]
    }
   ],
   "source": [
    "# Question: Given a list of subjects. Print: Subject Name: SUBJECT\n",
    "\n",
    "\n",
    "subjects = ['maths', 'english', 'science']\n",
    "\n",
    "# Method 1\n",
    "for subject in subjects:\n",
    "    print(\"Subject name: \"+subject)\n",
    "    \n",
    "print(\"*\"*20)\n",
    "\n",
    "    \n",
    "# Method 2\n",
    "for subject in subjects:\n",
    "    print(f\"Subject name: {subject}\")"
   ]
  },
  {
   "cell_type": "code",
   "execution_count": 53,
   "id": "7b5fba29",
   "metadata": {},
   "outputs": [
    {
     "name": "stdout",
     "output_type": "stream",
     "text": [
      "Number is: 4125.60\n",
      "Number is: 5.14\n",
      "10,000,000,000.24\n",
      "65.45\n",
      " 65.45\n",
      "  65.45\n",
      "0065.45\n",
      "  65.45\n",
      "65.45\n",
      "6545%\n"
     ]
    }
   ],
   "source": [
    "number = 4125.6\n",
    "print(f\"Number is: {number:.2f}\")\n",
    "\n",
    "number = 5.136\n",
    "print(f\"Number is: {number:.2f}\")\n",
    "\n",
    "number = 10000000000.239\n",
    "print(f\"{number:,.2f}\")\n",
    "\n",
    "number = 65.452\n",
    "print(f\"{number:5.2f}\")\n",
    "print(f\"{number:6.2f}\")\n",
    "print(f\"{number:7.2f}\")\n",
    "print(f\"{number:07.2f}\")\n",
    "print(f\"{number:7.2f}\")\n",
    "print(f\"{number:3.2f}\")\n",
    "\n",
    "print(f\"{number:.0%}\")"
   ]
  },
  {
   "cell_type": "code",
   "execution_count": 49,
   "id": "0d78f02b",
   "metadata": {},
   "outputs": [
    {
     "name": "stdout",
     "output_type": "stream",
     "text": [
      "1000\n",
      "1,000\n"
     ]
    }
   ],
   "source": [
    "num = 1000\n",
    "\n",
    "print(f\"{num:04d}\")\n",
    "\n",
    "print(f\"{num:,}\")"
   ]
  },
  {
   "cell_type": "code",
   "execution_count": 56,
   "id": "39a97fee",
   "metadata": {},
   "outputs": [
    {
     "name": "stdout",
     "output_type": "stream",
     "text": [
      "Python\n",
      "    Python\n"
     ]
    }
   ],
   "source": [
    "s = \"Python\"\n",
    "\n",
    "print(f\"{s}\")\n",
    "print(f\"{s:>10}\")"
   ]
  },
  {
   "cell_type": "markdown",
   "id": "1cb35906",
   "metadata": {},
   "source": [
    "### String Indexing\n",
    "\n",
    "- Similar to lists\n",
    "- Counting/Indexing starts from 0 and goes till length of string - 1"
   ]
  },
  {
   "cell_type": "code",
   "execution_count": 6,
   "id": "18f988ef",
   "metadata": {},
   "outputs": [
    {
     "name": "stdout",
     "output_type": "stream",
     "text": [
      "H\n"
     ]
    }
   ],
   "source": [
    "s = \"Hello\"\n",
    "print(s[0])"
   ]
  },
  {
   "cell_type": "markdown",
   "id": "308660f6",
   "metadata": {},
   "source": [
    "### `len()`\n",
    "\n",
    "- Similar to lists\n",
    "- Gives the length of a string"
   ]
  },
  {
   "cell_type": "code",
   "execution_count": 57,
   "id": "fe0ff302",
   "metadata": {},
   "outputs": [
    {
     "name": "stdout",
     "output_type": "stream",
     "text": [
      "Length of Hello is 5\n"
     ]
    }
   ],
   "source": [
    "s = \"Hello\"\n",
    "l = len(s)\n",
    "print(f\"Length of {s} is {l}\")"
   ]
  },
  {
   "cell_type": "markdown",
   "id": "e6eb8c6d",
   "metadata": {},
   "source": [
    "### Looping"
   ]
  },
  {
   "cell_type": "code",
   "execution_count": 58,
   "id": "7a336971",
   "metadata": {},
   "outputs": [
    {
     "name": "stdout",
     "output_type": "stream",
     "text": [
      "H\n",
      "e\n",
      "l\n",
      "l\n",
      "o\n"
     ]
    }
   ],
   "source": [
    "# Write a program to print a character of a string in different line\n",
    "\n",
    "## Use a for loop\n",
    "\n",
    "s = \"Hello\"\n",
    "\n",
    "for character in s:\n",
    "    print(character)"
   ]
  },
  {
   "cell_type": "code",
   "execution_count": 59,
   "id": "bfef3512",
   "metadata": {},
   "outputs": [
    {
     "name": "stdout",
     "output_type": "stream",
     "text": [
      "H\n",
      "e\n",
      "l\n",
      "l\n",
      "o\n"
     ]
    }
   ],
   "source": [
    "## Use a while loop\n",
    "\n",
    "s = \"Hello\"\n",
    "l = len(s)\n",
    "\n",
    "i = 0\n",
    "while i < l:\n",
    "    print(s[i])\n",
    "    i = i +1"
   ]
  },
  {
   "cell_type": "code",
   "execution_count": 60,
   "id": "7af172d5",
   "metadata": {},
   "outputs": [
    {
     "name": "stdout",
     "output_type": "stream",
     "text": [
      "Index 0, Character: H\n",
      "Index 1, Character: e\n",
      "Index 2, Character: l\n",
      "Index 3, Character: l\n",
      "Index 4, Character: o\n"
     ]
    }
   ],
   "source": [
    "# Write a program to print a character of a string in different line along with index:\n",
    "# Index: 0, Character: H\n",
    "\n",
    "## Using while loop\n",
    "\n",
    "s = \"Hello\"\n",
    "l = len(s)\n",
    "\n",
    "i = 0\n",
    "while i < l:\n",
    "    print(f\"Index {i}, Character: {s[i]}\")\n",
    "    i = i +1\n"
   ]
  },
  {
   "cell_type": "code",
   "execution_count": 23,
   "id": "85615141",
   "metadata": {},
   "outputs": [
    {
     "name": "stdout",
     "output_type": "stream",
     "text": [
      "Index 0, Character: h\n",
      "Index 1, Character: e\n",
      "Index 2, Character: l\n",
      "Index 3, Character: l\n",
      "Index 4, Character: o\n"
     ]
    }
   ],
   "source": [
    "## Using for loop with enumerate\n",
    "\n",
    "s = \"hello\"\n",
    "l = len(s)\n",
    "\n",
    "for i in range(0, l, 1):\n",
    "    print(f\"Index {i}, Character: {s[i]}\")\n"
   ]
  },
  {
   "cell_type": "code",
   "execution_count": 61,
   "id": "8da16c6b",
   "metadata": {},
   "outputs": [
    {
     "name": "stdout",
     "output_type": "stream",
     "text": [
      "Index 0, Character: H\n",
      "Index 1, Character: e\n",
      "Index 2, Character: l\n",
      "Index 3, Character: l\n",
      "Index 4, Character: o\n"
     ]
    }
   ],
   "source": [
    "## Using for loop with enumerate\n",
    "\n",
    "# For loop doesn't give us the index\n",
    "# This is advanced and will not be in exams\n",
    "# we use enumerate\n",
    "\n",
    "for i, character in enumerate(s):\n",
    "    print(f\"Index {i}, Character: {character}\")"
   ]
  },
  {
   "cell_type": "code",
   "execution_count": 24,
   "id": "06e7e1df",
   "metadata": {},
   "outputs": [
    {
     "name": "stdout",
     "output_type": "stream",
     "text": [
      "5\n"
     ]
    }
   ],
   "source": [
    "## Looping and Filtering\n",
    "\n",
    "# Q: Count the number of times a character occurs in a string using while loop\n",
    "\n",
    "character_search = 'a'\n",
    "count = 0\n",
    "\n",
    "s = \"a good time is a time when you are grateful and count your blessings\"\n",
    "\n",
    "i = 0\n",
    "length = len(s)\n",
    "\n",
    "while i < length:\n",
    "    if s[i] == character_search:\n",
    "        count = count + 1\n",
    "    \n",
    "    i = i +1\n",
    "print(count)\n",
    "\n"
   ]
  },
  {
   "cell_type": "code",
   "execution_count": 62,
   "id": "2a72b961",
   "metadata": {},
   "outputs": [
    {
     "name": "stdout",
     "output_type": "stream",
     "text": [
      "5\n"
     ]
    }
   ],
   "source": [
    "# Q: Count the number of times a character occurs in a string using for loop\n",
    "\n",
    "character_search = 'a'\n",
    "count = 0\n",
    "\n",
    "s = \"a good time is a time when you are grateful and count your blessings\"\n",
    "\n",
    "for c in s:\n",
    "    if c == character_search:\n",
    "        count = count + 1\n",
    "print(count)\n",
    "\n"
   ]
  },
  {
   "cell_type": "markdown",
   "id": "02d8fa7a",
   "metadata": {},
   "source": [
    "###  x `in` y\n",
    "\n",
    "- Returns True of False depending on whether x is a substring of y\n",
    "- \"h\" is a substring of \"hello\"\n",
    "- \"ll\" is a substring of \"hello\"\n",
    "- \"H\" is NOT a substring of \"hello\""
   ]
  },
  {
   "cell_type": "code",
   "execution_count": 30,
   "id": "ae4df72c",
   "metadata": {},
   "outputs": [
    {
     "name": "stdout",
     "output_type": "stream",
     "text": [
      "True\n"
     ]
    }
   ],
   "source": [
    "ss = \"he\"\n",
    "\n",
    "s = \"Shed\"\n",
    "\n",
    "print(ss in s)\n"
   ]
  },
  {
   "cell_type": "code",
   "execution_count": 31,
   "id": "e8f976c7",
   "metadata": {},
   "outputs": [
    {
     "name": "stdout",
     "output_type": "stream",
     "text": [
      "False\n"
     ]
    }
   ],
   "source": [
    "ss = \"eda\"\n",
    "s = \"Shed\"\n",
    "print(ss in s)"
   ]
  },
  {
   "cell_type": "markdown",
   "id": "58f39b7f",
   "metadata": {},
   "source": [
    "### string.find(substring)\n",
    "Return index/position of **first** occurence of substring in string, else returns -1 if substring not in string\n",
    "\n"
   ]
  },
  {
   "cell_type": "code",
   "execution_count": 63,
   "id": "e424526a",
   "metadata": {},
   "outputs": [
    {
     "name": "stdout",
     "output_type": "stream",
     "text": [
      "0\n"
     ]
    }
   ],
   "source": [
    "ss = \"H\"\n",
    "\n",
    "s = \"His name is Himanshu\"\n",
    "\n",
    "print(s.find(ss))"
   ]
  },
  {
   "cell_type": "code",
   "execution_count": 64,
   "id": "518c34cc",
   "metadata": {},
   "outputs": [
    {
     "name": "stdout",
     "output_type": "stream",
     "text": [
      "1\n"
     ]
    }
   ],
   "source": [
    "print(s.find(\"i\"))"
   ]
  },
  {
   "cell_type": "code",
   "execution_count": 65,
   "id": "f9c6d7b6",
   "metadata": {},
   "outputs": [
    {
     "name": "stdout",
     "output_type": "stream",
     "text": [
      "1\n"
     ]
    }
   ],
   "source": [
    "print(s.find(\"is\"))"
   ]
  },
  {
   "cell_type": "code",
   "execution_count": 66,
   "id": "006191f9",
   "metadata": {},
   "outputs": [
    {
     "name": "stdout",
     "output_type": "stream",
     "text": [
      "-1\n"
     ]
    }
   ],
   "source": [
    "print(s.find(\"ist\"))"
   ]
  },
  {
   "cell_type": "markdown",
   "id": "4d389c04",
   "metadata": {},
   "source": [
    "### Slicing string\n",
    "\n",
    "- Similar to Lists slicing\n",
    "\n"
   ]
  },
  {
   "cell_type": "code",
   "execution_count": 67,
   "id": "25826abe",
   "metadata": {},
   "outputs": [
    {
     "name": "stdout",
     "output_type": "stream",
     "text": [
      "el\n"
     ]
    }
   ],
   "source": [
    "s = \"Hello World\"\n",
    "\n",
    "print(s[1:3])"
   ]
  },
  {
   "cell_type": "code",
   "execution_count": 69,
   "id": "e12ff4b4",
   "metadata": {},
   "outputs": [
    {
     "name": "stdout",
     "output_type": "stream",
     "text": [
      "\n"
     ]
    }
   ],
   "source": [
    "s = \"Hello World\"\n",
    "\n",
    "print(s[1:3:-1])"
   ]
  },
  {
   "cell_type": "code",
   "execution_count": 33,
   "id": "4d006beb",
   "metadata": {},
   "outputs": [
    {
     "name": "stdout",
     "output_type": "stream",
     "text": [
      "Hell\n"
     ]
    }
   ],
   "source": [
    "print(s[0:4])"
   ]
  },
  {
   "cell_type": "code",
   "execution_count": 34,
   "id": "e276038b",
   "metadata": {},
   "outputs": [
    {
     "name": "stdout",
     "output_type": "stream",
     "text": [
      "Hell\n"
     ]
    }
   ],
   "source": [
    "print(s[:4])"
   ]
  },
  {
   "cell_type": "markdown",
   "id": "893bb2f4",
   "metadata": {},
   "source": [
    "## String library\n",
    "\n",
    "### lower() and upper()\n",
    "\n",
    "- Given a string x, x.lower() **returns** a lower case version of the string. The conversion is not implicit, so x remains the same."
   ]
  },
  {
   "cell_type": "code",
   "execution_count": 71,
   "id": "41a23c3a",
   "metadata": {},
   "outputs": [
    {
     "name": "stdout",
     "output_type": "stream",
     "text": [
      "hello world\n"
     ]
    }
   ],
   "source": [
    "x = \"HELLo World\"\n",
    "y = x.lower()\n",
    "print(y)"
   ]
  },
  {
   "cell_type": "code",
   "execution_count": 36,
   "id": "3890a4e1",
   "metadata": {},
   "outputs": [
    {
     "data": {
      "text/plain": [
       "'hello world'"
      ]
     },
     "execution_count": 36,
     "metadata": {},
     "output_type": "execute_result"
    }
   ],
   "source": [
    "xl = x.lower()\n",
    "print(xl)"
   ]
  },
  {
   "cell_type": "code",
   "execution_count": 37,
   "id": "cec189fc",
   "metadata": {},
   "outputs": [
    {
     "data": {
      "text/plain": [
       "'HELLo World'"
      ]
     },
     "execution_count": 37,
     "metadata": {},
     "output_type": "execute_result"
    }
   ],
   "source": [
    "x"
   ]
  },
  {
   "cell_type": "code",
   "execution_count": 72,
   "id": "e6c8f0f7",
   "metadata": {},
   "outputs": [
    {
     "name": "stdout",
     "output_type": "stream",
     "text": [
      "HELLO WORLD\n"
     ]
    }
   ],
   "source": [
    "xu = x.upper()\n",
    "print(xu)"
   ]
  },
  {
   "cell_type": "code",
   "execution_count": 41,
   "id": "ad9fa230",
   "metadata": {},
   "outputs": [
    {
     "data": {
      "text/plain": [
       "'HELLo World'"
      ]
     },
     "execution_count": 41,
     "metadata": {},
     "output_type": "execute_result"
    }
   ],
   "source": [
    "x"
   ]
  },
  {
   "cell_type": "markdown",
   "id": "4a0aa529",
   "metadata": {},
   "source": [
    "### islower() and isupper()\n",
    "\n",
    "- Check if a string is lower case or upper case.\n",
    "- All characters must be lower case for isupper to return True"
   ]
  },
  {
   "cell_type": "code",
   "execution_count": 73,
   "id": "42f45489",
   "metadata": {},
   "outputs": [
    {
     "data": {
      "text/plain": [
       "'HELLo World'"
      ]
     },
     "execution_count": 73,
     "metadata": {},
     "output_type": "execute_result"
    }
   ],
   "source": [
    "x"
   ]
  },
  {
   "cell_type": "code",
   "execution_count": 74,
   "id": "1d107194",
   "metadata": {},
   "outputs": [
    {
     "data": {
      "text/plain": [
       "False"
      ]
     },
     "execution_count": 74,
     "metadata": {},
     "output_type": "execute_result"
    }
   ],
   "source": [
    "x.islower()"
   ]
  },
  {
   "cell_type": "code",
   "execution_count": 75,
   "id": "b78f5a78",
   "metadata": {},
   "outputs": [
    {
     "data": {
      "text/plain": [
       "False"
      ]
     },
     "execution_count": 75,
     "metadata": {},
     "output_type": "execute_result"
    }
   ],
   "source": [
    "x.isupper()"
   ]
  },
  {
   "cell_type": "code",
   "execution_count": 76,
   "id": "99b25a2a",
   "metadata": {},
   "outputs": [
    {
     "data": {
      "text/plain": [
       "True"
      ]
     },
     "execution_count": 76,
     "metadata": {},
     "output_type": "execute_result"
    }
   ],
   "source": [
    "\"hello\".islower()"
   ]
  },
  {
   "cell_type": "code",
   "execution_count": 77,
   "id": "2109f458",
   "metadata": {},
   "outputs": [
    {
     "data": {
      "text/plain": [
       "False"
      ]
     },
     "execution_count": 77,
     "metadata": {},
     "output_type": "execute_result"
    }
   ],
   "source": [
    "\"HELLO\".islower()"
   ]
  },
  {
   "cell_type": "code",
   "execution_count": 78,
   "id": "53222433",
   "metadata": {},
   "outputs": [
    {
     "data": {
      "text/plain": [
       "True"
      ]
     },
     "execution_count": 78,
     "metadata": {},
     "output_type": "execute_result"
    }
   ],
   "source": [
    "\"HELLO\".isupper()"
   ]
  },
  {
   "cell_type": "markdown",
   "id": "455777ef",
   "metadata": {},
   "source": [
    "### split()\n",
    "\n",
    "- Split a string based on a defined delimiter/character into a list of strings\n",
    "\n"
   ]
  },
  {
   "cell_type": "code",
   "execution_count": 55,
   "id": "37319671",
   "metadata": {},
   "outputs": [
    {
     "name": "stdout",
     "output_type": "stream",
     "text": [
      "['Alpha', 'Beta', 'Gamma', 'Delta']\n",
      "4\n"
     ]
    }
   ],
   "source": [
    "x = \"Alpha,Beta,Gamma,Delta\"\n",
    "\n",
    "y = x.split(\",\")\n",
    "print(y)\n",
    "print(len(y))"
   ]
  },
  {
   "cell_type": "code",
   "execution_count": 56,
   "id": "08720f2c",
   "metadata": {},
   "outputs": [
    {
     "name": "stdout",
     "output_type": "stream",
     "text": [
      "['Alpha', 'Beta', 'Gamma', 'Delta']\n",
      "4\n"
     ]
    }
   ],
   "source": [
    "x = \"Alpha Beta Gamma Delta\"\n",
    "\n",
    "y = x.split(\" \")\n",
    "print(y)\n",
    "print(len(y))"
   ]
  },
  {
   "cell_type": "code",
   "execution_count": 57,
   "id": "37311ea5",
   "metadata": {},
   "outputs": [
    {
     "name": "stdout",
     "output_type": "stream",
     "text": [
      "3,4,5,6,7,8,10\n",
      "3,4,5,6,7,8,10\n"
     ]
    }
   ],
   "source": [
    "# Q: Take inputs separated by , from a user and find the sum of these numbers\n",
    "\n",
    "x = input()"
   ]
  },
  {
   "cell_type": "code",
   "execution_count": 58,
   "id": "1a8af31b",
   "metadata": {},
   "outputs": [
    {
     "name": "stdout",
     "output_type": "stream",
     "text": [
      "3,4,5,6,7,8,10\n"
     ]
    }
   ],
   "source": [
    "print(x)"
   ]
  },
  {
   "cell_type": "code",
   "execution_count": 59,
   "id": "547435b3",
   "metadata": {},
   "outputs": [
    {
     "name": "stdout",
     "output_type": "stream",
     "text": [
      "<class 'str'>\n"
     ]
    }
   ],
   "source": [
    "print(type(x))"
   ]
  },
  {
   "cell_type": "code",
   "execution_count": 60,
   "id": "baeda33c",
   "metadata": {},
   "outputs": [
    {
     "name": "stdout",
     "output_type": "stream",
     "text": [
      "['3', '4', '5', '6', '7', '8', '10']\n"
     ]
    }
   ],
   "source": [
    "list_of_nums = x.split(\",\")\n",
    "print(list_of_nums)"
   ]
  },
  {
   "cell_type": "code",
   "execution_count": 61,
   "id": "8b728eda",
   "metadata": {},
   "outputs": [
    {
     "name": "stdout",
     "output_type": "stream",
     "text": [
      "3 <class 'str'>\n"
     ]
    }
   ],
   "source": [
    "print(list_of_nums[0], type(list_of_nums[0]))"
   ]
  },
  {
   "cell_type": "code",
   "execution_count": 62,
   "id": "15957c58",
   "metadata": {},
   "outputs": [
    {
     "name": "stdout",
     "output_type": "stream",
     "text": [
      "[3, 4, 5, 6, 7, 8, 10]\n"
     ]
    }
   ],
   "source": [
    "actual_list_numbers = []\n",
    "for s in list_of_nums:\n",
    "    actual_list_numbers.append(int(s))\n",
    "print(actual_list_numbers)"
   ]
  },
  {
   "cell_type": "code",
   "execution_count": 67,
   "id": "3ace2e5a",
   "metadata": {},
   "outputs": [
    {
     "name": "stdout",
     "output_type": "stream",
     "text": [
      "3 <class 'int'>\n"
     ]
    }
   ],
   "source": [
    "print(actual_list_numbers[0], type(actual_list_numbers[0]))"
   ]
  },
  {
   "cell_type": "code",
   "execution_count": 68,
   "id": "0f720639",
   "metadata": {},
   "outputs": [
    {
     "name": "stdout",
     "output_type": "stream",
     "text": [
      "Sum of numbers is 43\n"
     ]
    }
   ],
   "source": [
    "print(f\"Sum of numbers is {sum(actual_list_numbers)}\")"
   ]
  },
  {
   "cell_type": "markdown",
   "id": "f0a7fea2",
   "metadata": {},
   "source": [
    "### strip()\n",
    "\n",
    "- Removes whitespace \n",
    "\n"
   ]
  },
  {
   "cell_type": "code",
   "execution_count": 79,
   "id": "e200f019",
   "metadata": {},
   "outputs": [
    {
     "name": "stdout",
     "output_type": "stream",
     "text": [
      "7  Hello \n",
      "5 Hello\n"
     ]
    }
   ],
   "source": [
    "x = \" Hello \"\n",
    "y = x.strip()\n",
    "print(len(x), x)\n",
    "print(len(y), y)"
   ]
  },
  {
   "cell_type": "code",
   "execution_count": 80,
   "id": "d2daad78",
   "metadata": {},
   "outputs": [
    {
     "name": "stdout",
     "output_type": "stream",
     "text": [
      "3, 5,6,7\n"
     ]
    }
   ],
   "source": [
    "# Q: Take inputs separated by , \n",
    "# from a user and find the sum of these numbers, but user can accidentally put space after comma\n",
    "\n",
    "x = input()"
   ]
  },
  {
   "cell_type": "code",
   "execution_count": 81,
   "id": "2d1cd11d",
   "metadata": {},
   "outputs": [
    {
     "name": "stdout",
     "output_type": "stream",
     "text": [
      "3, 5,6,7\n"
     ]
    }
   ],
   "source": [
    "print(x)"
   ]
  },
  {
   "cell_type": "code",
   "execution_count": 82,
   "id": "b90214fc",
   "metadata": {},
   "outputs": [
    {
     "name": "stdout",
     "output_type": "stream",
     "text": [
      "['3', ' 5', '6', '7']\n"
     ]
    }
   ],
   "source": [
    "z = x.split(\",\")\n",
    "print(z)\n",
    "# Notice 5 has an extra space before it"
   ]
  },
  {
   "cell_type": "code",
   "execution_count": 84,
   "id": "1d23268e",
   "metadata": {},
   "outputs": [
    {
     "data": {
      "text/plain": [
       "(' 5', 2)"
      ]
     },
     "execution_count": 84,
     "metadata": {},
     "output_type": "execute_result"
    }
   ],
   "source": [
    "z[1], len(z[1])"
   ]
  },
  {
   "cell_type": "code",
   "execution_count": 78,
   "id": "b27d4aa6",
   "metadata": {},
   "outputs": [
    {
     "data": {
      "text/plain": [
       "5"
      ]
     },
     "execution_count": 78,
     "metadata": {},
     "output_type": "execute_result"
    }
   ],
   "source": [
    "int(z[1].strip())"
   ]
  },
  {
   "cell_type": "code",
   "execution_count": 85,
   "id": "690b632d",
   "metadata": {},
   "outputs": [
    {
     "data": {
      "text/plain": [
       "10"
      ]
     },
     "execution_count": 85,
     "metadata": {},
     "output_type": "execute_result"
    }
   ],
   "source": [
    "int(\" 10\")"
   ]
  },
  {
   "cell_type": "markdown",
   "id": "63534a0e",
   "metadata": {},
   "source": [
    "### string.replace(old, new)\n",
    "\n",
    "- replaces all occurences of old substring in string with new"
   ]
  },
  {
   "cell_type": "code",
   "execution_count": 86,
   "id": "0aea6560",
   "metadata": {},
   "outputs": [],
   "source": [
    "x = \"This is a good question. But, all good things come with some surprises.\""
   ]
  },
  {
   "cell_type": "code",
   "execution_count": 87,
   "id": "3d2223ef",
   "metadata": {},
   "outputs": [
    {
     "name": "stdout",
     "output_type": "stream",
     "text": [
      "ThIS IS a good question. But, all good things come with some surprISes.\n"
     ]
    }
   ],
   "source": [
    "y = x.replace(\"is\", \"IS\")\n",
    "print(y)"
   ]
  },
  {
   "cell_type": "code",
   "execution_count": 88,
   "id": "94afccf0",
   "metadata": {},
   "outputs": [
    {
     "name": "stdout",
     "output_type": "stream",
     "text": [
      "This is a **GOOD** question. But, all **GOOD** things come with some surprises.\n"
     ]
    }
   ],
   "source": [
    "z = x.replace(\"good\", \"**GOOD**\")\n",
    "print(z)"
   ]
  },
  {
   "cell_type": "code",
   "execution_count": 89,
   "id": "993d8617",
   "metadata": {},
   "outputs": [
    {
     "name": "stdout",
     "output_type": "stream",
     "text": [
      "This is a  question. But, all  things come with some surprises.\n"
     ]
    }
   ],
   "source": [
    "y = x.replace(\"good\", \"\")\n",
    "print(y)"
   ]
  },
  {
   "cell_type": "markdown",
   "id": "0d46d362",
   "metadata": {},
   "source": [
    "Print the following pattern\n",
    "\n",
    "```\n",
    "*\n",
    "**\n",
    "***\n",
    "****\n",
    "```"
   ]
  },
  {
   "cell_type": "code",
   "execution_count": 49,
   "id": "8d1abbc7",
   "metadata": {},
   "outputs": [
    {
     "name": "stdout",
     "output_type": "stream",
     "text": [
      "\n",
      "*\n",
      "**\n",
      "***\n",
      "****\n"
     ]
    }
   ],
   "source": [
    "# using for loop\n",
    "# Main idea: ith row has i stars\n",
    "\n",
    "n = 4\n",
    "for i in range(n+1):\n",
    "    print(\"*\"*i)"
   ]
  },
  {
   "cell_type": "code",
   "execution_count": 50,
   "id": "8dcecfc1",
   "metadata": {},
   "outputs": [
    {
     "name": "stdout",
     "output_type": "stream",
     "text": [
      "\n",
      "*\n",
      "**\n",
      "***\n",
      "****\n"
     ]
    }
   ],
   "source": [
    "# using while loop\n",
    "# Main idea: ith row has i stars\n",
    "\n",
    "n = 4\n",
    "i = 0\n",
    "while i <=n:\n",
    "    print(\"*\"*i)\n",
    "    i = i + 1"
   ]
  },
  {
   "cell_type": "markdown",
   "id": "c7b7eef4",
   "metadata": {},
   "source": [
    "Print the following pattern\n",
    "\n",
    "```\n",
    "*****\n",
    "***\n",
    "**\n",
    "*\n",
    "```"
   ]
  },
  {
   "cell_type": "code",
   "execution_count": 52,
   "id": "e54b40ca",
   "metadata": {},
   "outputs": [
    {
     "name": "stdout",
     "output_type": "stream",
     "text": [
      "****\n",
      "***\n",
      "**\n",
      "*\n",
      "\n"
     ]
    }
   ],
   "source": [
    "# using for loop\n",
    "# Main idea: ith row has n - i stars\n",
    "\n",
    "n = 4\n",
    "for i in range(n+1):\n",
    "    print(\"*\"*(n-i))"
   ]
  },
  {
   "cell_type": "code",
   "execution_count": 97,
   "id": "95a5a473",
   "metadata": {},
   "outputs": [
    {
     "name": "stdout",
     "output_type": "stream",
     "text": [
      "['nipun.batra', 'iitgn.ac.in']\n"
     ]
    }
   ],
   "source": [
    "# Q: Assume all usernames here are firstname.lastname@iitgn.ac.in. \n",
    "# given an input, print \"Hello firstname lastname. Your email id is: ...\"\n",
    "\n",
    "\n",
    "email_id = \"nipun.batra@iitgn.ac.in\"\n",
    "split_at = email_id.split(\"@\")\n",
    "print(split_at)"
   ]
  },
  {
   "cell_type": "code",
   "execution_count": 98,
   "id": "24536e19",
   "metadata": {},
   "outputs": [
    {
     "name": "stdout",
     "output_type": "stream",
     "text": [
      "nipun.batra\n"
     ]
    }
   ],
   "source": [
    "user_part = split_at[0]\n",
    "print(user_part)"
   ]
  },
  {
   "cell_type": "code",
   "execution_count": 99,
   "id": "3bfd5f5b",
   "metadata": {},
   "outputs": [
    {
     "name": "stdout",
     "output_type": "stream",
     "text": [
      "['nipun', 'batra']\n"
     ]
    }
   ],
   "source": [
    "names = user_part.split(\".\")\n",
    "print(names)"
   ]
  },
  {
   "cell_type": "code",
   "execution_count": 100,
   "id": "0bf50b13",
   "metadata": {},
   "outputs": [],
   "source": [
    "fn = names[0]\n",
    "ln = names[1]"
   ]
  },
  {
   "cell_type": "code",
   "execution_count": 101,
   "id": "c06a43d6",
   "metadata": {},
   "outputs": [
    {
     "name": "stdout",
     "output_type": "stream",
     "text": [
      "nipun\n"
     ]
    }
   ],
   "source": [
    "print(fn)"
   ]
  },
  {
   "cell_type": "code",
   "execution_count": 102,
   "id": "84bfea7a",
   "metadata": {},
   "outputs": [
    {
     "name": "stdout",
     "output_type": "stream",
     "text": [
      "Hello nipun batra. Your email id is: nipun.batra@iitgn.ac.in\n"
     ]
    }
   ],
   "source": [
    "greeting = f\"Hello {fn} {ln}. Your email id is: {email_id}\"\n",
    "print(greeting)"
   ]
  },
  {
   "cell_type": "markdown",
   "id": "775f0de3",
   "metadata": {},
   "source": [
    "### Immutability of strings"
   ]
  },
  {
   "cell_type": "code",
   "execution_count": 90,
   "id": "5bdb0fa4",
   "metadata": {},
   "outputs": [],
   "source": [
    "x = \"hello\""
   ]
  },
  {
   "cell_type": "code",
   "execution_count": 91,
   "id": "bcbb83a7",
   "metadata": {},
   "outputs": [
    {
     "ename": "TypeError",
     "evalue": "'str' object does not support item assignment",
     "output_type": "error",
     "traceback": [
      "\u001b[0;31m---------------------------------------------------------------------------\u001b[0m",
      "\u001b[0;31mTypeError\u001b[0m                                 Traceback (most recent call last)",
      "Input \u001b[0;32mIn [91]\u001b[0m, in \u001b[0;36m<cell line: 1>\u001b[0;34m()\u001b[0m\n\u001b[0;32m----> 1\u001b[0m x[\u001b[38;5;241m0\u001b[39m] \u001b[38;5;241m=\u001b[39m \u001b[38;5;124m\"\u001b[39m\u001b[38;5;124ma\u001b[39m\u001b[38;5;124m\"\u001b[39m\n",
      "\u001b[0;31mTypeError\u001b[0m: 'str' object does not support item assignment"
     ]
    }
   ],
   "source": [
    "x[0] = \"a\""
   ]
  },
  {
   "cell_type": "code",
   "execution_count": 94,
   "id": "34698bf4",
   "metadata": {},
   "outputs": [
    {
     "data": {
      "text/plain": [
       "'aello'"
      ]
     },
     "execution_count": 94,
     "metadata": {},
     "output_type": "execute_result"
    }
   ],
   "source": [
    "y = list(x)\n",
    "y[0] = 'a'\n",
    "y\n",
    "\n",
    "new_string = \"\"\n",
    "for c in y:\n",
    "    new_string = new_string + c\n",
    "new_string"
   ]
  },
  {
   "cell_type": "code",
   "execution_count": 96,
   "id": "6d32d6de",
   "metadata": {},
   "outputs": [
    {
     "data": {
      "text/plain": [
       "['a', 'e', 'l', 'l', 'o']"
      ]
     },
     "execution_count": 96,
     "metadata": {},
     "output_type": "execute_result"
    }
   ],
   "source": [
    "y"
   ]
  },
  {
   "cell_type": "code",
   "execution_count": 95,
   "id": "636d6d06",
   "metadata": {},
   "outputs": [
    {
     "data": {
      "text/plain": [
       "'aello'"
      ]
     },
     "execution_count": 95,
     "metadata": {},
     "output_type": "execute_result"
    }
   ],
   "source": [
    "\"\".join(y)"
   ]
  },
  {
   "cell_type": "code",
   "execution_count": 97,
   "id": "47776833",
   "metadata": {},
   "outputs": [
    {
     "data": {
      "text/plain": [
       "'a-e-l-l-o'"
      ]
     },
     "execution_count": 97,
     "metadata": {},
     "output_type": "execute_result"
    }
   ],
   "source": [
    "\"-\".join(y)"
   ]
  },
  {
   "cell_type": "code",
   "execution_count": 4,
   "id": "18f4e31b",
   "metadata": {},
   "outputs": [
    {
     "data": {
      "text/plain": [
       "'aello'"
      ]
     },
     "execution_count": 4,
     "metadata": {},
     "output_type": "execute_result"
    }
   ],
   "source": [
    "y = list(x)\n",
    "y[0] = \"a\"\n",
    "\"\".join(y)"
   ]
  },
  {
   "cell_type": "code",
   "execution_count": 98,
   "id": "55f1b48e",
   "metadata": {},
   "outputs": [
    {
     "data": {
      "text/plain": [
       "'hello'"
      ]
     },
     "execution_count": 98,
     "metadata": {},
     "output_type": "execute_result"
    }
   ],
   "source": [
    "x\n",
    "x = \"a\" + x[1:]"
   ]
  },
  {
   "cell_type": "code",
   "execution_count": 5,
   "id": "230270d4",
   "metadata": {},
   "outputs": [
    {
     "data": {
      "text/plain": [
       "'aello'"
      ]
     },
     "execution_count": 5,
     "metadata": {},
     "output_type": "execute_result"
    }
   ],
   "source": [
    "x = \"a\" + x[1:]\n",
    "x"
   ]
  },
  {
   "cell_type": "markdown",
   "id": "49a21b24",
   "metadata": {},
   "source": [
    "### References\n",
    "\n",
    "1. https://fstring.help/cheat/\n",
    "2. https://stackoverflow.com/questions/1228299/changing-one-character-in-a-string"
   ]
  }
 ],
 "metadata": {
  "kernelspec": {
   "display_name": "Python 3 (ipykernel)",
   "language": "python",
   "name": "python3"
  },
  "language_info": {
   "codemirror_mode": {
    "name": "ipython",
    "version": 3
   },
   "file_extension": ".py",
   "mimetype": "text/x-python",
   "name": "python",
   "nbconvert_exporter": "python",
   "pygments_lexer": "ipython3",
   "version": "3.8.13"
  }
 },
 "nbformat": 4,
 "nbformat_minor": 5
}
