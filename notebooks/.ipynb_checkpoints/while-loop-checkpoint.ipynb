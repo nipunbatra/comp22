{
 "cells": [
  {
   "cell_type": "markdown",
   "id": "59dc10e4",
   "metadata": {},
   "source": [
    "### Print first N natural numbers"
   ]
  },
  {
   "cell_type": "code",
   "execution_count": 3,
   "id": "65236ec5",
   "metadata": {},
   "outputs": [
    {
     "name": "stdout",
     "output_type": "stream",
     "text": [
      "0\n",
      "1\n",
      "2\n",
      "3\n",
      "4\n"
     ]
    }
   ],
   "source": [
    "print(0)\n",
    "print(1)\n",
    "print(2)\n",
    "print(3)\n",
    "print(4)"
   ]
  },
  {
   "cell_type": "code",
   "execution_count": 4,
   "id": "e2c3eb88",
   "metadata": {},
   "outputs": [
    {
     "name": "stdout",
     "output_type": "stream",
     "text": [
      "1\n",
      "2\n",
      "3\n",
      "4\n",
      "5\n"
     ]
    }
   ],
   "source": [
    "n = 5\n",
    "\n",
    "num = 1\n",
    "while num <= n:\n",
    "    print(num)\n",
    "    num = num + 1"
   ]
  },
  {
   "cell_type": "code",
   "execution_count": null,
   "id": "7839df1c",
   "metadata": {},
   "outputs": [],
   "source": [
    "### While v/s If"
   ]
  },
  {
   "cell_type": "code",
   "execution_count": 5,
   "id": "80151037",
   "metadata": {},
   "outputs": [
    {
     "name": "stdout",
     "output_type": "stream",
     "text": [
      "1\n",
      "2\n",
      "3\n",
      "4\n",
      "5\n",
      "Done with while\n"
     ]
    }
   ],
   "source": [
    "n = 5\n",
    "\n",
    "num = 1\n",
    "while num <= n:\n",
    "    print(num)\n",
    "    num = num + 1\n",
    "print(\"Done with while\")"
   ]
  },
  {
   "cell_type": "code",
   "execution_count": 6,
   "id": "4539fb01",
   "metadata": {},
   "outputs": [
    {
     "name": "stdout",
     "output_type": "stream",
     "text": [
      "1\n",
      "Done with if\n"
     ]
    }
   ],
   "source": [
    "n = 5\n",
    "\n",
    "num = 1\n",
    "if num <= n:\n",
    "    print(num)\n",
    "    num = num + 1\n",
    "print(\"Done with if\")"
   ]
  },
  {
   "cell_type": "markdown",
   "id": "f6a98bd7",
   "metadata": {},
   "source": [
    "### While loop"
   ]
  },
  {
   "cell_type": "markdown",
   "id": "d9e257e9",
   "metadata": {},
   "source": [
    "```\n",
    "Initialise looping variable\n",
    "\n",
    "while condition (on looping variable):\n",
    "    Do something\n",
    "    change looping variable\n",
    "    Do something\n",
    "```"
   ]
  },
  {
   "cell_type": "code",
   "execution_count": null,
   "id": "5a16e54b",
   "metadata": {},
   "outputs": [],
   "source": [
    "n = 5\n",
    "\n",
    "# Init the looping variable num to 1\n",
    "num = 1\n",
    "\n",
    "# Check the condition (which depends on looping var)\n",
    "while num <= n:\n",
    "    # Do something ...\n",
    "    print(num)\n",
    "    # Modify the value of the looping variable\n",
    "    num = num + 1\n",
    "    # Do something ..."
   ]
  },
  {
   "cell_type": "code",
   "execution_count": 7,
   "id": "31d282b2",
   "metadata": {},
   "outputs": [
    {
     "name": "stdout",
     "output_type": "stream",
     "text": [
      "1\n",
      "3\n",
      "5\n",
      "7\n",
      "9\n",
      "11\n"
     ]
    }
   ],
   "source": [
    "## Print odd numbers from 1, 3, ... N\n",
    "\n",
    "n = 11\n",
    "\n",
    "num = 1\n",
    "while num <=n:\n",
    "    print(num)\n",
    "    \n",
    "    num = num + 2"
   ]
  },
  {
   "cell_type": "code",
   "execution_count": 9,
   "id": "77d9dc44",
   "metadata": {},
   "outputs": [
    {
     "name": "stdout",
     "output_type": "stream",
     "text": [
      "1\n",
      "3\n",
      "5\n",
      "7\n",
      "9\n",
      "11\n"
     ]
    }
   ],
   "source": [
    "n = 11\n",
    "\n",
    "num = 1\n",
    "while num <=n:\n",
    "    if num%2 == 1:\n",
    "        print(num)\n",
    "    \n",
    "    num = num + 1"
   ]
  },
  {
   "cell_type": "code",
   "execution_count": 10,
   "id": "329ca797",
   "metadata": {},
   "outputs": [
    {
     "name": "stdout",
     "output_type": "stream",
     "text": [
      "1 2 4 8 16 32 "
     ]
    }
   ],
   "source": [
    "### \n",
    "# 1 2 4 8 16 32 2^N\n",
    "\n",
    "n = 5\n",
    "\n",
    "# Init the looping variable num to 0 as 2^0 \n",
    "# is 1 which is the first term\n",
    "num = 0\n",
    "\n",
    "# Check condition\n",
    "while num<=n:\n",
    "    # Print\n",
    "    print(2**num, end=\" \")\n",
    "    \n",
    "    # Modify looping var\n",
    "    num = num + 1\n",
    "\n",
    "    "
   ]
  },
  {
   "cell_type": "code",
   "execution_count": 23,
   "id": "0ddda6d1",
   "metadata": {},
   "outputs": [
    {
     "name": "stdout",
     "output_type": "stream",
     "text": [
      "10\n"
     ]
    }
   ],
   "source": [
    "\n",
    "s = 0\n",
    "\n",
    "# natural number\n",
    "nat = 1\n",
    "\n",
    "# total numbers we are considering\n",
    "n = 4\n",
    "\n",
    "while nat <=n:\n",
    "    s = s + nat\n",
    "    nat = nat + 1\n",
    "print(s)\n"
   ]
  },
  {
   "cell_type": "code",
   "execution_count": null,
   "id": "e54310f6",
   "metadata": {},
   "outputs": [],
   "source": [
    "# What is sum of first 4 natural \n",
    "# numbers in terms of sum of first 3 natural numbers"
   ]
  },
  {
   "cell_type": "code",
   "execution_count": null,
   "id": "062cf5b4",
   "metadata": {},
   "outputs": [],
   "source": [
    "s_0 = 0\n",
    "s_1 = s_0 + 1\n",
    "s_2 = s_1 + 2\n",
    "s_3 = s_2 + 3\n",
    "s_4 = s_3 + 4"
   ]
  },
  {
   "cell_type": "code",
   "execution_count": 18,
   "id": "03c8587e",
   "metadata": {},
   "outputs": [
    {
     "name": "stdout",
     "output_type": "stream",
     "text": [
      "10\n"
     ]
    }
   ],
   "source": [
    "print(n*(n+1)//2)"
   ]
  },
  {
   "cell_type": "code",
   "execution_count": 20,
   "id": "ecb399c5",
   "metadata": {},
   "outputs": [
    {
     "data": {
      "text/plain": [
       "10"
      ]
     },
     "execution_count": 20,
     "metadata": {},
     "output_type": "execute_result"
    }
   ],
   "source": [
    "sum(range(1, n+1, 1))"
   ]
  },
  {
   "cell_type": "code",
   "execution_count": 25,
   "id": "1533ff83",
   "metadata": {},
   "outputs": [
    {
     "name": "stdout",
     "output_type": "stream",
     "text": [
      "3628800\n"
     ]
    }
   ],
   "source": [
    "### Factorial\n",
    "\n",
    "\n",
    "p = 1\n",
    "\n",
    "# natural number\n",
    "nat = 1\n",
    "\n",
    "# total numbers we are considering\n",
    "n = 10\n",
    "\n",
    "while nat <=n:\n",
    "    p = p * nat\n",
    "    nat = nat + 1\n",
    "print(p)\n"
   ]
  },
  {
   "cell_type": "code",
   "execution_count": 26,
   "id": "b59930cb",
   "metadata": {},
   "outputs": [
    {
     "data": {
      "text/plain": [
       "3628800"
      ]
     },
     "execution_count": 26,
     "metadata": {},
     "output_type": "execute_result"
    }
   ],
   "source": [
    "import math\n",
    "math.factorial(n)"
   ]
  },
  {
   "cell_type": "code",
   "execution_count": 30,
   "id": "423749c7",
   "metadata": {},
   "outputs": [
    {
     "name": "stdout",
     "output_type": "stream",
     "text": [
      "1!=1\n",
      "2!=2\n",
      "3!=6\n",
      "4!=24\n",
      "5!=120\n",
      "6!=720\n",
      "7!=5040\n",
      "8!=40320\n",
      "9!=362880\n",
      "10!=3628800\n"
     ]
    }
   ],
   "source": [
    "### Factorial\n",
    "\n",
    "\n",
    "p = 1\n",
    "\n",
    "# natural number\n",
    "nat = 1\n",
    "\n",
    "# total numbers we are considering\n",
    "n = 10\n",
    "\n",
    "while nat <=n:\n",
    "    p = p * nat\n",
    "    print(f\"{nat}!={p}\")\n",
    "    nat = nat + 1\n"
   ]
  },
  {
   "cell_type": "code",
   "execution_count": 37,
   "id": "ff1acb5e",
   "metadata": {},
   "outputs": [
    {
     "name": "stdout",
     "output_type": "stream",
     "text": [
      "Odd number:3, Sum till now: 4\n",
      "Odd number:5, Sum till now: 9\n",
      "Odd number:7, Sum till now: 16\n",
      "Odd number:9, Sum till now: 25\n",
      "25\n"
     ]
    }
   ],
   "source": [
    "n = 5\n",
    "\n",
    "s = 1\n",
    "\n",
    "o = 1\n",
    "# count of odd numbers I have seen thus far\n",
    "count = 1\n",
    "\n",
    "while count<n:\n",
    "    o = o + 2\n",
    "    s = s + o\n",
    "    print(f\"Odd number:{o}, Sum till now: {s}\")\n",
    "    count = count + 1\n",
    "print(s)\n"
   ]
  },
  {
   "cell_type": "code",
   "execution_count": null,
   "id": "28367a1f",
   "metadata": {},
   "outputs": [],
   "source": [
    "#    print(str(nat)+\"!=\"+str(p))\n"
   ]
  },
  {
   "cell_type": "code",
   "execution_count": 2,
   "id": "3d7eefbc",
   "metadata": {},
   "outputs": [
    {
     "name": "stdout",
     "output_type": "stream",
     "text": [
      "1*1= 1 1*2= 2 1*3= 3 1*4= 4 1*5= 5 \n",
      "2*1= 2 2*2= 4 2*3= 6 2*4= 8 2*5= 10 \n",
      "3*1= 3 3*2= 6 3*3= 9 3*4= 12 3*5= 15 \n",
      "4*1= 4 4*2= 8 4*3= 12 4*4= 16 4*5= 20 \n",
      "5*1= 5 5*2= 10 5*3= 15 5*4= 20 5*5= 25 \n"
     ]
    }
   ],
   "source": [
    "i = 1\n",
    "n = 5\n",
    "\n",
    "while i<=n:\n",
    "    j = 1\n",
    "    while j <=n:\n",
    "        print(i, \"*\", j, \"= \", i*j, sep='', end=' ')\n",
    "        j = j +1\n",
    "    print()\n",
    "    i = i +1\n",
    "    \n",
    "    "
   ]
  },
  {
   "cell_type": "code",
   "execution_count": null,
   "id": "8766ae3b",
   "metadata": {},
   "outputs": [],
   "source": []
  }
 ],
 "metadata": {
  "kernelspec": {
   "display_name": "Python 3 (ipykernel)",
   "language": "python",
   "name": "python3"
  },
  "language_info": {
   "codemirror_mode": {
    "name": "ipython",
    "version": 3
   },
   "file_extension": ".py",
   "mimetype": "text/x-python",
   "name": "python",
   "nbconvert_exporter": "python",
   "pygments_lexer": "ipython3",
   "version": "3.8.13"
  }
 },
 "nbformat": 4,
 "nbformat_minor": 5
}
