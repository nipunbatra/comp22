{
 "cells": [
  {
   "cell_type": "code",
   "execution_count": 6,
   "id": "8e41d37c",
   "metadata": {},
   "outputs": [],
   "source": [
    "from sympy import *\n",
    "init_printing(use_unicode=True)"
   ]
  },
  {
   "cell_type": "code",
   "execution_count": 7,
   "id": "c8c750ea",
   "metadata": {},
   "outputs": [],
   "source": [
    "n, k = symbols(\"n k\")"
   ]
  },
  {
   "cell_type": "code",
   "execution_count": 8,
   "id": "0d96ef48",
   "metadata": {},
   "outputs": [],
   "source": [
    "expr = Limit((1 + k/n)**n, n, oo)"
   ]
  },
  {
   "cell_type": "code",
   "execution_count": 9,
   "id": "4a99adb4",
   "metadata": {},
   "outputs": [
    {
     "data": {
      "image/png": "[encoded data removed]",
      "text/latex": [
       "$\\displaystyle \\lim_{n \\to \\infty} \\left(\\frac{k}{n} + 1\\right)^{n}$"
      ],
      "text/plain": [
       "           n\n",
       "    ⎛k    ⎞ \n",
       "lim ⎜─ + 1⎟ \n",
       "n─→∞⎝n    ⎠ "
      ]
     },
     "execution_count": 9,
     "metadata": {},
     "output_type": "execute_result"
    }
   ],
   "source": [
    "expr"
   ]
  },
  {
   "cell_type": "code",
   "execution_count": 10,
   "id": "fb6ef979",
   "metadata": {},
   "outputs": [
    {
     "data": {
      "image/png": "[encoded data removed]",
      "text/latex": [
       "$\\displaystyle e^{k}$"
      ],
      "text/plain": [
       " k\n",
       "ℯ "
      ]
     },
     "execution_count": 10,
     "metadata": {},
     "output_type": "execute_result"
    }
   ],
   "source": [
    "expr.doit()"
   ]
  },
  {
   "cell_type": "code",
   "execution_count": null,
   "id": "ff407e2d",
   "metadata": {},
   "outputs": [],
   "source": []
  }
 ],
 "metadata": {
  "kernelspec": {
   "display_name": "Python 3 (ipykernel)",
   "language": "python",
   "name": "python3"
  },
  "language_info": {
   "codemirror_mode": {
    "name": "ipython",
    "version": 3
   },
   "file_extension": ".py",
   "mimetype": "text/x-python",
   "name": "python",
   "nbconvert_exporter": "python",
   "pygments_lexer": "ipython3",
   "version": "3.8.13"
  }
 },
 "nbformat": 4,
 "nbformat_minor": 5
}
