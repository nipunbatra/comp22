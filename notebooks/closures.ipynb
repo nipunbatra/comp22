{
 "cells": [
  {
   "cell_type": "code",
   "execution_count": 58,
   "id": "5fd634d8",
   "metadata": {},
   "outputs": [],
   "source": [
    "def make_account(initial_deposit):\n",
    "    assert initial_deposit >= 0\n",
    "    balance = initial_deposit\n",
    "    def withdraw(amount):\n",
    "        nonlocal balance\n",
    "        assert balance >= amount\n",
    "        balance = balance - amount\n",
    "    def deposit(amount):\n",
    "        nonlocal balance\n",
    "        balance = balance + amount\n",
    "    def check():\n",
    "        nonlocal balance\n",
    "        return balance\n",
    "    return (withdraw, deposit, check)"
   ]
  },
  {
   "cell_type": "code",
   "execution_count": 59,
   "id": "f13d612e",
   "metadata": {},
   "outputs": [],
   "source": [
    "mukesh = make_account(10000000)"
   ]
  },
  {
   "cell_type": "code",
   "execution_count": 60,
   "id": "d2ffe376",
   "metadata": {},
   "outputs": [
    {
     "data": {
      "text/plain": [
       "tuple"
      ]
     },
     "execution_count": 60,
     "metadata": {},
     "output_type": "execute_result"
    }
   ],
   "source": [
    "type(mukesh)"
   ]
  },
  {
   "cell_type": "code",
   "execution_count": 61,
   "id": "df74952c",
   "metadata": {},
   "outputs": [
    {
     "data": {
      "text/plain": [
       "function"
      ]
     },
     "execution_count": 61,
     "metadata": {},
     "output_type": "execute_result"
    }
   ],
   "source": [
    "type(mukesh[0])"
   ]
  },
  {
   "cell_type": "code",
   "execution_count": 62,
   "id": "c5998dbc",
   "metadata": {},
   "outputs": [
    {
     "data": {
      "text/plain": [
       "function"
      ]
     },
     "execution_count": 62,
     "metadata": {},
     "output_type": "execute_result"
    }
   ],
   "source": [
    "type(mukesh[1])"
   ]
  },
  {
   "cell_type": "code",
   "execution_count": 63,
   "id": "256c871c",
   "metadata": {},
   "outputs": [
    {
     "data": {
      "text/plain": [
       "function"
      ]
     },
     "execution_count": 63,
     "metadata": {},
     "output_type": "execute_result"
    }
   ],
   "source": [
    "type(mukesh[2])"
   ]
  },
  {
   "cell_type": "code",
   "execution_count": 64,
   "id": "fae4abf4",
   "metadata": {},
   "outputs": [
    {
     "data": {
      "text/plain": [
       "3"
      ]
     },
     "execution_count": 64,
     "metadata": {},
     "output_type": "execute_result"
    }
   ],
   "source": [
    "len(mukesh)"
   ]
  },
  {
   "cell_type": "code",
   "execution_count": 65,
   "id": "39698fc5",
   "metadata": {},
   "outputs": [
    {
     "data": {
      "text/plain": [
       "10000000"
      ]
     },
     "execution_count": 65,
     "metadata": {},
     "output_type": "execute_result"
    }
   ],
   "source": [
    "mukesh[2]()"
   ]
  },
  {
   "cell_type": "code",
   "execution_count": 66,
   "id": "33e05cc0",
   "metadata": {},
   "outputs": [],
   "source": [
    "mukesh[0](1000)"
   ]
  },
  {
   "cell_type": "code",
   "execution_count": 67,
   "id": "4a269ab4",
   "metadata": {},
   "outputs": [
    {
     "data": {
      "text/plain": [
       "9999000"
      ]
     },
     "execution_count": 67,
     "metadata": {},
     "output_type": "execute_result"
    }
   ],
   "source": [
    "mukesh[2]()"
   ]
  },
  {
   "cell_type": "code",
   "execution_count": 68,
   "id": "6bd6af1c",
   "metadata": {},
   "outputs": [],
   "source": [
    "mukesh[1](100)"
   ]
  },
  {
   "cell_type": "code",
   "execution_count": 69,
   "id": "abb16dc0",
   "metadata": {},
   "outputs": [
    {
     "data": {
      "text/plain": [
       "9999100"
      ]
     },
     "execution_count": 69,
     "metadata": {},
     "output_type": "execute_result"
    }
   ],
   "source": [
    "mukesh[2]()"
   ]
  },
  {
   "cell_type": "code",
   "execution_count": 70,
   "id": "9e1e7723",
   "metadata": {},
   "outputs": [],
   "source": [
    "suresh = make_account(1000)"
   ]
  },
  {
   "cell_type": "code",
   "execution_count": 71,
   "id": "5330b623",
   "metadata": {},
   "outputs": [
    {
     "data": {
      "text/plain": [
       "tuple"
      ]
     },
     "execution_count": 71,
     "metadata": {},
     "output_type": "execute_result"
    }
   ],
   "source": [
    "type(suresh)"
   ]
  },
  {
   "cell_type": "code",
   "execution_count": 72,
   "id": "48d0c2eb",
   "metadata": {},
   "outputs": [
    {
     "data": {
      "text/plain": [
       "3"
      ]
     },
     "execution_count": 72,
     "metadata": {},
     "output_type": "execute_result"
    }
   ],
   "source": [
    "len(suresh)"
   ]
  },
  {
   "cell_type": "code",
   "execution_count": 73,
   "id": "3c979e9f",
   "metadata": {},
   "outputs": [
    {
     "data": {
      "text/plain": [
       "(function, function, function)"
      ]
     },
     "execution_count": 73,
     "metadata": {},
     "output_type": "execute_result"
    }
   ],
   "source": [
    "type(suresh[0]), type(suresh[1]), type(suresh[2])"
   ]
  },
  {
   "cell_type": "code",
   "execution_count": 74,
   "id": "1e82a437",
   "metadata": {},
   "outputs": [],
   "source": [
    "suresh[0](50)"
   ]
  },
  {
   "cell_type": "code",
   "execution_count": 75,
   "id": "2b61055b",
   "metadata": {},
   "outputs": [
    {
     "data": {
      "text/plain": [
       "950"
      ]
     },
     "execution_count": 75,
     "metadata": {},
     "output_type": "execute_result"
    }
   ],
   "source": [
    "suresh[2]()"
   ]
  },
  {
   "cell_type": "code",
   "execution_count": 76,
   "id": "6fbdac3a",
   "metadata": {},
   "outputs": [],
   "source": [
    "suresh[1](1000)"
   ]
  },
  {
   "cell_type": "code",
   "execution_count": 77,
   "id": "b935ab8f",
   "metadata": {},
   "outputs": [
    {
     "data": {
      "text/plain": [
       "1950"
      ]
     },
     "execution_count": 77,
     "metadata": {},
     "output_type": "execute_result"
    }
   ],
   "source": [
    "suresh[2]()"
   ]
  },
  {
   "cell_type": "code",
   "execution_count": 78,
   "id": "0f6a5e6e",
   "metadata": {},
   "outputs": [
    {
     "data": {
      "text/plain": [
       "9999100"
      ]
     },
     "execution_count": 78,
     "metadata": {},
     "output_type": "execute_result"
    }
   ],
   "source": [
    "mukesh[2]()"
   ]
  },
  {
   "cell_type": "code",
   "execution_count": 79,
   "id": "e227a9dd",
   "metadata": {},
   "outputs": [
    {
     "ename": "AssertionError",
     "evalue": "",
     "output_type": "error",
     "traceback": [
      "\u001b[0;31m---------------------------------------------------------------------------\u001b[0m",
      "\u001b[0;31mAssertionError\u001b[0m                            Traceback (most recent call last)",
      "Cell \u001b[0;32mIn [79], line 1\u001b[0m\n\u001b[0;32m----> 1\u001b[0m \u001b[43msuresh\u001b[49m\u001b[43m[\u001b[49m\u001b[38;5;241;43m0\u001b[39;49m\u001b[43m]\u001b[49m\u001b[43m(\u001b[49m\u001b[38;5;241;43m2000\u001b[39;49m\u001b[43m)\u001b[49m\n",
      "Cell \u001b[0;32mIn [58], line 6\u001b[0m, in \u001b[0;36mmake_account.<locals>.withdraw\u001b[0;34m(amount)\u001b[0m\n\u001b[1;32m      4\u001b[0m \u001b[38;5;28;01mdef\u001b[39;00m \u001b[38;5;21mwithdraw\u001b[39m(amount):\n\u001b[1;32m      5\u001b[0m     \u001b[38;5;28;01mnonlocal\u001b[39;00m balance\n\u001b[0;32m----> 6\u001b[0m     \u001b[38;5;28;01massert\u001b[39;00m balance \u001b[38;5;241m>\u001b[39m\u001b[38;5;241m=\u001b[39m amount\n\u001b[1;32m      7\u001b[0m     balance \u001b[38;5;241m=\u001b[39m balance \u001b[38;5;241m-\u001b[39m amount\n",
      "\u001b[0;31mAssertionError\u001b[0m: "
     ]
    }
   ],
   "source": [
    "suresh[0](2000)"
   ]
  },
  {
   "cell_type": "code",
   "execution_count": null,
   "id": "06eeaec7",
   "metadata": {},
   "outputs": [],
   "source": [
    "suresh[2]()"
   ]
  },
  {
   "cell_type": "code",
   "execution_count": 83,
   "id": "4ad100eb",
   "metadata": {},
   "outputs": [
    {
     "ename": "AssertionError",
     "evalue": "",
     "output_type": "error",
     "traceback": [
      "\u001b[0;31m---------------------------------------------------------------------------\u001b[0m",
      "\u001b[0;31mAssertionError\u001b[0m                            Traceback (most recent call last)",
      "Cell \u001b[0;32mIn [83], line 1\u001b[0m\n\u001b[0;32m----> 1\u001b[0m sumesh \u001b[38;5;241m=\u001b[39m \u001b[43mmake_account\u001b[49m\u001b[43m(\u001b[49m\u001b[38;5;241;43m-\u001b[39;49m\u001b[38;5;241;43m100\u001b[39;49m\u001b[43m)\u001b[49m\n",
      "Cell \u001b[0;32mIn [58], line 2\u001b[0m, in \u001b[0;36mmake_account\u001b[0;34m(initial_deposit)\u001b[0m\n\u001b[1;32m      1\u001b[0m \u001b[38;5;28;01mdef\u001b[39;00m \u001b[38;5;21mmake_account\u001b[39m(initial_deposit):\n\u001b[0;32m----> 2\u001b[0m     \u001b[38;5;28;01massert\u001b[39;00m initial_deposit \u001b[38;5;241m>\u001b[39m\u001b[38;5;241m=\u001b[39m \u001b[38;5;241m0\u001b[39m\n\u001b[1;32m      3\u001b[0m     balance \u001b[38;5;241m=\u001b[39m initial_deposit\n\u001b[1;32m      4\u001b[0m     \u001b[38;5;28;01mdef\u001b[39;00m \u001b[38;5;21mwithdraw\u001b[39m(amount):\n",
      "\u001b[0;31mAssertionError\u001b[0m: "
     ]
    }
   ],
   "source": [
    "sumesh = make_account(-100)"
   ]
  },
  {
   "cell_type": "code",
   "execution_count": 84,
   "id": "292368b7",
   "metadata": {},
   "outputs": [
    {
     "data": {
      "text/plain": [
       "-100"
      ]
     },
     "execution_count": 84,
     "metadata": {},
     "output_type": "execute_result"
    }
   ],
   "source": [
    "sumesh[2]()"
   ]
  },
  {
   "cell_type": "code",
   "execution_count": 85,
   "id": "8ffaa96f",
   "metadata": {},
   "outputs": [
    {
     "name": "stdout",
     "output_type": "stream",
     "text": [
      "5\n"
     ]
    }
   ],
   "source": [
    "y = 3\n",
    "def f(x):\n",
    "    return y + x\n",
    "print(f(2))"
   ]
  },
  {
   "cell_type": "code",
   "execution_count": 86,
   "id": "2f6221b6",
   "metadata": {},
   "outputs": [
    {
     "ename": "UnboundLocalError",
     "evalue": "local variable 'y' referenced before assignment",
     "output_type": "error",
     "traceback": [
      "\u001b[0;31m---------------------------------------------------------------------------\u001b[0m",
      "\u001b[0;31mUnboundLocalError\u001b[0m                         Traceback (most recent call last)",
      "Cell \u001b[0;32mIn [86], line 4\u001b[0m\n\u001b[1;32m      2\u001b[0m \u001b[38;5;28;01mdef\u001b[39;00m \u001b[38;5;21mf\u001b[39m(x):\n\u001b[1;32m      3\u001b[0m     y \u001b[38;5;241m=\u001b[39m y \u001b[38;5;241m+\u001b[39m x\n\u001b[0;32m----> 4\u001b[0m \u001b[43mf\u001b[49m\u001b[43m(\u001b[49m\u001b[38;5;241;43m2\u001b[39;49m\u001b[43m)\u001b[49m\n\u001b[1;32m      5\u001b[0m \u001b[38;5;28mprint\u001b[39m(y)\n",
      "Cell \u001b[0;32mIn [86], line 3\u001b[0m, in \u001b[0;36mf\u001b[0;34m(x)\u001b[0m\n\u001b[1;32m      2\u001b[0m \u001b[38;5;28;01mdef\u001b[39;00m \u001b[38;5;21mf\u001b[39m(x):\n\u001b[0;32m----> 3\u001b[0m     y \u001b[38;5;241m=\u001b[39m \u001b[43my\u001b[49m \u001b[38;5;241m+\u001b[39m x\n",
      "\u001b[0;31mUnboundLocalError\u001b[0m: local variable 'y' referenced before assignment"
     ]
    }
   ],
   "source": [
    "y = 3\n",
    "def f(x):\n",
    "    y = y + x\n",
    "f(2)\n",
    "print(y)"
   ]
  },
  {
   "cell_type": "code",
   "execution_count": 87,
   "id": "085d8232",
   "metadata": {},
   "outputs": [
    {
     "name": "stdout",
     "output_type": "stream",
     "text": [
      "5\n"
     ]
    }
   ],
   "source": [
    "y = 3\n",
    "def f(x):\n",
    "    global y\n",
    "    y = y + x\n",
    "f(2)\n",
    "print(y)"
   ]
  },
  {
   "cell_type": "code",
   "execution_count": 88,
   "id": "9c30c65b",
   "metadata": {},
   "outputs": [
    {
     "ename": "UnboundLocalError",
     "evalue": "local variable 'y' referenced before assignment",
     "output_type": "error",
     "traceback": [
      "\u001b[0;31m---------------------------------------------------------------------------\u001b[0m",
      "\u001b[0;31mUnboundLocalError\u001b[0m                         Traceback (most recent call last)",
      "Cell \u001b[0;32mIn [88], line 5\u001b[0m\n\u001b[1;32m      3\u001b[0m     z \u001b[38;5;241m=\u001b[39m y \u001b[38;5;241m+\u001b[39m x\n\u001b[1;32m      4\u001b[0m     y \u001b[38;5;241m=\u001b[39m z\n\u001b[0;32m----> 5\u001b[0m \u001b[43mf\u001b[49m\u001b[43m(\u001b[49m\u001b[38;5;241;43m2\u001b[39;49m\u001b[43m)\u001b[49m\n\u001b[1;32m      6\u001b[0m \u001b[38;5;28mprint\u001b[39m(y)\n",
      "Cell \u001b[0;32mIn [88], line 3\u001b[0m, in \u001b[0;36mf\u001b[0;34m(x)\u001b[0m\n\u001b[1;32m      2\u001b[0m \u001b[38;5;28;01mdef\u001b[39;00m \u001b[38;5;21mf\u001b[39m(x):\n\u001b[0;32m----> 3\u001b[0m     z \u001b[38;5;241m=\u001b[39m \u001b[43my\u001b[49m \u001b[38;5;241m+\u001b[39m x\n\u001b[1;32m      4\u001b[0m     y \u001b[38;5;241m=\u001b[39m z\n",
      "\u001b[0;31mUnboundLocalError\u001b[0m: local variable 'y' referenced before assignment"
     ]
    }
   ],
   "source": [
    "y = 3\n",
    "def f(x):\n",
    "    z = y + x\n",
    "    y = z\n",
    "f(2)\n",
    "print(y)"
   ]
  },
  {
   "cell_type": "code",
   "execution_count": 99,
   "id": "e980ec37",
   "metadata": {},
   "outputs": [],
   "source": [
    "fs = []\n",
    "for i in range(10):\n",
    "    def f(x):\n",
    "        return i + x\n",
    "    fs.append(f)"
   ]
  },
  {
   "cell_type": "code",
   "execution_count": 90,
   "id": "9ea5dcf1",
   "metadata": {},
   "outputs": [
    {
     "data": {
      "text/plain": [
       "10"
      ]
     },
     "execution_count": 90,
     "metadata": {},
     "output_type": "execute_result"
    }
   ],
   "source": [
    "len(fs)"
   ]
  },
  {
   "cell_type": "code",
   "execution_count": 91,
   "id": "e6492851",
   "metadata": {},
   "outputs": [
    {
     "name": "stdout",
     "output_type": "stream",
     "text": [
      "10\n",
      "10\n",
      "10\n",
      "10\n",
      "10\n",
      "10\n",
      "10\n",
      "10\n",
      "10\n",
      "10\n"
     ]
    }
   ],
   "source": [
    "for f in fs:\n",
    "    print(f(1))"
   ]
  },
  {
   "cell_type": "code",
   "execution_count": 92,
   "id": "7ce29787",
   "metadata": {},
   "outputs": [],
   "source": [
    "def square(x):\n",
    "    return x*x\n",
    "\n",
    "def cube(x):\n",
    "    return x*square(x)\n",
    "\n",
    "def quad(x):\n",
    "    return x * cube(x)\n",
    "\n",
    "xs = [square, cube, quad]"
   ]
  },
  {
   "cell_type": "code",
   "execution_count": 93,
   "id": "d335e2b3",
   "metadata": {},
   "outputs": [
    {
     "data": {
      "text/plain": [
       "1.44"
      ]
     },
     "execution_count": 93,
     "metadata": {},
     "output_type": "execute_result"
    }
   ],
   "source": [
    "xs[0](1.2)"
   ]
  },
  {
   "cell_type": "code",
   "execution_count": 94,
   "id": "be06c2c7",
   "metadata": {},
   "outputs": [
    {
     "data": {
      "text/plain": [
       "2.1970000000000005"
      ]
     },
     "execution_count": 94,
     "metadata": {},
     "output_type": "execute_result"
    }
   ],
   "source": [
    "xs[1](1.3)"
   ]
  },
  {
   "cell_type": "code",
   "execution_count": 95,
   "id": "f0d0df92",
   "metadata": {},
   "outputs": [
    {
     "data": {
      "text/plain": [
       "3.841599999999999"
      ]
     },
     "execution_count": 95,
     "metadata": {},
     "output_type": "execute_result"
    }
   ],
   "source": [
    "xs[2](1.4)"
   ]
  },
  {
   "cell_type": "code",
   "execution_count": 97,
   "id": "20f91d3b",
   "metadata": {},
   "outputs": [
    {
     "name": "stdout",
     "output_type": "stream",
     "text": [
      "10\n",
      "10\n",
      "10\n",
      "10\n",
      "10\n",
      "10\n",
      "10\n",
      "10\n",
      "10\n",
      "10\n"
     ]
    }
   ],
   "source": [
    "fs = []\n",
    "for i in range(10):\n",
    "    def f(x):\n",
    "        j = i\n",
    "        return j + x\n",
    "    fs.append(f)\n",
    "\n",
    "for f in fs:\n",
    "    print(f(1))"
   ]
  },
  {
   "cell_type": "code",
   "execution_count": 98,
   "id": "f85d6b38",
   "metadata": {},
   "outputs": [],
   "source": [
    "# Homework: Get the above to work so that 1, 2, ..., 10 is printed."
   ]
  },
  {
   "cell_type": "code",
   "execution_count": null,
   "id": "986a428e",
   "metadata": {},
   "outputs": [],
   "source": []
  }
 ],
 "metadata": {
  "kernelspec": {
   "display_name": "Python 3 (ipykernel)",
   "language": "python",
   "name": "python3"
  },
  "language_info": {
   "codemirror_mode": {
    "name": "ipython",
    "version": 3
   },
   "file_extension": ".py",
   "mimetype": "text/x-python",
   "name": "python",
   "nbconvert_exporter": "python",
   "pygments_lexer": "ipython3",
   "version": "3.10.8"
  }
 },
 "nbformat": 4,
 "nbformat_minor": 5
}
