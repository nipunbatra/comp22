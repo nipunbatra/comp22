{
 "cells": [
  {
   "cell_type": "code",
   "execution_count": 1,
   "id": "8dd0a03a",
   "metadata": {},
   "outputs": [
    {
     "data": {
      "text/plain": [
       "0.1875"
      ]
     },
     "execution_count": 1,
     "metadata": {},
     "output_type": "execute_result"
    }
   ],
   "source": [
    "# Use only 4 digits of precision\n",
    "\n",
    "0/2 + 0/4 + 1/8 + 1/16"
   ]
  },
  {
   "cell_type": "code",
   "execution_count": 2,
   "id": "f627bd58",
   "metadata": {},
   "outputs": [
    {
     "data": {
      "text/plain": [
       "0.19921875"
      ]
     },
     "execution_count": 2,
     "metadata": {},
     "output_type": "execute_result"
    }
   ],
   "source": [
    "# Use only 8 digits of precision\n",
    "\n",
    "0/2 + 0/4 + 1/8 + 1/16 + 0/32 + 0/64 + 1/128 + 1/256"
   ]
  },
  {
   "cell_type": "code",
   "execution_count": 3,
   "id": "fc14bcdd",
   "metadata": {},
   "outputs": [
    {
     "name": "stdout",
     "output_type": "stream",
     "text": [
      "0.2\n"
     ]
    }
   ],
   "source": [
    "print(0.2)"
   ]
  },
  {
   "cell_type": "code",
   "execution_count": 4,
   "id": "d76b4953",
   "metadata": {},
   "outputs": [
    {
     "name": "stdout",
     "output_type": "stream",
     "text": [
      "0.2\n"
     ]
    }
   ],
   "source": [
    "print(0.1 + 0.1)"
   ]
  },
  {
   "cell_type": "code",
   "execution_count": 5,
   "id": "f92df207",
   "metadata": {},
   "outputs": [
    {
     "name": "stdout",
     "output_type": "stream",
     "text": [
      "0.30000000000000004\n"
     ]
    }
   ],
   "source": [
    "print(0.1 + 0.1 + 0.1)"
   ]
  },
  {
   "cell_type": "code",
   "execution_count": 8,
   "id": "d55bd769",
   "metadata": {},
   "outputs": [
    {
     "name": "stdout",
     "output_type": "stream",
     "text": [
      "0.7999999999999999\n"
     ]
    }
   ],
   "source": [
    "print(0.1 + 0.1 + 0.1 + 0.1 + 0.1 + 0.1 + 0.1 + 0.1)"
   ]
  },
  {
   "cell_type": "code",
   "execution_count": 10,
   "id": "5499a718",
   "metadata": {},
   "outputs": [
    {
     "name": "stdout",
     "output_type": "stream",
     "text": [
      "True\n",
      "False\n"
     ]
    }
   ],
   "source": [
    "tolerance = 0.0001\n",
    "\n",
    "expected = 0.3\n",
    "\n",
    "actual = 0.1 + 0.1 + 0.1\n",
    "\n",
    "print(abs(actual - expected) < tolerance)\n",
    "print(actual == expected)"
   ]
  },
  {
   "cell_type": "code",
   "execution_count": null,
   "id": "d4bd7b3e",
   "metadata": {},
   "outputs": [],
   "source": [
    "https://docs.python.org/3/tutorial/floatingpoint.html"
   ]
  },
  {
   "cell_type": "code",
   "execution_count": null,
   "id": "48a11538",
   "metadata": {},
   "outputs": [],
   "source": [
    "x1 and x2\n",
    "\n",
    "if x1 is False  whole expression is False, no need to evaluate x2\n"
   ]
  },
  {
   "cell_type": "code",
   "execution_count": 14,
   "id": "4cb90a64",
   "metadata": {},
   "outputs": [
    {
     "data": {
      "text/plain": [
       "(15, 20)"
      ]
     },
     "execution_count": 14,
     "metadata": {},
     "output_type": "execute_result"
    }
   ],
   "source": [
    "a = 10\n",
    "b = 5\n",
    "a = a+ b\n",
    "b = a+ b\n",
    "a, b"
   ]
  },
  {
   "cell_type": "code",
   "execution_count": 15,
   "id": "fc1ed4fb",
   "metadata": {},
   "outputs": [
    {
     "name": "stdout",
     "output_type": "stream",
     "text": [
      "=\n"
     ]
    }
   ],
   "source": [
    "a = 10\n",
    "b = 5\n",
    "\n",
    "if a + b == b + a:\n",
    "    print(\"=\")\n",
    "else:\n",
    "    print(\"Not\")"
   ]
  },
  {
   "cell_type": "code",
   "execution_count": 21,
   "id": "5ad12743",
   "metadata": {},
   "outputs": [
    {
     "name": "stdout",
     "output_type": "stream",
     "text": [
      "<class 'float'>\n"
     ]
    }
   ],
   "source": [
    "print(type(6/2))"
   ]
  },
  {
   "cell_type": "code",
   "execution_count": 26,
   "id": "526a960f",
   "metadata": {},
   "outputs": [
    {
     "name": "stdout",
     "output_type": "stream",
     "text": [
      "3 3.0 0\n",
      "<class 'int'> <class 'float'> <class 'int'>\n"
     ]
    }
   ],
   "source": [
    "print(6//2, 6/2, 6%2)\n",
    "print(type(6//2), type(6/2), type(6%2))"
   ]
  },
  {
   "cell_type": "code",
   "execution_count": 13,
   "id": "cf656629",
   "metadata": {},
   "outputs": [
    {
     "name": "stdout",
     "output_type": "stream",
     "text": [
      "No\n"
     ]
    }
   ],
   "source": [
    "if 0==1 and 1/0==1:\n",
    "    print(\"Yes\")\n",
    "else:\n",
    "    print(\"No\")"
   ]
  },
  {
   "cell_type": "code",
   "execution_count": 12,
   "id": "3ca30554",
   "metadata": {},
   "outputs": [
    {
     "ename": "ZeroDivisionError",
     "evalue": "division by zero",
     "output_type": "error",
     "traceback": [
      "\u001b[0;31m---------------------------------------------------------------------------\u001b[0m",
      "\u001b[0;31mZeroDivisionError\u001b[0m                         Traceback (most recent call last)",
      "Input \u001b[0;32mIn [12]\u001b[0m, in \u001b[0;36m<cell line: 1>\u001b[0;34m()\u001b[0m\n\u001b[0;32m----> 1\u001b[0m \u001b[38;5;28;01mif\u001b[39;00m \u001b[38;5;241m0\u001b[39m\u001b[38;5;241m==\u001b[39m\u001b[38;5;241m1\u001b[39m \u001b[38;5;129;01mor\u001b[39;00m \u001b[38;5;241;43m1\u001b[39;49m\u001b[38;5;241;43m/\u001b[39;49m\u001b[38;5;241;43m0\u001b[39;49m\u001b[38;5;241m==\u001b[39m\u001b[38;5;241m1\u001b[39m:\n\u001b[1;32m      2\u001b[0m     \u001b[38;5;28mprint\u001b[39m(\u001b[38;5;124m\"\u001b[39m\u001b[38;5;124mYes\u001b[39m\u001b[38;5;124m\"\u001b[39m)\n\u001b[1;32m      3\u001b[0m \u001b[38;5;28;01melse\u001b[39;00m:\n",
      "\u001b[0;31mZeroDivisionError\u001b[0m: division by zero"
     ]
    }
   ],
   "source": [
    "if 0==1 or 1/0==1:\n",
    "    print(\"Yes\")\n",
    "else:\n",
    "    print(\"No\")"
   ]
  },
  {
   "cell_type": "code",
   "execution_count": 27,
   "id": "98c32ce8",
   "metadata": {},
   "outputs": [
    {
     "name": "stdout",
     "output_type": "stream",
     "text": [
      "not equal\n"
     ]
    }
   ],
   "source": [
    "if 0.1 + 0.2 == 0.3:\n",
    "    print(\"=\")\n",
    "else:\n",
    "    print(\"not equal\")"
   ]
  },
  {
   "cell_type": "code",
   "execution_count": 28,
   "id": "f0cb3da3",
   "metadata": {},
   "outputs": [
    {
     "data": {
      "text/plain": [
       "0.30000000000000004"
      ]
     },
     "execution_count": 28,
     "metadata": {},
     "output_type": "execute_result"
    }
   ],
   "source": [
    "0.1 + 0.2"
   ]
  },
  {
   "cell_type": "code",
   "execution_count": 29,
   "id": "82f04663",
   "metadata": {},
   "outputs": [
    {
     "data": {
      "text/plain": [
       "True"
      ]
     },
     "execution_count": 29,
     "metadata": {},
     "output_type": "execute_result"
    }
   ],
   "source": [
    "0.1 + 0.1 == 0.2"
   ]
  },
  {
   "cell_type": "code",
   "execution_count": 31,
   "id": "b4d1ae3a",
   "metadata": {},
   "outputs": [
    {
     "name": "stdout",
     "output_type": "stream",
     "text": [
      "Program complete\n"
     ]
    }
   ],
   "source": [
    "x = 9\n",
    "if x > 10:\n",
    "    print(\"Greater than 10\")\n",
    "print(\"Program complete\")"
   ]
  },
  {
   "cell_type": "code",
   "execution_count": 32,
   "id": "01992e6d",
   "metadata": {},
   "outputs": [
    {
     "name": "stdout",
     "output_type": "stream",
     "text": [
      "\u001b[1m\u001b[36mIntroduction\u001b[m\u001b[m                      replit.nix\r\n",
      "\u001b[1m\u001b[36m__pycache__\u001b[m\u001b[m                       \u001b[1m\u001b[36mspreadsheet\u001b[m\u001b[m\r\n",
      "driver.py                         string-conditionals-1.ipynb\r\n",
      "floating-point-conditionals.ipynb test-conditional.py\r\n",
      "poetry.lock                       variables-expressions.ipynb\r\n",
      "pyproject.toml                    \u001b[1m\u001b[36mvenv\u001b[m\u001b[m\r\n"
     ]
    }
   ],
   "source": [
    "!ls"
   ]
  },
  {
   "cell_type": "markdown",
   "id": "ced2ba88",
   "metadata": {},
   "source": [
    "![](oneway.png)"
   ]
  },
  {
   "cell_type": "code",
   "execution_count": 33,
   "id": "20bdc154",
   "metadata": {},
   "outputs": [
    {
     "name": "stdout",
     "output_type": "stream",
     "text": [
      "Less than or equal to 10\n",
      "Program complete\n"
     ]
    }
   ],
   "source": [
    "x = 9\n",
    "if x > 10:\n",
    "    print(\"Greater than 10\")\n",
    "else:\n",
    "    print(\"Less than or equal to 10\")\n",
    "print(\"Program complete\")"
   ]
  },
  {
   "cell_type": "code",
   "execution_count": 36,
   "id": "ced2a43d",
   "metadata": {},
   "outputs": [
    {
     "name": "stdout",
     "output_type": "stream",
     "text": [
      ">10\n"
     ]
    }
   ],
   "source": [
    "x = 11\n",
    "if x > 10:\n",
    "    print(\">10\")\n",
    "elif x < 10:\n",
    "    print(\"<10\")\n",
    "else:\n",
    "    print(\"=10\")"
   ]
  },
  {
   "cell_type": "code",
   "execution_count": 43,
   "id": "71d29e10",
   "metadata": {},
   "outputs": [
    {
     "name": "stdout",
     "output_type": "stream",
     "text": [
      ">10\n"
     ]
    }
   ],
   "source": [
    "x = 11\n",
    "if x > 10:\n",
    "    print(\">10\")\n",
    "if x < 10:\n",
    "    print(\"<10\")\n",
    "if x == 10:\n",
    "    print(\"=10\")"
   ]
  },
  {
   "cell_type": "code",
   "execution_count": 45,
   "id": "e529f7d3",
   "metadata": {},
   "outputs": [
    {
     "name": "stdout",
     "output_type": "stream",
     "text": [
      "Even\n"
     ]
    }
   ],
   "source": [
    "x = 6\n",
    "\n",
    "if x%2 == 0:\n",
    "    print(\"Even\")"
   ]
  },
  {
   "cell_type": "code",
   "execution_count": 60,
   "id": "047aa970",
   "metadata": {},
   "outputs": [],
   "source": [
    "# rock beats scissors\n",
    "# scissors beats paper\n",
    "# paper beats rock\n",
    "\n",
    "\n",
    "u = 's' # User\n",
    "c = 'r' # Computer"
   ]
  },
  {
   "cell_type": "code",
   "execution_count": 61,
   "id": "3d9adcf3",
   "metadata": {},
   "outputs": [
    {
     "name": "stdout",
     "output_type": "stream",
     "text": [
      "c wins comp: r user: s\n"
     ]
    }
   ],
   "source": [
    "if u == \"r\" and c == \"r\":\n",
    "    print(\"Tie\")\n",
    "elif u == \"r\" and c == \"p\":\n",
    "    print(\"c wins\", \"comp:\", c, \"user:\", u)\n",
    "elif u == \"r\" and c == \"s\":\n",
    "    print(\"u wins\", \"comp:\", c, \"user:\", u)  \n",
    "elif u == \"p\" and c == \"r\":\n",
    "    print(\"u wins\", \"comp:\", c, \"user:\", u)\n",
    "elif u == \"p\" and c == \"p\":\n",
    "    print(\"Tie\")\n",
    "elif u == \"p\" and c == \"s\":\n",
    "    print(\"c wins\", \"comp:\", c, \"user:\", u)\n",
    "elif u == \"s\" and c == \"r\":\n",
    "    print(\"c wins\", \"comp:\", c, \"user:\", u)\n",
    "elif u == \"s\" and c == \"p\":\n",
    "    print(\"u wins\", \"comp:\", c, \"user:\", u)\n",
    "elif u == \"s\" and c == \"s\":\n",
    "    print(\"tie\")\n",
    "    \n"
   ]
  },
  {
   "cell_type": "code",
   "execution_count": 62,
   "id": "906b03a1",
   "metadata": {},
   "outputs": [
    {
     "name": "stdout",
     "output_type": "stream",
     "text": [
      "c wins comp: r user: s\n"
     ]
    }
   ],
   "source": [
    "## Version 2: Handles all the ties\n",
    "\n",
    "\n",
    "if u == c:\n",
    "    print(\"tie\")\n",
    "elif u == \"r\" and c == \"p\":\n",
    "    print(\"c wins\", \"comp:\", c, \"user:\", u)\n",
    "elif u == \"r\" and c == \"s\":\n",
    "    print(\"u wins\", \"comp:\", c, \"user:\", u)  \n",
    "elif u == \"p\" and c == \"r\":\n",
    "    print(\"u wins\", \"comp:\", c, \"user:\", u)\n",
    "\n",
    "elif u == \"p\" and c == \"s\":\n",
    "    print(\"c wins\", \"comp:\", c, \"user:\", u)\n",
    "elif u == \"s\" and c == \"r\":\n",
    "    print(\"c wins\", \"comp:\", c, \"user:\", u)\n",
    "elif u == \"s\" and c == \"p\":\n",
    "    print(\"u wins\", \"comp:\", c, \"user:\", u)\n",
    "\n",
    "    \n"
   ]
  },
  {
   "cell_type": "code",
   "execution_count": 64,
   "id": "88828713",
   "metadata": {},
   "outputs": [
    {
     "name": "stdout",
     "output_type": "stream",
     "text": [
      "c wins comp: r user: s\n"
     ]
    }
   ],
   "source": [
    "# Nested conditionals\n",
    "\n",
    "if u == c:\n",
    "    print(\"tie\")\n",
    "elif u == \"r\":\n",
    "    if c == \"p\":\n",
    "        print(\"c wins\", \"comp:\", c, \"user:\", u)\n",
    "    else: # c has scisors\n",
    "        print(\"u wins\", \"comp:\", c, \"user:\", u)\n",
    "elif u == \"p\":\n",
    "    if c == \"r\":\n",
    "        print(\"u wins\", \"comp:\", c, \"user:\", u)\n",
    "    else:\n",
    "        print(\"c wins\", \"comp:\", c, \"user:\", u)\n",
    "else:\n",
    "    if c == \"r\":\n",
    "        print(\"c wins\", \"comp:\", c, \"user:\", u)\n",
    "    else:\n",
    "        print(\"u wins\", \"comp:\", c, \"user:\", u)\n",
    "        \n",
    "    "
   ]
  },
  {
   "cell_type": "markdown",
   "id": "e0b8582a",
   "metadata": {},
   "source": [
    "Use this encoding\n",
    "r: 0\n",
    "p: 1\n",
    "s : 2\n",
    "\n",
    "Use modulus operator somehow to figure when the computer wins"
   ]
  },
  {
   "cell_type": "markdown",
   "id": "300ae817",
   "metadata": {},
   "source": [
    "Reference: https://therenegadecoder.com/code/rock-paper-scissors-using-modular-arithmetic/"
   ]
  },
  {
   "cell_type": "code",
   "execution_count": 65,
   "id": "626b8d37",
   "metadata": {},
   "outputs": [
    {
     "name": "stdout",
     "output_type": "stream",
     "text": [
      "Comp wins\n"
     ]
    }
   ],
   "source": [
    "\n",
    "u = 0\n",
    "c = 1\n",
    "if u==c:\n",
    "    print('tie')\n",
    "elif (u+1)%3 == c:\n",
    "    print(\"Comp wins\")\n",
    "else:\n",
    "    print(\"User wins\")"
   ]
  },
  {
   "cell_type": "code",
   "execution_count": 66,
   "id": "b135f57a",
   "metadata": {},
   "outputs": [
    {
     "data": {
      "text/plain": [
       "0.30000000000000004"
      ]
     },
     "execution_count": 66,
     "metadata": {},
     "output_type": "execute_result"
    }
   ],
   "source": [
    "0.1 + 0.2"
   ]
  },
  {
   "cell_type": "code",
   "execution_count": 68,
   "id": "f79404a4",
   "metadata": {},
   "outputs": [
    {
     "data": {
      "text/plain": [
       "'S10'"
      ]
     },
     "execution_count": 68,
     "metadata": {},
     "output_type": "execute_result"
    }
   ],
   "source": [
    "\"S\" + \"10\""
   ]
  },
  {
   "cell_type": "code",
   "execution_count": 70,
   "id": "ab7b8917",
   "metadata": {},
   "outputs": [
    {
     "data": {
      "text/plain": [
       "20.0"
      ]
     },
     "execution_count": 70,
     "metadata": {},
     "output_type": "execute_result"
    }
   ],
   "source": [
    "s = 10.0\n",
    "s + 10"
   ]
  },
  {
   "cell_type": "code",
   "execution_count": 73,
   "id": "c9056c99",
   "metadata": {},
   "outputs": [
    {
     "name": "stdout",
     "output_type": "stream",
     "text": [
      "s10\n",
      "s10\n",
      "S10\n",
      "S 10\n"
     ]
    }
   ],
   "source": [
    "print(\"s\", 10, sep='')\n",
    "print(\"s\" + str(10))\n",
    "print(\"S10\")\n",
    "print(\"S 10\")"
   ]
  },
  {
   "cell_type": "code",
   "execution_count": null,
   "id": "b9df52ab",
   "metadata": {},
   "outputs": [],
   "source": [
    "if a + b == b + a\n",
    "if (a + b) == (b + a)"
   ]
  },
  {
   "cell_type": "code",
   "execution_count": 74,
   "id": "577c48f8",
   "metadata": {},
   "outputs": [
    {
     "ename": "ZeroDivisionError",
     "evalue": "division by zero",
     "output_type": "error",
     "traceback": [
      "\u001b[0;31m---------------------------------------------------------------------------\u001b[0m",
      "\u001b[0;31mZeroDivisionError\u001b[0m                         Traceback (most recent call last)",
      "Input \u001b[0;32mIn [74]\u001b[0m, in \u001b[0;36m<cell line: 1>\u001b[0;34m()\u001b[0m\n\u001b[0;32m----> 1\u001b[0m \u001b[38;5;241;43m1\u001b[39;49m\u001b[38;5;241;43m/\u001b[39;49m\u001b[38;5;241;43m0\u001b[39;49m\n",
      "\u001b[0;31mZeroDivisionError\u001b[0m: division by zero"
     ]
    }
   ],
   "source": [
    "1/0"
   ]
  },
  {
   "cell_type": "code",
   "execution_count": 75,
   "id": "627945ec",
   "metadata": {},
   "outputs": [
    {
     "data": {
      "text/plain": [
       "False"
      ]
     },
     "execution_count": 75,
     "metadata": {},
     "output_type": "execute_result"
    }
   ],
   "source": [
    "0.1 + 0.2 == 0.3"
   ]
  },
  {
   "cell_type": "code",
   "execution_count": 76,
   "id": "9e548ff3",
   "metadata": {},
   "outputs": [
    {
     "data": {
      "text/plain": [
       "True"
      ]
     },
     "execution_count": 76,
     "metadata": {},
     "output_type": "execute_result"
    }
   ],
   "source": [
    "0.1 + 0.1 == 0.2"
   ]
  },
  {
   "cell_type": "code",
   "execution_count": null,
   "id": "f3cc136b",
   "metadata": {},
   "outputs": [],
   "source": [
    "marks = 85\n",
    "\n",
    "if 80 <= marks <=90:\n",
    "    print(\"B\")\n",
    "\n",
    "# Equivalent to\n",
    "if marks>=80 and marks <=90:\n",
    "    print(\"B\")"
   ]
  }
 ],
 "metadata": {
  "kernelspec": {
   "display_name": "Python 3 (ipykernel)",
   "language": "python",
   "name": "python3"
  },
  "language_info": {
   "codemirror_mode": {
    "name": "ipython",
    "version": 3
   },
   "file_extension": ".py",
   "mimetype": "text/x-python",
   "name": "python",
   "nbconvert_exporter": "python",
   "pygments_lexer": "ipython3",
   "version": "3.8.13"
  }
 },
 "nbformat": 4,
 "nbformat_minor": 5
}
