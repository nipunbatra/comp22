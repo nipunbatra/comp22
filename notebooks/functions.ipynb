{
 "cells": [
  {
   "cell_type": "code",
   "execution_count": 6,
   "id": "139d09c1",
   "metadata": {},
   "outputs": [
    {
     "data": {
      "text/plain": [
       "-10"
      ]
     },
     "execution_count": 6,
     "metadata": {},
     "output_type": "execute_result"
    }
   ],
   "source": [
    "min(1, 2, -10, 5)"
   ]
  },
  {
   "cell_type": "code",
   "execution_count": 7,
   "id": "919acc86",
   "metadata": {},
   "outputs": [
    {
     "data": {
      "text/plain": [
       "'abc'"
      ]
     },
     "execution_count": 7,
     "metadata": {},
     "output_type": "execute_result"
    }
   ],
   "source": [
    "min(\"abc\", \"def\")"
   ]
  },
  {
   "cell_type": "code",
   "execution_count": 8,
   "id": "84de5adf",
   "metadata": {},
   "outputs": [
    {
     "ename": "TypeError",
     "evalue": "'<' not supported between instances of 'int' and 'str'",
     "output_type": "error",
     "traceback": [
      "\u001b[0;31m---------------------------------------------------------------------------\u001b[0m",
      "\u001b[0;31mTypeError\u001b[0m                                 Traceback (most recent call last)",
      "Cell \u001b[0;32mIn [8], line 1\u001b[0m\n\u001b[0;32m----> 1\u001b[0m \u001b[38;5;28;43mmin\u001b[39;49m\u001b[43m(\u001b[49m\u001b[38;5;124;43m\"\u001b[39;49m\u001b[38;5;124;43mabc\u001b[39;49m\u001b[38;5;124;43m\"\u001b[39;49m\u001b[43m,\u001b[49m\u001b[43m \u001b[49m\u001b[38;5;241;43m1\u001b[39;49m\u001b[43m)\u001b[49m\n",
      "\u001b[0;31mTypeError\u001b[0m: '<' not supported between instances of 'int' and 'str'"
     ]
    }
   ],
   "source": [
    "min(\"abc\", 1)"
   ]
  },
  {
   "cell_type": "code",
   "execution_count": 9,
   "id": "6e850167",
   "metadata": {},
   "outputs": [
    {
     "ename": "NameError",
     "evalue": "name 'area_of_circle' is not defined",
     "output_type": "error",
     "traceback": [
      "\u001b[0;31m---------------------------------------------------------------------------\u001b[0m",
      "\u001b[0;31mNameError\u001b[0m                                 Traceback (most recent call last)",
      "Cell \u001b[0;32mIn [9], line 1\u001b[0m\n\u001b[0;32m----> 1\u001b[0m \u001b[43marea_of_circle\u001b[49m(\u001b[38;5;241m7.0\u001b[39m)\n",
      "\u001b[0;31mNameError\u001b[0m: name 'area_of_circle' is not defined"
     ]
    }
   ],
   "source": [
    "area_of_circle(7.0)"
   ]
  },
  {
   "cell_type": "code",
   "execution_count": 10,
   "id": "57d82845",
   "metadata": {},
   "outputs": [
    {
     "data": {
      "text/plain": [
       "1"
      ]
     },
     "execution_count": 10,
     "metadata": {},
     "output_type": "execute_result"
    }
   ],
   "source": [
    "x"
   ]
  },
  {
   "cell_type": "code",
   "execution_count": 11,
   "id": "08f9629a",
   "metadata": {},
   "outputs": [
    {
     "ename": "NameError",
     "evalue": "name 'asdf' is not defined",
     "output_type": "error",
     "traceback": [
      "\u001b[0;31m---------------------------------------------------------------------------\u001b[0m",
      "\u001b[0;31mNameError\u001b[0m                                 Traceback (most recent call last)",
      "Cell \u001b[0;32mIn [11], line 1\u001b[0m\n\u001b[0;32m----> 1\u001b[0m \u001b[43masdf\u001b[49m\n",
      "\u001b[0;31mNameError\u001b[0m: name 'asdf' is not defined"
     ]
    }
   ],
   "source": [
    "asdf"
   ]
  },
  {
   "cell_type": "code",
   "execution_count": 12,
   "id": "3c2120fa",
   "metadata": {},
   "outputs": [],
   "source": [
    "asdf = 1"
   ]
  },
  {
   "cell_type": "code",
   "execution_count": 13,
   "id": "4737db9b",
   "metadata": {},
   "outputs": [
    {
     "data": {
      "text/plain": [
       "1"
      ]
     },
     "execution_count": 13,
     "metadata": {},
     "output_type": "execute_result"
    }
   ],
   "source": [
    "asdf"
   ]
  },
  {
   "cell_type": "code",
   "execution_count": 14,
   "id": "f56d2e48",
   "metadata": {},
   "outputs": [],
   "source": [
    "area_of_circle = 3.14 * 7.0 * 7.0"
   ]
  },
  {
   "cell_type": "code",
   "execution_count": 15,
   "id": "a501bd2b",
   "metadata": {},
   "outputs": [
    {
     "data": {
      "text/plain": [
       "153.86"
      ]
     },
     "execution_count": 15,
     "metadata": {},
     "output_type": "execute_result"
    }
   ],
   "source": [
    "area_of_circle"
   ]
  },
  {
   "cell_type": "code",
   "execution_count": 16,
   "id": "b3ed3777",
   "metadata": {},
   "outputs": [],
   "source": [
    "def area_of_circle(r):\n",
    "    return 3.14 * r * r\n"
   ]
  },
  {
   "cell_type": "code",
   "execution_count": 17,
   "id": "f9349d90",
   "metadata": {},
   "outputs": [
    {
     "data": {
      "text/plain": [
       "153.86"
      ]
     },
     "execution_count": 17,
     "metadata": {},
     "output_type": "execute_result"
    }
   ],
   "source": [
    "area_of_circle(7.0)"
   ]
  },
  {
   "cell_type": "code",
   "execution_count": 18,
   "id": "fab58626",
   "metadata": {},
   "outputs": [],
   "source": [
    "def area_of_rectangle(length, breadth):\n",
    "    return length * breadth"
   ]
  },
  {
   "cell_type": "code",
   "execution_count": 19,
   "id": "f68c4edb",
   "metadata": {},
   "outputs": [
    {
     "data": {
      "text/plain": [
       "37.1"
      ]
     },
     "execution_count": 19,
     "metadata": {},
     "output_type": "execute_result"
    }
   ],
   "source": [
    "area_of_rectangle(5.3, 7)"
   ]
  },
  {
   "cell_type": "code",
   "execution_count": 20,
   "id": "cd2fd6d3",
   "metadata": {},
   "outputs": [
    {
     "data": {
      "text/plain": [
       "'abcabcabc'"
      ]
     },
     "execution_count": 20,
     "metadata": {},
     "output_type": "execute_result"
    }
   ],
   "source": [
    "area_of_rectangle(\"abc\", 3)"
   ]
  },
  {
   "cell_type": "code",
   "execution_count": 21,
   "id": "b2b0b477",
   "metadata": {},
   "outputs": [
    {
     "data": {
      "text/plain": [
       "'abcabcabc'"
      ]
     },
     "execution_count": 21,
     "metadata": {},
     "output_type": "execute_result"
    }
   ],
   "source": [
    "\"abc\" * 3"
   ]
  },
  {
   "cell_type": "code",
   "execution_count": 22,
   "id": "ecae1f43",
   "metadata": {},
   "outputs": [],
   "source": [
    "def k():\n",
    "    return 2.7"
   ]
  },
  {
   "cell_type": "code",
   "execution_count": 23,
   "id": "56cc323b",
   "metadata": {},
   "outputs": [
    {
     "data": {
      "text/plain": [
       "2.7"
      ]
     },
     "execution_count": 23,
     "metadata": {},
     "output_type": "execute_result"
    }
   ],
   "source": [
    "k()"
   ]
  },
  {
   "cell_type": "code",
   "execution_count": 24,
   "id": "296c1b4a",
   "metadata": {},
   "outputs": [
    {
     "data": {
      "text/plain": [
       "2.7"
      ]
     },
     "execution_count": 24,
     "metadata": {},
     "output_type": "execute_result"
    }
   ],
   "source": [
    "k()"
   ]
  },
  {
   "cell_type": "code",
   "execution_count": 25,
   "id": "948ea096",
   "metadata": {},
   "outputs": [],
   "source": [
    "r7 = area_of_circle(7)"
   ]
  },
  {
   "cell_type": "code",
   "execution_count": 26,
   "id": "728db2ab",
   "metadata": {},
   "outputs": [
    {
     "data": {
      "text/plain": [
       "153.86"
      ]
     },
     "execution_count": 26,
     "metadata": {},
     "output_type": "execute_result"
    }
   ],
   "source": [
    "r7"
   ]
  },
  {
   "cell_type": "code",
   "execution_count": 27,
   "id": "59d901fe",
   "metadata": {},
   "outputs": [],
   "source": [
    "r8 = area_of_circle(8)"
   ]
  },
  {
   "cell_type": "code",
   "execution_count": 28,
   "id": "bcb2efef",
   "metadata": {},
   "outputs": [
    {
     "data": {
      "text/plain": [
       "200.96"
      ]
     },
     "execution_count": 28,
     "metadata": {},
     "output_type": "execute_result"
    }
   ],
   "source": [
    "r8"
   ]
  },
  {
   "cell_type": "code",
   "execution_count": 29,
   "id": "1e49e63b",
   "metadata": {},
   "outputs": [],
   "source": [
    "a = 5 * 3"
   ]
  },
  {
   "cell_type": "code",
   "execution_count": 30,
   "id": "99bf8e6d",
   "metadata": {},
   "outputs": [
    {
     "data": {
      "text/plain": [
       "329.0"
      ]
     },
     "execution_count": 30,
     "metadata": {},
     "output_type": "execute_result"
    }
   ],
   "source": [
    "area_of_circle(10) + area_of_rectangle(5, 3)"
   ]
  },
  {
   "cell_type": "code",
   "execution_count": 31,
   "id": "ad0ed354",
   "metadata": {},
   "outputs": [
    {
     "data": {
      "text/plain": [
       "'abcabcabcdefdef'"
      ]
     },
     "execution_count": 31,
     "metadata": {},
     "output_type": "execute_result"
    }
   ],
   "source": [
    "area_of_rectangle(\"abc\", 3) + area_of_rectangle(\"def\", 2)"
   ]
  },
  {
   "cell_type": "code",
   "execution_count": 32,
   "id": "f50cd7fe",
   "metadata": {},
   "outputs": [],
   "source": [
    "def describe_roots(a, b, c):\n",
    "    d = b*b - 4*a*c\n",
    "    if d > 0:\n",
    "        return \"Real and distinct.\"\n",
    "    elif d == 0:\n",
    "        return \"Real and equal.\"\n",
    "    else:\n",
    "        return \"Imaginary.\""
   ]
  },
  {
   "cell_type": "code",
   "execution_count": 33,
   "id": "869a1eb6",
   "metadata": {},
   "outputs": [
    {
     "data": {
      "text/plain": [
       "'Imaginary.'"
      ]
     },
     "execution_count": 33,
     "metadata": {},
     "output_type": "execute_result"
    }
   ],
   "source": [
    "describe_roots(1, 1, 1)"
   ]
  },
  {
   "cell_type": "code",
   "execution_count": 36,
   "id": "1d3820e2",
   "metadata": {},
   "outputs": [],
   "source": [
    "def describe_roots1(a, b, c):\n",
    "    d = b*b - 4*a*c\n",
    "    if d > 0:\n",
    "        print(\"Real and distinct.\")\n",
    "    elif d == 0:\n",
    "        print(\"Real and equal.\")\n",
    "    else:\n",
    "        print(\"Imaginary.\")"
   ]
  },
  {
   "cell_type": "code",
   "execution_count": 37,
   "id": "5d1de570",
   "metadata": {},
   "outputs": [
    {
     "name": "stdout",
     "output_type": "stream",
     "text": [
      "Imaginary.\n"
     ]
    }
   ],
   "source": [
    "describe_roots1(1, 1, 1)"
   ]
  },
  {
   "cell_type": "code",
   "execution_count": 38,
   "id": "36953909",
   "metadata": {},
   "outputs": [],
   "source": [
    "def describe_roots(a, b, c):\n",
    "    d = b*b - 4*a*c\n",
    "    if d > 0:\n",
    "        return \"Real and distinct.\"\n",
    "    elif d == 0:\n",
    "        return \"Real and equal.\"\n",
    "    else:\n",
    "        return \"Imaginary.\""
   ]
  },
  {
   "cell_type": "code",
   "execution_count": 39,
   "id": "7253b94a",
   "metadata": {},
   "outputs": [
    {
     "data": {
      "text/plain": [
       "'Imaginary.'"
      ]
     },
     "execution_count": 39,
     "metadata": {},
     "output_type": "execute_result"
    }
   ],
   "source": [
    "describe_roots(1, 1, 1)"
   ]
  },
  {
   "cell_type": "code",
   "execution_count": 40,
   "id": "deabf9cd",
   "metadata": {},
   "outputs": [],
   "source": [
    "s0 = describe_roots(1, 1, 1)"
   ]
  },
  {
   "cell_type": "code",
   "execution_count": 41,
   "id": "6d6fe55e",
   "metadata": {},
   "outputs": [
    {
     "data": {
      "text/plain": [
       "'Imaginary.'"
      ]
     },
     "execution_count": 41,
     "metadata": {},
     "output_type": "execute_result"
    }
   ],
   "source": [
    "s0"
   ]
  },
  {
   "cell_type": "code",
   "execution_count": 42,
   "id": "bd9bd429",
   "metadata": {},
   "outputs": [
    {
     "name": "stdout",
     "output_type": "stream",
     "text": [
      "Imaginary.\n"
     ]
    }
   ],
   "source": [
    "s1 = describe_roots1(1, 1, 1)"
   ]
  },
  {
   "cell_type": "code",
   "execution_count": 43,
   "id": "edfd50ca",
   "metadata": {},
   "outputs": [],
   "source": [
    "s1"
   ]
  },
  {
   "cell_type": "code",
   "execution_count": 44,
   "id": "027417c4",
   "metadata": {},
   "outputs": [
    {
     "name": "stdout",
     "output_type": "stream",
     "text": [
      "None\n"
     ]
    }
   ],
   "source": [
    "print(s1)"
   ]
  },
  {
   "cell_type": "code",
   "execution_count": 45,
   "id": "e74a7645",
   "metadata": {},
   "outputs": [
    {
     "data": {
      "text/plain": [
       "int"
      ]
     },
     "execution_count": 45,
     "metadata": {},
     "output_type": "execute_result"
    }
   ],
   "source": [
    "type(1)"
   ]
  },
  {
   "cell_type": "code",
   "execution_count": 46,
   "id": "8becaee3",
   "metadata": {},
   "outputs": [
    {
     "data": {
      "text/plain": [
       "float"
      ]
     },
     "execution_count": 46,
     "metadata": {},
     "output_type": "execute_result"
    }
   ],
   "source": [
    "type(3.14)"
   ]
  },
  {
   "cell_type": "code",
   "execution_count": 47,
   "id": "d0b74181",
   "metadata": {},
   "outputs": [
    {
     "data": {
      "text/plain": [
       "NoneType"
      ]
     },
     "execution_count": 47,
     "metadata": {},
     "output_type": "execute_result"
    }
   ],
   "source": [
    "type(None)"
   ]
  },
  {
   "cell_type": "code",
   "execution_count": 48,
   "id": "e141278f",
   "metadata": {},
   "outputs": [
    {
     "name": "stdout",
     "output_type": "stream",
     "text": [
      "Hello\n"
     ]
    }
   ],
   "source": [
    "a = print(\"Hello\")"
   ]
  },
  {
   "cell_type": "code",
   "execution_count": 49,
   "id": "b74595e0",
   "metadata": {},
   "outputs": [
    {
     "name": "stdout",
     "output_type": "stream",
     "text": [
      "None\n"
     ]
    }
   ],
   "source": [
    "print(a)"
   ]
  },
  {
   "cell_type": "code",
   "execution_count": 50,
   "id": "a71e1711",
   "metadata": {},
   "outputs": [],
   "source": [
    "def foo():\n",
    "    return None\n"
   ]
  },
  {
   "cell_type": "code",
   "execution_count": 51,
   "id": "64aca09e",
   "metadata": {},
   "outputs": [],
   "source": [
    "b = foo()"
   ]
  },
  {
   "cell_type": "code",
   "execution_count": 52,
   "id": "9e9b7347",
   "metadata": {},
   "outputs": [
    {
     "name": "stdout",
     "output_type": "stream",
     "text": [
      "None\n"
     ]
    }
   ],
   "source": [
    "print(b)"
   ]
  },
  {
   "cell_type": "code",
   "execution_count": 53,
   "id": "6f7e08f8",
   "metadata": {},
   "outputs": [],
   "source": [
    "xs = [describe_roots(1, 1, 1), describe_roots(3, 3, 1), describe_roots(1, 2, 1)]"
   ]
  },
  {
   "cell_type": "code",
   "execution_count": 54,
   "id": "f103d6cf",
   "metadata": {},
   "outputs": [
    {
     "data": {
      "text/plain": [
       "['Imaginary.', 'Imaginary.', 'Real and equal.']"
      ]
     },
     "execution_count": 54,
     "metadata": {},
     "output_type": "execute_result"
    }
   ],
   "source": [
    "xs"
   ]
  },
  {
   "cell_type": "code",
   "execution_count": 55,
   "id": "90f0e272",
   "metadata": {},
   "outputs": [
    {
     "name": "stdout",
     "output_type": "stream",
     "text": [
      "Imaginary.\n",
      "Imaginary.\n",
      "Real and equal.\n"
     ]
    }
   ],
   "source": [
    "ys = [describe_roots1(1, 1, 1), describe_roots1(3, 3, 1), describe_roots1(1, 2, 1)]"
   ]
  },
  {
   "cell_type": "code",
   "execution_count": 56,
   "id": "232230a7",
   "metadata": {},
   "outputs": [
    {
     "data": {
      "text/plain": [
       "[None, None, None]"
      ]
     },
     "execution_count": 56,
     "metadata": {},
     "output_type": "execute_result"
    }
   ],
   "source": [
    "ys"
   ]
  },
  {
   "cell_type": "code",
   "execution_count": 57,
   "id": "90f07f86",
   "metadata": {},
   "outputs": [
    {
     "name": "stdout",
     "output_type": "stream",
     "text": [
      "Imaginary.\n"
     ]
    }
   ],
   "source": [
    "print(xs[0])"
   ]
  },
  {
   "cell_type": "code",
   "execution_count": 58,
   "id": "c03b6fdf",
   "metadata": {},
   "outputs": [],
   "source": [
    "def foo(x):\n",
    "    if x > 0:\n",
    "        return \"positive\"\n",
    "    elif x < 0:\n",
    "        return \"negative\"\n",
    "    "
   ]
  },
  {
   "cell_type": "code",
   "execution_count": 59,
   "id": "68d7de34",
   "metadata": {},
   "outputs": [],
   "source": [
    "p = foo(3)"
   ]
  },
  {
   "cell_type": "code",
   "execution_count": 60,
   "id": "95283d8a",
   "metadata": {},
   "outputs": [],
   "source": [
    "q = foo(-1)"
   ]
  },
  {
   "cell_type": "code",
   "execution_count": 61,
   "id": "d075a334",
   "metadata": {},
   "outputs": [],
   "source": [
    "r = foo(0)"
   ]
  },
  {
   "cell_type": "code",
   "execution_count": 62,
   "id": "860c305b",
   "metadata": {},
   "outputs": [
    {
     "data": {
      "text/plain": [
       "'positive'"
      ]
     },
     "execution_count": 62,
     "metadata": {},
     "output_type": "execute_result"
    }
   ],
   "source": [
    "p"
   ]
  },
  {
   "cell_type": "code",
   "execution_count": 63,
   "id": "7d154182",
   "metadata": {},
   "outputs": [
    {
     "data": {
      "text/plain": [
       "str"
      ]
     },
     "execution_count": 63,
     "metadata": {},
     "output_type": "execute_result"
    }
   ],
   "source": [
    "type(p)"
   ]
  },
  {
   "cell_type": "code",
   "execution_count": 64,
   "id": "64e1a130",
   "metadata": {},
   "outputs": [
    {
     "data": {
      "text/plain": [
       "'negative'"
      ]
     },
     "execution_count": 64,
     "metadata": {},
     "output_type": "execute_result"
    }
   ],
   "source": [
    "q"
   ]
  },
  {
   "cell_type": "code",
   "execution_count": 65,
   "id": "e8faa287",
   "metadata": {},
   "outputs": [
    {
     "data": {
      "text/plain": [
       "str"
      ]
     },
     "execution_count": 65,
     "metadata": {},
     "output_type": "execute_result"
    }
   ],
   "source": [
    "type(q)"
   ]
  },
  {
   "cell_type": "code",
   "execution_count": 66,
   "id": "718bd225",
   "metadata": {},
   "outputs": [],
   "source": [
    "r"
   ]
  },
  {
   "cell_type": "code",
   "execution_count": 67,
   "id": "eb1b4294",
   "metadata": {},
   "outputs": [
    {
     "data": {
      "text/plain": [
       "NoneType"
      ]
     },
     "execution_count": 67,
     "metadata": {},
     "output_type": "execute_result"
    }
   ],
   "source": [
    "type(r)"
   ]
  },
  {
   "cell_type": "code",
   "execution_count": 68,
   "id": "bf21d01d",
   "metadata": {},
   "outputs": [
    {
     "data": {
      "text/plain": [
       "(3, 1)"
      ]
     },
     "execution_count": 68,
     "metadata": {},
     "output_type": "execute_result"
    }
   ],
   "source": [
    "divmod(7, 2)"
   ]
  },
  {
   "cell_type": "code",
   "execution_count": 69,
   "id": "40f305d2",
   "metadata": {},
   "outputs": [],
   "source": [
    "q, r = divmod(7, 2)"
   ]
  },
  {
   "cell_type": "code",
   "execution_count": 70,
   "id": "79aa153a",
   "metadata": {},
   "outputs": [
    {
     "data": {
      "text/plain": [
       "3"
      ]
     },
     "execution_count": 70,
     "metadata": {},
     "output_type": "execute_result"
    }
   ],
   "source": [
    "q"
   ]
  },
  {
   "cell_type": "code",
   "execution_count": 71,
   "id": "0fa529ef",
   "metadata": {},
   "outputs": [
    {
     "data": {
      "text/plain": [
       "1"
      ]
     },
     "execution_count": 71,
     "metadata": {},
     "output_type": "execute_result"
    }
   ],
   "source": [
    "r"
   ]
  },
  {
   "cell_type": "code",
   "execution_count": 72,
   "id": "674ccf1c",
   "metadata": {},
   "outputs": [
    {
     "data": {
      "text/plain": [
       "tuple"
      ]
     },
     "execution_count": 72,
     "metadata": {},
     "output_type": "execute_result"
    }
   ],
   "source": [
    "type(divmod(7, 2))"
   ]
  },
  {
   "cell_type": "code",
   "execution_count": 83,
   "id": "8c941f56",
   "metadata": {},
   "outputs": [],
   "source": [
    "def predsucc(n):\n",
    "    return (n-1, n+1)"
   ]
  },
  {
   "cell_type": "code",
   "execution_count": 84,
   "id": "ba1f4209",
   "metadata": {},
   "outputs": [
    {
     "data": {
      "text/plain": [
       "(4, 6)"
      ]
     },
     "execution_count": 84,
     "metadata": {},
     "output_type": "execute_result"
    }
   ],
   "source": [
    "predsucc(5)"
   ]
  },
  {
   "cell_type": "code",
   "execution_count": 75,
   "id": "58c16fda",
   "metadata": {},
   "outputs": [],
   "source": [
    "p, s = predsucc(5)"
   ]
  },
  {
   "cell_type": "code",
   "execution_count": 76,
   "id": "c8eb384a",
   "metadata": {},
   "outputs": [
    {
     "data": {
      "text/plain": [
       "4"
      ]
     },
     "execution_count": 76,
     "metadata": {},
     "output_type": "execute_result"
    }
   ],
   "source": [
    "p"
   ]
  },
  {
   "cell_type": "code",
   "execution_count": 77,
   "id": "938137e6",
   "metadata": {},
   "outputs": [
    {
     "data": {
      "text/plain": [
       "6"
      ]
     },
     "execution_count": 77,
     "metadata": {},
     "output_type": "execute_result"
    }
   ],
   "source": [
    "s"
   ]
  },
  {
   "cell_type": "code",
   "execution_count": 79,
   "id": "df6d33bd",
   "metadata": {},
   "outputs": [],
   "source": [
    "r = predsucc(5)"
   ]
  },
  {
   "cell_type": "code",
   "execution_count": 80,
   "id": "caddbf48",
   "metadata": {},
   "outputs": [
    {
     "data": {
      "text/plain": [
       "(4, 6)"
      ]
     },
     "execution_count": 80,
     "metadata": {},
     "output_type": "execute_result"
    }
   ],
   "source": [
    "r"
   ]
  },
  {
   "cell_type": "code",
   "execution_count": 81,
   "id": "ffc3784c",
   "metadata": {},
   "outputs": [
    {
     "data": {
      "text/plain": [
       "tuple"
      ]
     },
     "execution_count": 81,
     "metadata": {},
     "output_type": "execute_result"
    }
   ],
   "source": [
    "type(r)"
   ]
  },
  {
   "cell_type": "code",
   "execution_count": 82,
   "id": "0bbbcdb3",
   "metadata": {},
   "outputs": [
    {
     "data": {
      "text/plain": [
       "int"
      ]
     },
     "execution_count": 82,
     "metadata": {},
     "output_type": "execute_result"
    }
   ],
   "source": [
    "type(p)"
   ]
  },
  {
   "cell_type": "code",
   "execution_count": 85,
   "id": "4c15644c",
   "metadata": {},
   "outputs": [
    {
     "data": {
      "text/plain": [
       "list"
      ]
     },
     "execution_count": 85,
     "metadata": {},
     "output_type": "execute_result"
    }
   ],
   "source": [
    "type([])"
   ]
  },
  {
   "cell_type": "code",
   "execution_count": 86,
   "id": "0ab096ae",
   "metadata": {},
   "outputs": [
    {
     "data": {
      "text/plain": [
       "tuple"
      ]
     },
     "execution_count": 86,
     "metadata": {},
     "output_type": "execute_result"
    }
   ],
   "source": [
    "type(())"
   ]
  },
  {
   "cell_type": "code",
   "execution_count": 87,
   "id": "d517a14a",
   "metadata": {},
   "outputs": [
    {
     "data": {
      "text/plain": [
       "int"
      ]
     },
     "execution_count": 87,
     "metadata": {},
     "output_type": "execute_result"
    }
   ],
   "source": [
    "type((1))"
   ]
  },
  {
   "cell_type": "code",
   "execution_count": 88,
   "id": "cf9ea336",
   "metadata": {},
   "outputs": [
    {
     "data": {
      "text/plain": [
       "tuple"
      ]
     },
     "execution_count": 88,
     "metadata": {},
     "output_type": "execute_result"
    }
   ],
   "source": [
    "type((1,))"
   ]
  },
  {
   "cell_type": "code",
   "execution_count": 89,
   "id": "1093374f",
   "metadata": {},
   "outputs": [
    {
     "data": {
      "text/plain": [
       "1"
      ]
     },
     "execution_count": 89,
     "metadata": {},
     "output_type": "execute_result"
    }
   ],
   "source": [
    "len((1,))"
   ]
  },
  {
   "cell_type": "code",
   "execution_count": 90,
   "id": "1b99787c",
   "metadata": {},
   "outputs": [
    {
     "data": {
      "text/plain": [
       "(1, 'abc')"
      ]
     },
     "execution_count": 90,
     "metadata": {},
     "output_type": "execute_result"
    }
   ],
   "source": [
    "(1, \"abc\")"
   ]
  },
  {
   "cell_type": "code",
   "execution_count": 91,
   "id": "207a159d",
   "metadata": {},
   "outputs": [
    {
     "data": {
      "text/plain": [
       "tuple"
      ]
     },
     "execution_count": 91,
     "metadata": {},
     "output_type": "execute_result"
    }
   ],
   "source": [
    "type((1, 'abc'))"
   ]
  },
  {
   "cell_type": "code",
   "execution_count": 92,
   "id": "786b6106",
   "metadata": {},
   "outputs": [
    {
     "data": {
      "text/plain": [
       "((1, 2), (3, 4))"
      ]
     },
     "execution_count": 92,
     "metadata": {},
     "output_type": "execute_result"
    }
   ],
   "source": [
    "((1, 2), (3, 4))"
   ]
  },
  {
   "cell_type": "code",
   "execution_count": 93,
   "id": "7e8ab5e6",
   "metadata": {},
   "outputs": [
    {
     "data": {
      "text/plain": [
       "2"
      ]
     },
     "execution_count": 93,
     "metadata": {},
     "output_type": "execute_result"
    }
   ],
   "source": [
    "len(((1, 2), (3, 4)))"
   ]
  },
  {
   "cell_type": "code",
   "execution_count": 94,
   "id": "14823182",
   "metadata": {},
   "outputs": [],
   "source": [
    "a = 1"
   ]
  },
  {
   "cell_type": "code",
   "execution_count": 95,
   "id": "f66b8f36",
   "metadata": {},
   "outputs": [
    {
     "data": {
      "text/plain": [
       "(4, 6)"
      ]
     },
     "execution_count": 95,
     "metadata": {},
     "output_type": "execute_result"
    }
   ],
   "source": [
    "(4, 6)"
   ]
  },
  {
   "cell_type": "code",
   "execution_count": 96,
   "id": "087df759",
   "metadata": {},
   "outputs": [
    {
     "data": {
      "text/plain": [
       "(4, 6)"
      ]
     },
     "execution_count": 96,
     "metadata": {},
     "output_type": "execute_result"
    }
   ],
   "source": [
    "predsucc(5)"
   ]
  },
  {
   "cell_type": "code",
   "execution_count": 97,
   "id": "bbef65c4",
   "metadata": {},
   "outputs": [],
   "source": [
    "a = (4, 6)"
   ]
  },
  {
   "cell_type": "code",
   "execution_count": 98,
   "id": "031a8121",
   "metadata": {},
   "outputs": [],
   "source": [
    "a = predsucc(5)"
   ]
  },
  {
   "cell_type": "code",
   "execution_count": null,
   "id": "51a01f57",
   "metadata": {},
   "outputs": [],
   "source": []
  }
 ],
 "metadata": {
  "kernelspec": {
   "display_name": "Python 3 (ipykernel)",
   "language": "python",
   "name": "python3"
  },
  "language_info": {
   "codemirror_mode": {
    "name": "ipython",
    "version": 3
   },
   "file_extension": ".py",
   "mimetype": "text/x-python",
   "name": "python",
   "nbconvert_exporter": "python",
   "pygments_lexer": "ipython3",
   "version": "3.10.8"
  }
 },
 "nbformat": 4,
 "nbformat_minor": 5
}
