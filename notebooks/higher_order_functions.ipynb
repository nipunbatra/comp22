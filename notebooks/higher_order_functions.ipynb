{
 "cells": [
  {
   "cell_type": "code",
   "execution_count": 1,
   "id": "38bf64ea",
   "metadata": {},
   "outputs": [
    {
     "name": "stdout",
     "output_type": "stream",
     "text": [
      "2022-12-14\n"
     ]
    }
   ],
   "source": [
    "from datetime import date\n",
    "print(date.today())"
   ]
  },
  {
   "cell_type": "code",
   "execution_count": 2,
   "id": "74b37780",
   "metadata": {},
   "outputs": [],
   "source": [
    "def newton_sqrt(a, g0):\n",
    "    g1 = 0.5 * (g0 + a/g0) # Make sure you update the following line if you update this line.\n",
    "    while abs(g1-g0) >= 0.001:\n",
    "        g0 = g1\n",
    "        g1 = 0.5 * (g0 + a/g0)\n",
    "    return g1\n"
   ]
  },
  {
   "cell_type": "code",
   "execution_count": 3,
   "id": "73ddf67b",
   "metadata": {},
   "outputs": [
    {
     "data": {
      "text/plain": [
       "1.4142137306897584"
      ]
     },
     "execution_count": 3,
     "metadata": {},
     "output_type": "execute_result"
    }
   ],
   "source": [
    "newton_sqrt(2, 1.1)"
   ]
  },
  {
   "cell_type": "code",
   "execution_count": 4,
   "id": "1f5fae1e",
   "metadata": {},
   "outputs": [
    {
     "data": {
      "text/plain": [
       "1.4142135968022693"
      ]
     },
     "execution_count": 4,
     "metadata": {},
     "output_type": "execute_result"
    }
   ],
   "source": [
    "newton_sqrt(2, 10)"
   ]
  },
  {
   "cell_type": "code",
   "execution_count": 5,
   "id": "759a5124",
   "metadata": {},
   "outputs": [],
   "source": [
    "# DRY - Don't Repeat Yourself."
   ]
  },
  {
   "cell_type": "code",
   "execution_count": 6,
   "id": "31b25444",
   "metadata": {},
   "outputs": [],
   "source": [
    "def newton_sqrt(a, g0):\n",
    "    while True:\n",
    "        g1 = 0.5 * (g0 + a/g0)\n",
    "        if abs(g1-g0) < 0.001:\n",
    "            break\n",
    "        g0 = g1\n",
    "    return g1\n"
   ]
  },
  {
   "cell_type": "code",
   "execution_count": 7,
   "id": "ce3d7225",
   "metadata": {},
   "outputs": [
    {
     "data": {
      "text/plain": [
       "1.4142135624009007"
      ]
     },
     "execution_count": 7,
     "metadata": {},
     "output_type": "execute_result"
    }
   ],
   "source": [
    "newton_sqrt(2, 1.3)"
   ]
  },
  {
   "cell_type": "code",
   "execution_count": 8,
   "id": "ae169055",
   "metadata": {},
   "outputs": [
    {
     "data": {
      "text/plain": [
       "2.236067977503995"
      ]
     },
     "execution_count": 8,
     "metadata": {},
     "output_type": "execute_result"
    }
   ],
   "source": [
    "newton_sqrt(5, 2.1)"
   ]
  },
  {
   "cell_type": "code",
   "execution_count": 9,
   "id": "b46ad5e3",
   "metadata": {},
   "outputs": [
    {
     "data": {
      "text/plain": [
       "False"
      ]
     },
     "execution_count": 9,
     "metadata": {},
     "output_type": "execute_result"
    }
   ],
   "source": [
    "0.1 + 0.2 == 0.3"
   ]
  },
  {
   "cell_type": "code",
   "execution_count": 10,
   "id": "a6056b7a",
   "metadata": {},
   "outputs": [
    {
     "data": {
      "text/plain": [
       "0.30000000000000004"
      ]
     },
     "execution_count": 10,
     "metadata": {},
     "output_type": "execute_result"
    }
   ],
   "source": [
    "0.1 * 3"
   ]
  },
  {
   "cell_type": "code",
   "execution_count": 11,
   "id": "6fb2e94a",
   "metadata": {},
   "outputs": [],
   "source": [
    "def newton1(f, df, g0):\n",
    "    while True:\n",
    "        g1 = g0 - f(g0)/df(g0)\n",
    "        if abs(g1-g0) < 0.001:\n",
    "            break\n",
    "        g0 = g1\n",
    "    return g1"
   ]
  },
  {
   "cell_type": "code",
   "execution_count": 12,
   "id": "576354d7",
   "metadata": {},
   "outputs": [],
   "source": [
    "def sqrt2(x):\n",
    "    return x*x - 2\n",
    "\n",
    "def dsqrt2(x):\n",
    "    return 2*x"
   ]
  },
  {
   "cell_type": "code",
   "execution_count": 13,
   "id": "de197ba6",
   "metadata": {},
   "outputs": [
    {
     "data": {
      "text/plain": [
       "1.4142137306897584"
      ]
     },
     "execution_count": 13,
     "metadata": {},
     "output_type": "execute_result"
    }
   ],
   "source": [
    "newton1(sqrt2, dsqrt2, 1.1)"
   ]
  },
  {
   "cell_type": "code",
   "execution_count": 14,
   "id": "eb6ffecf",
   "metadata": {},
   "outputs": [
    {
     "ename": "SyntaxError",
     "evalue": "invalid decimal literal (3129400661.py, line 5)",
     "output_type": "error",
     "traceback": [
      "\u001b[0;36m  Cell \u001b[0;32mIn [14], line 5\u001b[0;36m\u001b[0m\n\u001b[0;31m    return 2x + 1\u001b[0m\n\u001b[0m           ^\u001b[0m\n\u001b[0;31mSyntaxError\u001b[0m\u001b[0;31m:\u001b[0m invalid decimal literal\n"
     ]
    }
   ],
   "source": [
    "def f(x):\n",
    "    return x*x + x - 6\n",
    "\n",
    "def df(x):\n",
    "    return 2x + 1"
   ]
  },
  {
   "cell_type": "code",
   "execution_count": 15,
   "id": "e9d4e5a3",
   "metadata": {},
   "outputs": [],
   "source": [
    "def f(x):\n",
    "    return x*x + x - 6\n",
    "\n",
    "def df(x):\n",
    "    return 2*x + 1"
   ]
  },
  {
   "cell_type": "code",
   "execution_count": 16,
   "id": "0aae02d0",
   "metadata": {},
   "outputs": [
    {
     "data": {
      "text/plain": [
       "2.0000000000017724"
      ]
     },
     "execution_count": 16,
     "metadata": {},
     "output_type": "execute_result"
    }
   ],
   "source": [
    "newton1(f, df, 3)"
   ]
  },
  {
   "cell_type": "code",
   "execution_count": 17,
   "id": "c9ce39bc",
   "metadata": {},
   "outputs": [
    {
     "data": {
      "text/plain": [
       "-3.0000000098600994"
      ]
     },
     "execution_count": 17,
     "metadata": {},
     "output_type": "execute_result"
    }
   ],
   "source": [
    "newton1(f, df, -5)"
   ]
  },
  {
   "cell_type": "code",
   "execution_count": 18,
   "id": "54b63d7e",
   "metadata": {},
   "outputs": [
    {
     "ename": "ZeroDivisionError",
     "evalue": "float division by zero",
     "output_type": "error",
     "traceback": [
      "\u001b[0;31m---------------------------------------------------------------------------\u001b[0m",
      "\u001b[0;31mZeroDivisionError\u001b[0m                         Traceback (most recent call last)",
      "Cell \u001b[0;32mIn [18], line 1\u001b[0m\n\u001b[0;32m----> 1\u001b[0m \u001b[43mnewton1\u001b[49m\u001b[43m(\u001b[49m\u001b[43mf\u001b[49m\u001b[43m,\u001b[49m\u001b[43m \u001b[49m\u001b[43mdf\u001b[49m\u001b[43m,\u001b[49m\u001b[43m \u001b[49m\u001b[38;5;241;43m-\u001b[39;49m\u001b[38;5;241;43m0.5\u001b[39;49m\u001b[43m)\u001b[49m\n",
      "Cell \u001b[0;32mIn [11], line 3\u001b[0m, in \u001b[0;36mnewton1\u001b[0;34m(f, df, g0)\u001b[0m\n\u001b[1;32m      1\u001b[0m \u001b[38;5;28;01mdef\u001b[39;00m \u001b[38;5;21mnewton1\u001b[39m(f, df, g0):\n\u001b[1;32m      2\u001b[0m     \u001b[38;5;28;01mwhile\u001b[39;00m \u001b[38;5;28;01mTrue\u001b[39;00m:\n\u001b[0;32m----> 3\u001b[0m         g1 \u001b[38;5;241m=\u001b[39m g0 \u001b[38;5;241m-\u001b[39m \u001b[43mf\u001b[49m\u001b[43m(\u001b[49m\u001b[43mg0\u001b[49m\u001b[43m)\u001b[49m\u001b[38;5;241;43m/\u001b[39;49m\u001b[43mdf\u001b[49m\u001b[43m(\u001b[49m\u001b[43mg0\u001b[49m\u001b[43m)\u001b[49m\n\u001b[1;32m      4\u001b[0m         \u001b[38;5;28;01mif\u001b[39;00m \u001b[38;5;28mabs\u001b[39m(g1\u001b[38;5;241m-\u001b[39mg0) \u001b[38;5;241m<\u001b[39m \u001b[38;5;241m0.001\u001b[39m:\n\u001b[1;32m      5\u001b[0m             \u001b[38;5;28;01mbreak\u001b[39;00m\n",
      "\u001b[0;31mZeroDivisionError\u001b[0m: float division by zero"
     ]
    }
   ],
   "source": [
    "newton1(f, df, -0.5)"
   ]
  },
  {
   "cell_type": "code",
   "execution_count": 19,
   "id": "7ea7efff",
   "metadata": {},
   "outputs": [
    {
     "data": {
      "text/plain": [
       "2.000000000008389"
      ]
     },
     "execution_count": 19,
     "metadata": {},
     "output_type": "execute_result"
    }
   ],
   "source": [
    "newton1(f, df, 0.5)"
   ]
  },
  {
   "cell_type": "code",
   "execution_count": 20,
   "id": "40c8f4f5",
   "metadata": {},
   "outputs": [],
   "source": [
    "def sqrt3(x):\n",
    "    return x*x - 3\n",
    "\n",
    "def dsqrt3(x):\n",
    "    return 2*x"
   ]
  },
  {
   "cell_type": "code",
   "execution_count": 21,
   "id": "7637f816",
   "metadata": {},
   "outputs": [
    {
     "data": {
      "text/plain": [
       "1.7320508100147276"
      ]
     },
     "execution_count": 21,
     "metadata": {},
     "output_type": "execute_result"
    }
   ],
   "source": [
    "newton1(sqrt3, dsqrt3, 1.5)"
   ]
  },
  {
   "cell_type": "code",
   "execution_count": 23,
   "id": "8a711e9a",
   "metadata": {},
   "outputs": [],
   "source": [
    "def sqrt_f(x, n):\n",
    "    return x*x - n\n",
    "\n",
    "def dsqrt_f(x):\n",
    "    return 2*x"
   ]
  },
  {
   "cell_type": "code",
   "execution_count": 24,
   "id": "ff5d8daf",
   "metadata": {},
   "outputs": [
    {
     "ename": "TypeError",
     "evalue": "sqrt_f() missing 1 required positional argument: 'n'",
     "output_type": "error",
     "traceback": [
      "\u001b[0;31m---------------------------------------------------------------------------\u001b[0m",
      "\u001b[0;31mTypeError\u001b[0m                                 Traceback (most recent call last)",
      "Cell \u001b[0;32mIn [24], line 1\u001b[0m\n\u001b[0;32m----> 1\u001b[0m \u001b[43mnewton1\u001b[49m\u001b[43m(\u001b[49m\u001b[43msqrt_f\u001b[49m\u001b[43m,\u001b[49m\u001b[43m \u001b[49m\u001b[43mdsqrt_f\u001b[49m\u001b[43m,\u001b[49m\u001b[43m \u001b[49m\u001b[38;5;241;43m1.1\u001b[39;49m\u001b[43m)\u001b[49m\n",
      "Cell \u001b[0;32mIn [11], line 3\u001b[0m, in \u001b[0;36mnewton1\u001b[0;34m(f, df, g0)\u001b[0m\n\u001b[1;32m      1\u001b[0m \u001b[38;5;28;01mdef\u001b[39;00m \u001b[38;5;21mnewton1\u001b[39m(f, df, g0):\n\u001b[1;32m      2\u001b[0m     \u001b[38;5;28;01mwhile\u001b[39;00m \u001b[38;5;28;01mTrue\u001b[39;00m:\n\u001b[0;32m----> 3\u001b[0m         g1 \u001b[38;5;241m=\u001b[39m g0 \u001b[38;5;241m-\u001b[39m \u001b[43mf\u001b[49m\u001b[43m(\u001b[49m\u001b[43mg0\u001b[49m\u001b[43m)\u001b[49m\u001b[38;5;241m/\u001b[39mdf(g0)\n\u001b[1;32m      4\u001b[0m         \u001b[38;5;28;01mif\u001b[39;00m \u001b[38;5;28mabs\u001b[39m(g1\u001b[38;5;241m-\u001b[39mg0) \u001b[38;5;241m<\u001b[39m \u001b[38;5;241m0.001\u001b[39m:\n\u001b[1;32m      5\u001b[0m             \u001b[38;5;28;01mbreak\u001b[39;00m\n",
      "\u001b[0;31mTypeError\u001b[0m: sqrt_f() missing 1 required positional argument: 'n'"
     ]
    }
   ],
   "source": [
    "newton1(sqrt_f, dsqrt_f, 1.1)"
   ]
  },
  {
   "cell_type": "code",
   "execution_count": 25,
   "id": "84417bb3",
   "metadata": {},
   "outputs": [],
   "source": [
    "n = 5"
   ]
  },
  {
   "cell_type": "code",
   "execution_count": 26,
   "id": "46f4c48a",
   "metadata": {},
   "outputs": [],
   "source": [
    "def sqrt_f(n):\n",
    "    def f(x):\n",
    "        return x*x - n\n",
    "    return f\n",
    "\n",
    "def dsqrt_f(n):\n",
    "    def f(x):\n",
    "        return 2*x\n",
    "    return f"
   ]
  },
  {
   "cell_type": "code",
   "execution_count": 27,
   "id": "f666240e",
   "metadata": {},
   "outputs": [
    {
     "data": {
      "text/plain": [
       "2.236068123793564"
      ]
     },
     "execution_count": 27,
     "metadata": {},
     "output_type": "execute_result"
    }
   ],
   "source": [
    "newton1(sqrt_f(5), dsqrt_f(5), 1.1)"
   ]
  },
  {
   "cell_type": "code",
   "execution_count": 28,
   "id": "faa1387e",
   "metadata": {},
   "outputs": [],
   "source": [
    "def succ(n):\n",
    "    m = n+1\n",
    "    return m"
   ]
  },
  {
   "cell_type": "code",
   "execution_count": 29,
   "id": "46587b38",
   "metadata": {},
   "outputs": [
    {
     "name": "stdout",
     "output_type": "stream",
     "text": [
      "1.4142135968022693\n",
      "1.7320508082191834\n",
      "2.000000000021489\n",
      "2.2360679775008054\n",
      "2.44948974278324\n",
      "2.6457514661520305\n",
      "2.828427171593767\n",
      "3.0000000149658455\n"
     ]
    }
   ],
   "source": [
    "for i in range(2, 10):\n",
    "    print(newton1(sqrt_f(i), dsqrt_f(i), 10))"
   ]
  },
  {
   "cell_type": "code",
   "execution_count": 30,
   "id": "ec448566",
   "metadata": {},
   "outputs": [],
   "source": [
    "def f(n):\n",
    "    m = 5\n",
    "    return m"
   ]
  },
  {
   "cell_type": "code",
   "execution_count": 31,
   "id": "93986d18",
   "metadata": {},
   "outputs": [],
   "source": [
    "def derivative(f):\n",
    "    dx = 0.001\n",
    "    def df(x):\n",
    "        return (f(x+dx) - f(x)) / dx\n",
    "    return df\n"
   ]
  },
  {
   "cell_type": "code",
   "execution_count": 32,
   "id": "a7e8084c",
   "metadata": {},
   "outputs": [],
   "source": [
    "def square(x):\n",
    "    return x*x"
   ]
  },
  {
   "cell_type": "code",
   "execution_count": 33,
   "id": "99eff836",
   "metadata": {},
   "outputs": [
    {
     "data": {
      "text/plain": [
       "25"
      ]
     },
     "execution_count": 33,
     "metadata": {},
     "output_type": "execute_result"
    }
   ],
   "source": [
    "square(5)"
   ]
  },
  {
   "cell_type": "code",
   "execution_count": 34,
   "id": "c4c4e17b",
   "metadata": {},
   "outputs": [],
   "source": [
    "dsquare = derivative(square)"
   ]
  },
  {
   "cell_type": "code",
   "execution_count": 35,
   "id": "8e5e9b5c",
   "metadata": {},
   "outputs": [
    {
     "data": {
      "text/plain": [
       "10.001000000002591"
      ]
     },
     "execution_count": 35,
     "metadata": {},
     "output_type": "execute_result"
    }
   ],
   "source": [
    "dsquare(5)"
   ]
  },
  {
   "cell_type": "code",
   "execution_count": 36,
   "id": "695f3f2a",
   "metadata": {},
   "outputs": [],
   "source": [
    "def newton(f, g0):\n",
    "    df = derivative(f)\n",
    "    while True:\n",
    "        g1 = g0 - f(g0)/df(g0)\n",
    "        if abs(g1-g0) < 0.001:\n",
    "            break\n",
    "        g0 = g1\n",
    "    return g1"
   ]
  },
  {
   "cell_type": "code",
   "execution_count": 37,
   "id": "fe1dc234",
   "metadata": {},
   "outputs": [
    {
     "data": {
      "text/plain": [
       "5"
      ]
     },
     "execution_count": 37,
     "metadata": {},
     "output_type": "execute_result"
    }
   ],
   "source": [
    "f(-3)"
   ]
  },
  {
   "cell_type": "code",
   "execution_count": 38,
   "id": "bfca0631",
   "metadata": {},
   "outputs": [],
   "source": [
    "def f(x):\n",
    "    return x*x + x - 6"
   ]
  },
  {
   "cell_type": "code",
   "execution_count": 39,
   "id": "103de9bf",
   "metadata": {},
   "outputs": [
    {
     "data": {
      "text/plain": [
       "2.0000000173267796"
      ]
     },
     "execution_count": 39,
     "metadata": {},
     "output_type": "execute_result"
    }
   ],
   "source": [
    "newton(f, 1)"
   ]
  },
  {
   "cell_type": "code",
   "execution_count": 40,
   "id": "9178acd7",
   "metadata": {},
   "outputs": [
    {
     "data": {
      "text/plain": [
       "-2.9999999663262233"
      ]
     },
     "execution_count": 40,
     "metadata": {},
     "output_type": "execute_result"
    }
   ],
   "source": [
    "newton(f, -5)"
   ]
  },
  {
   "cell_type": "code",
   "execution_count": 41,
   "id": "b9ba82e2",
   "metadata": {},
   "outputs": [
    {
     "name": "stdout",
     "output_type": "stream",
     "text": [
      "1.4142137146723768\n",
      "1.7320508232818934\n",
      "2.0000000027697165\n",
      "2.2360679781445603\n",
      "2.4494897429681757\n",
      "2.6457516460312713\n",
      "2.82842726678552\n",
      "3.000000067169557\n"
     ]
    }
   ],
   "source": [
    "for i in range(2, 10):\n",
    "    print(newton(sqrt_f(i), 10))"
   ]
  },
  {
   "cell_type": "code",
   "execution_count": 42,
   "id": "9add5c64",
   "metadata": {},
   "outputs": [],
   "source": [
    "def add_f(f, g):\n",
    "    pass"
   ]
  },
  {
   "cell_type": "code",
   "execution_count": 43,
   "id": "00f60493",
   "metadata": {},
   "outputs": [],
   "source": [
    "def compose_f(f, g):\n",
    "    pass"
   ]
  },
  {
   "cell_type": "code",
   "execution_count": 44,
   "id": "4a08bae0",
   "metadata": {},
   "outputs": [],
   "source": [
    "def power_f(f, n):\n",
    "    pass"
   ]
  },
  {
   "cell_type": "code",
   "execution_count": null,
   "id": "9d91ea13",
   "metadata": {},
   "outputs": [],
   "source": []
  }
 ],
 "metadata": {
  "kernelspec": {
   "display_name": "Python 3 (ipykernel)",
   "language": "python",
   "name": "python3"
  },
  "language_info": {
   "codemirror_mode": {
    "name": "ipython",
    "version": 3
   },
   "file_extension": ".py",
   "mimetype": "text/x-python",
   "name": "python",
   "nbconvert_exporter": "python",
   "pygments_lexer": "ipython3",
   "version": "3.10.8"
  }
 },
 "nbformat": 4,
 "nbformat_minor": 5
}
