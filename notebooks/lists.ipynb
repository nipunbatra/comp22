{
 "cells": [
  {
   "cell_type": "markdown",
   "id": "f31e92c3",
   "metadata": {},
   "source": [
    "int\n",
    "float\n",
    "bool\n",
    "\n",
    "\n",
    "### Collection\n",
    "\n",
    "\n",
    "### List\n",
    "\n",
    "### Todo list\n",
    "\n",
    "1. Prepare lecture\n",
    "2. Deliver lecture\n",
    "3. Create Quiz\n",
    "4. Conduct Quiz\n",
    "5. Get quiz graded\n"
   ]
  },
  {
   "cell_type": "markdown",
   "id": "f48513b6",
   "metadata": {},
   "source": [
    "### Initialisation"
   ]
  },
  {
   "cell_type": "code",
   "execution_count": 83,
   "id": "05566c4e",
   "metadata": {},
   "outputs": [],
   "source": [
    "todo = [\"Prepare lecture\", \"Deliver Lecture\"]"
   ]
  },
  {
   "cell_type": "code",
   "execution_count": 84,
   "id": "609c0d5a",
   "metadata": {},
   "outputs": [],
   "source": [
    "kohli = [90, 82, 83, 100, 102]"
   ]
  },
  {
   "cell_type": "code",
   "execution_count": 85,
   "id": "88269159",
   "metadata": {},
   "outputs": [],
   "source": [
    "speed = [90.1, 100.3]"
   ]
  },
  {
   "cell_type": "code",
   "execution_count": 86,
   "id": "9a805c51",
   "metadata": {},
   "outputs": [],
   "source": [
    "list_of_bools = [True, False]"
   ]
  },
  {
   "cell_type": "code",
   "execution_count": 87,
   "id": "bd89e5f5",
   "metadata": {},
   "outputs": [],
   "source": [
    "student_1 = [\"Rahul\", 80.5, \"A\", True]"
   ]
  },
  {
   "cell_type": "code",
   "execution_count": 88,
   "id": "41e84c4c",
   "metadata": {},
   "outputs": [
    {
     "name": "stdout",
     "output_type": "stream",
     "text": [
      "['Prepare lecture', 'Deliver Lecture']\n"
     ]
    }
   ],
   "source": [
    "print(todo)"
   ]
  },
  {
   "cell_type": "code",
   "execution_count": 89,
   "id": "c3b34385",
   "metadata": {},
   "outputs": [
    {
     "name": "stdout",
     "output_type": "stream",
     "text": [
      "[90.1, 100.3]\n"
     ]
    }
   ],
   "source": [
    "print(speed)"
   ]
  },
  {
   "cell_type": "code",
   "execution_count": 90,
   "id": "e792c692",
   "metadata": {},
   "outputs": [
    {
     "name": "stdout",
     "output_type": "stream",
     "text": [
      "5\n"
     ]
    }
   ],
   "source": [
    "print(len(kohli))"
   ]
  },
  {
   "cell_type": "markdown",
   "id": "19b70f4e",
   "metadata": {},
   "source": [
    "### Empty initialisation"
   ]
  },
  {
   "cell_type": "code",
   "execution_count": 91,
   "id": "13256d3a",
   "metadata": {},
   "outputs": [
    {
     "name": "stdout",
     "output_type": "stream",
     "text": [
      "[] 0\n"
     ]
    }
   ],
   "source": [
    "x = []\n",
    "print(x, len(x))"
   ]
  },
  {
   "cell_type": "code",
   "execution_count": 92,
   "id": "010df17a",
   "metadata": {},
   "outputs": [
    {
     "name": "stdout",
     "output_type": "stream",
     "text": [
      "[] 0\n"
     ]
    }
   ],
   "source": [
    "x = list()\n",
    "print(x, len(x))"
   ]
  },
  {
   "cell_type": "markdown",
   "id": "4a8833d2",
   "metadata": {},
   "source": [
    "### len()"
   ]
  },
  {
   "cell_type": "code",
   "execution_count": 9,
   "id": "4a414405",
   "metadata": {},
   "outputs": [
    {
     "data": {
      "text/plain": [
       "2"
      ]
     },
     "execution_count": 9,
     "metadata": {},
     "output_type": "execute_result"
    }
   ],
   "source": [
    "len(todo)"
   ]
  },
  {
   "cell_type": "code",
   "execution_count": 10,
   "id": "67dd0201",
   "metadata": {},
   "outputs": [
    {
     "data": {
      "text/plain": [
       "2"
      ]
     },
     "execution_count": 10,
     "metadata": {},
     "output_type": "execute_result"
    }
   ],
   "source": [
    "len(speed)"
   ]
  },
  {
   "cell_type": "code",
   "execution_count": 11,
   "id": "34875819",
   "metadata": {},
   "outputs": [
    {
     "data": {
      "text/plain": [
       "4"
      ]
     },
     "execution_count": 11,
     "metadata": {},
     "output_type": "execute_result"
    }
   ],
   "source": [
    "len(student_1)"
   ]
  },
  {
   "cell_type": "markdown",
   "id": "6ac17dc7",
   "metadata": {},
   "source": [
    "### Indexing\n"
   ]
  },
  {
   "cell_type": "code",
   "execution_count": 67,
   "id": "6cda720c",
   "metadata": {},
   "outputs": [
    {
     "name": "stdout",
     "output_type": "stream",
     "text": [
      "90\n",
      "82\n",
      "100\n"
     ]
    }
   ],
   "source": [
    "\n",
    "kohli = [90, 82, 83, 100, 102]\n",
    "\n",
    "# 1st match\n",
    "print(kohli[0])\n",
    "\n",
    "# 2nd match\n",
    "print(kohli[1])\n",
    "\n",
    "\n",
    "n = 4\n",
    "# nth match\n",
    "print(kohli[n-1])"
   ]
  },
  {
   "cell_type": "code",
   "execution_count": 93,
   "id": "9e7396ee",
   "metadata": {},
   "outputs": [
    {
     "ename": "IndexError",
     "evalue": "list index out of range",
     "output_type": "error",
     "traceback": [
      "\u001b[0;31m---------------------------------------------------------------------------\u001b[0m",
      "\u001b[0;31mIndexError\u001b[0m                                Traceback (most recent call last)",
      "Input \u001b[0;32mIn [93]\u001b[0m, in \u001b[0;36m<cell line: 2>\u001b[0;34m()\u001b[0m\n\u001b[1;32m      1\u001b[0m n \u001b[38;5;241m=\u001b[39m \u001b[38;5;241m11\u001b[39m\n\u001b[0;32m----> 2\u001b[0m \u001b[43mkohli\u001b[49m\u001b[43m[\u001b[49m\u001b[43mn\u001b[49m\u001b[43m]\u001b[49m\n",
      "\u001b[0;31mIndexError\u001b[0m: list index out of range"
     ]
    }
   ],
   "source": [
    "n = 11\n",
    "kohli[n]"
   ]
  },
  {
   "cell_type": "code",
   "execution_count": 94,
   "id": "9d2c43b3",
   "metadata": {},
   "outputs": [
    {
     "data": {
      "text/plain": [
       "5"
      ]
     },
     "execution_count": 94,
     "metadata": {},
     "output_type": "execute_result"
    }
   ],
   "source": [
    "len(kohli)"
   ]
  },
  {
   "cell_type": "code",
   "execution_count": 95,
   "id": "ae66512d",
   "metadata": {},
   "outputs": [
    {
     "data": {
      "text/plain": [
       "102"
      ]
     },
     "execution_count": 95,
     "metadata": {},
     "output_type": "execute_result"
    }
   ],
   "source": [
    "kohli[4]"
   ]
  },
  {
   "cell_type": "code",
   "execution_count": 96,
   "id": "bcc5e542",
   "metadata": {},
   "outputs": [
    {
     "ename": "IndexError",
     "evalue": "list index out of range",
     "output_type": "error",
     "traceback": [
      "\u001b[0;31m---------------------------------------------------------------------------\u001b[0m",
      "\u001b[0;31mIndexError\u001b[0m                                Traceback (most recent call last)",
      "Input \u001b[0;32mIn [96]\u001b[0m, in \u001b[0;36m<cell line: 1>\u001b[0;34m()\u001b[0m\n\u001b[0;32m----> 1\u001b[0m \u001b[43mkohli\u001b[49m\u001b[43m[\u001b[49m\u001b[38;5;241;43m5\u001b[39;49m\u001b[43m]\u001b[49m\n",
      "\u001b[0;31mIndexError\u001b[0m: list index out of range"
     ]
    }
   ],
   "source": [
    "kohli[5]"
   ]
  },
  {
   "cell_type": "code",
   "execution_count": 97,
   "id": "1ef02e50",
   "metadata": {},
   "outputs": [
    {
     "name": "stdout",
     "output_type": "stream",
     "text": [
      "102\n"
     ]
    }
   ],
   "source": [
    "num_games = len(kohli)\n",
    "last_game_score = kohli[num_games-1]\n",
    "print(last_game_score)"
   ]
  },
  {
   "cell_type": "code",
   "execution_count": 98,
   "id": "86c66524",
   "metadata": {},
   "outputs": [
    {
     "name": "stdout",
     "output_type": "stream",
     "text": [
      "102\n"
     ]
    }
   ],
   "source": [
    "print(kohli[-1])"
   ]
  },
  {
   "cell_type": "code",
   "execution_count": 68,
   "id": "f2ce948d",
   "metadata": {},
   "outputs": [
    {
     "name": "stdout",
     "output_type": "stream",
     "text": [
      "[90, 82, 83, 100, 102]\n"
     ]
    }
   ],
   "source": [
    "# Print all scores of Kohli\n",
    "print(kohli)"
   ]
  },
  {
   "cell_type": "markdown",
   "id": "bd6d7bb3",
   "metadata": {},
   "source": [
    "### Negative indexing"
   ]
  },
  {
   "cell_type": "code",
   "execution_count": 72,
   "id": "3edd51f9",
   "metadata": {},
   "outputs": [
    {
     "data": {
      "text/plain": [
       "(102, 102)"
      ]
     },
     "execution_count": 72,
     "metadata": {},
     "output_type": "execute_result"
    }
   ],
   "source": [
    "kohli[-1], kohli[len(kohli)-1]"
   ]
  },
  {
   "cell_type": "markdown",
   "id": "1c23a3d8",
   "metadata": {},
   "source": [
    "### Iteration"
   ]
  },
  {
   "cell_type": "code",
   "execution_count": 16,
   "id": "154df270",
   "metadata": {},
   "outputs": [
    {
     "name": "stdout",
     "output_type": "stream",
     "text": [
      "90\n",
      "82\n",
      "83\n",
      "100\n",
      "102\n"
     ]
    }
   ],
   "source": [
    "print(kohli[0])\n",
    "print(kohli[1])\n",
    "print(kohli[2])\n",
    "print(kohli[3])\n",
    "print(kohli[4])"
   ]
  },
  {
   "cell_type": "code",
   "execution_count": 99,
   "id": "8dd80341",
   "metadata": {},
   "outputs": [
    {
     "name": "stdout",
     "output_type": "stream",
     "text": [
      "90\n",
      "82\n",
      "83\n",
      "100\n",
      "102\n"
     ]
    }
   ],
   "source": [
    "num_matches = len(kohli)\n",
    "i = 0\n",
    "\n",
    "while i<num_matches:\n",
    "    print(kohli[i])\n",
    "    i = i +1"
   ]
  },
  {
   "cell_type": "code",
   "execution_count": 19,
   "id": "cf0d9e85",
   "metadata": {},
   "outputs": [
    {
     "name": "stdout",
     "output_type": "stream",
     "text": [
      "91.4\n"
     ]
    }
   ],
   "source": [
    "# Average\n",
    "num_matches = len(kohli)\n",
    "i = 0\n",
    "s = 0\n",
    "\n",
    "while i<num_matches:\n",
    "    s = s + kohli[i]\n",
    "    i = i +1\n",
    "avg = s/num_matches\n",
    "print(avg)"
   ]
  },
  {
   "cell_type": "code",
   "execution_count": 20,
   "id": "60a9a21b",
   "metadata": {},
   "outputs": [
    {
     "name": "stdout",
     "output_type": "stream",
     "text": [
      "143\n"
     ]
    }
   ],
   "source": [
    "expected_avg = 100\n",
    "expected_total = (num_matches+1)*expected_avg\n",
    "\n",
    "current_total = s\n",
    "new_score = expected_total - current_total\n",
    "print(new_score)"
   ]
  },
  {
   "cell_type": "markdown",
   "id": "3738ff97",
   "metadata": {},
   "source": [
    "### Find highest (Method 1)"
   ]
  },
  {
   "cell_type": "code",
   "execution_count": 21,
   "id": "4d181d27",
   "metadata": {},
   "outputs": [
    {
     "name": "stdout",
     "output_type": "stream",
     "text": [
      "102\n"
     ]
    }
   ],
   "source": [
    "highest_thus_far = -1\n",
    "\n",
    "num_matches = len(kohli)\n",
    "\n",
    "i = 0\n",
    "\n",
    "while i < num_matches:\n",
    "    # Get score of ith match\n",
    "    ith_score = kohli[i]\n",
    "    if ith_score > highest_thus_far:\n",
    "        highest_thus_far = ith_score\n",
    "    i = i +1\n",
    "\n",
    "print(highest_thus_far)"
   ]
  },
  {
   "cell_type": "markdown",
   "id": "2f3b8be4",
   "metadata": {},
   "source": [
    "### Find lowest (Method 2)"
   ]
  },
  {
   "cell_type": "code",
   "execution_count": 22,
   "id": "ce35ce37",
   "metadata": {},
   "outputs": [
    {
     "name": "stdout",
     "output_type": "stream",
     "text": [
      "82\n"
     ]
    }
   ],
   "source": [
    "lowest_thus_far = 10000000000\n",
    "\n",
    "num_matches = len(kohli)\n",
    "\n",
    "i = 0\n",
    "\n",
    "while i < num_matches:\n",
    "    # Get score of ith match\n",
    "    ith_score = kohli[i]\n",
    "    if ith_score < lowest_thus_far:\n",
    "        lowest_thus_far = ith_score\n",
    "    i = i +1\n",
    "\n",
    "print(lowest_thus_far)"
   ]
  },
  {
   "cell_type": "markdown",
   "id": "87de76a6",
   "metadata": {},
   "source": [
    "### Find highest (Method 2) \n",
    "\n",
    "First number is assumed to be highest, check with remaining numbers"
   ]
  },
  {
   "cell_type": "code",
   "execution_count": 24,
   "id": "defa6f77",
   "metadata": {},
   "outputs": [
    {
     "name": "stdout",
     "output_type": "stream",
     "text": [
      "102\n"
     ]
    }
   ],
   "source": [
    "highest_thus_far = kohli[0]\n",
    "\n",
    "num_matches = len(kohli)\n",
    "\n",
    "i = 1\n",
    "\n",
    "while i < num_matches:\n",
    "    # Get score of ith match\n",
    "    ith_score = kohli[i]\n",
    "    if ith_score > highest_thus_far:\n",
    "        highest_thus_far = ith_score\n",
    "    i = i +1\n",
    "\n",
    "print(highest_thus_far)"
   ]
  },
  {
   "cell_type": "markdown",
   "id": "b5975efb",
   "metadata": {},
   "source": [
    "### Appending"
   ]
  },
  {
   "cell_type": "code",
   "execution_count": 28,
   "id": "1af95406",
   "metadata": {},
   "outputs": [
    {
     "name": "stdout",
     "output_type": "stream",
     "text": [
      "[90, 82, 83, 100, 102]\n",
      "After considering new match\n",
      "[90, 82, 83, 100, 102, 145]\n"
     ]
    }
   ],
   "source": [
    "### Appending\n",
    "kohli = [90, 82, 83, 100, 102]\n",
    "\n",
    "new_match_score = 145\n",
    "\n",
    "print(kohli)\n",
    "\n",
    "kohli.append(new_match_score)\n",
    "print(\"After considering new match\")\n",
    "print(kohli)"
   ]
  },
  {
   "cell_type": "code",
   "execution_count": null,
   "id": "a94dfb92",
   "metadata": {},
   "outputs": [],
   "source": [
    "### List appending is an in-place operation"
   ]
  },
  {
   "cell_type": "code",
   "execution_count": 100,
   "id": "04aac12f",
   "metadata": {},
   "outputs": [
    {
     "name": "stdout",
     "output_type": "stream",
     "text": [
      "[10]\n",
      "None\n"
     ]
    }
   ],
   "source": [
    "x = []\n",
    "x.append(10)\n",
    "print(x)\n",
    "\n",
    "y = []\n",
    "y = y.append(10)\n",
    "print(y)"
   ]
  },
  {
   "cell_type": "code",
   "execution_count": 103,
   "id": "f6198b28",
   "metadata": {},
   "outputs": [],
   "source": [
    "###\n",
    "\n",
    "n = 15\n",
    "x = []\n",
    "y1 = [] # i**2\n",
    "y2 = [] # (i**3)/10\n"
   ]
  },
  {
   "cell_type": "code",
   "execution_count": 104,
   "id": "081bce53",
   "metadata": {},
   "outputs": [],
   "source": [
    "i = 1\n",
    "while i<=n:\n",
    "    x.append(i)\n",
    "    y1.append(i**2)\n",
    "    y2.append((i**3)/10)\n",
    "\n",
    "    i = i +1"
   ]
  },
  {
   "cell_type": "code",
   "execution_count": 105,
   "id": "46c93738",
   "metadata": {},
   "outputs": [
    {
     "data": {
      "text/plain": [
       "[1, 2, 3, 4, 5, 6, 7, 8, 9, 10, 11, 12, 13, 14, 15]"
      ]
     },
     "execution_count": 105,
     "metadata": {},
     "output_type": "execute_result"
    }
   ],
   "source": [
    "x"
   ]
  },
  {
   "cell_type": "code",
   "execution_count": 106,
   "id": "4210fb11",
   "metadata": {},
   "outputs": [
    {
     "data": {
      "text/plain": [
       "[1, 4, 9, 16, 25, 36, 49, 64, 81, 100, 121, 144, 169, 196, 225]"
      ]
     },
     "execution_count": 106,
     "metadata": {},
     "output_type": "execute_result"
    }
   ],
   "source": [
    "y1"
   ]
  },
  {
   "cell_type": "code",
   "execution_count": 107,
   "id": "7558b06c",
   "metadata": {},
   "outputs": [
    {
     "data": {
      "text/plain": [
       "[0.1,\n",
       " 0.8,\n",
       " 2.7,\n",
       " 6.4,\n",
       " 12.5,\n",
       " 21.6,\n",
       " 34.3,\n",
       " 51.2,\n",
       " 72.9,\n",
       " 100.0,\n",
       " 133.1,\n",
       " 172.8,\n",
       " 219.7,\n",
       " 274.4,\n",
       " 337.5]"
      ]
     },
     "execution_count": 107,
     "metadata": {},
     "output_type": "execute_result"
    }
   ],
   "source": [
    "y2"
   ]
  },
  {
   "cell_type": "code",
   "execution_count": 108,
   "id": "5821ad87",
   "metadata": {},
   "outputs": [
    {
     "data": {
      "text/plain": [
       "<matplotlib.legend.Legend at 0x11f2defa0>"
      ]
     },
     "execution_count": 108,
     "metadata": {},
     "output_type": "execute_result"
    },
    {
     "data": {
      "image/png": "[encoded data removed]",
      "text/plain": [
       "<Figure size 432x288 with 1 Axes>"
      ]
     },
     "metadata": {
      "needs_background": "light"
     },
     "output_type": "display_data"
    }
   ],
   "source": [
    "%matplotlib inline\n",
    "import matplotlib.pyplot as plt\n",
    "\n",
    "plt.plot(x, y1, label='x^2')\n",
    "plt.plot(x, y2, label='(x^3)/10')\n",
    "plt.legend()"
   ]
  },
  {
   "cell_type": "code",
   "execution_count": null,
   "id": "4db92f54",
   "metadata": {},
   "outputs": [],
   "source": []
  },
  {
   "cell_type": "markdown",
   "id": "55201d41",
   "metadata": {},
   "source": [
    "### Append (with multiple items)"
   ]
  },
  {
   "cell_type": "code",
   "execution_count": 109,
   "id": "3b2b0f35",
   "metadata": {},
   "outputs": [
    {
     "name": "stdout",
     "output_type": "stream",
     "text": [
      "[1, 2, 3, 4]\n"
     ]
    }
   ],
   "source": [
    "x = [1, 2, 3]\n",
    "x.append(4)\n",
    "print(x)"
   ]
  },
  {
   "cell_type": "code",
   "execution_count": 114,
   "id": "8cd1c6b5",
   "metadata": {},
   "outputs": [],
   "source": [
    "x.append??"
   ]
  },
  {
   "cell_type": "code",
   "execution_count": 110,
   "id": "b189d2b0",
   "metadata": {},
   "outputs": [
    {
     "name": "stdout",
     "output_type": "stream",
     "text": [
      "[1, 2, 3, 4, [5, 6, 7]]\n"
     ]
    }
   ],
   "source": [
    "x.append([5, 6, 7])\n",
    "print(x)"
   ]
  },
  {
   "cell_type": "markdown",
   "id": "5f956f68",
   "metadata": {},
   "source": [
    "### Extend"
   ]
  },
  {
   "cell_type": "code",
   "execution_count": 115,
   "id": "a6581ffd",
   "metadata": {},
   "outputs": [
    {
     "name": "stdout",
     "output_type": "stream",
     "text": [
      "[1, 2, 3, 4, 'Hello ']\n"
     ]
    }
   ],
   "source": [
    "x = [1, 2, 3, 4]\n",
    "x.append(\"Hello \")\n",
    "print(x)"
   ]
  },
  {
   "cell_type": "code",
   "execution_count": 111,
   "id": "7c47f03f",
   "metadata": {},
   "outputs": [
    {
     "name": "stdout",
     "output_type": "stream",
     "text": [
      "[1, 2, 3, 4, 5, 6, 7]\n"
     ]
    }
   ],
   "source": [
    "x = [1, 2, 3, 4]\n",
    "x.extend([5, 6, 7])\n",
    "print(x)"
   ]
  },
  {
   "cell_type": "code",
   "execution_count": 113,
   "id": "306cb1e5",
   "metadata": {},
   "outputs": [
    {
     "ename": "TypeError",
     "evalue": "extend() takes exactly one argument (3 given)",
     "output_type": "error",
     "traceback": [
      "\u001b[0;31m---------------------------------------------------------------------------\u001b[0m",
      "\u001b[0;31mTypeError\u001b[0m                                 Traceback (most recent call last)",
      "Input \u001b[0;32mIn [113]\u001b[0m, in \u001b[0;36m<cell line: 2>\u001b[0;34m()\u001b[0m\n\u001b[1;32m      1\u001b[0m x \u001b[38;5;241m=\u001b[39m [\u001b[38;5;241m1\u001b[39m, \u001b[38;5;241m2\u001b[39m, \u001b[38;5;241m3\u001b[39m, \u001b[38;5;241m4\u001b[39m]\n\u001b[0;32m----> 2\u001b[0m \u001b[43mx\u001b[49m\u001b[38;5;241;43m.\u001b[39;49m\u001b[43mextend\u001b[49m\u001b[43m(\u001b[49m\u001b[38;5;241;43m5\u001b[39;49m\u001b[43m,\u001b[49m\u001b[43m \u001b[49m\u001b[38;5;241;43m6\u001b[39;49m\u001b[43m,\u001b[49m\u001b[43m \u001b[49m\u001b[38;5;241;43m7\u001b[39;49m\u001b[43m)\u001b[49m\n\u001b[1;32m      3\u001b[0m \u001b[38;5;28mprint\u001b[39m(x)\n",
      "\u001b[0;31mTypeError\u001b[0m: extend() takes exactly one argument (3 given)"
     ]
    }
   ],
   "source": [
    "x = [1, 2, 3, 4]\n",
    "x.extend(5, 6, 7)\n",
    "print(x)"
   ]
  },
  {
   "cell_type": "code",
   "execution_count": 117,
   "id": "5097ec12",
   "metadata": {},
   "outputs": [
    {
     "name": "stdout",
     "output_type": "stream",
     "text": [
      "[1, 2, 3, 4, 5]\n",
      "[1, 2, 3, 4, 5]\n",
      "[1, 2, 3, 4, 5, '5']\n"
     ]
    }
   ],
   "source": [
    "x = [1, 2, 3, 4]\n",
    "x.append(5)\n",
    "print(x)\n",
    "\n",
    "y = [1, 2, 3, 4]\n",
    "y.extend([5])\n",
    "print(y)\n",
    "\n",
    "y.extend(\"5\")\n",
    "print(y)"
   ]
  },
  {
   "cell_type": "code",
   "execution_count": 119,
   "id": "a3f2d6e5",
   "metadata": {},
   "outputs": [
    {
     "name": "stdout",
     "output_type": "stream",
     "text": [
      "[1, 2, 3, 4, 5, '5', 8]\n"
     ]
    }
   ],
   "source": [
    "y.extend([8-0])\n",
    "print(y)"
   ]
  },
  {
   "cell_type": "code",
   "execution_count": null,
   "id": "b27846b3",
   "metadata": {},
   "outputs": [],
   "source": [
    "x = [1, 2, 3, 4]\n",
    "want_to_extend = [5, 6, 7]\n",
    "\n",
    "i = 0\n",
    "while i<len(want_to_extend):\n",
    "    x.append(want_to_extend[i])\n",
    "    i = i + 1\n",
    "print(x)\n"
   ]
  },
  {
   "cell_type": "markdown",
   "id": "709b8da5",
   "metadata": {},
   "source": [
    "### Adding elements with +"
   ]
  },
  {
   "cell_type": "code",
   "execution_count": 130,
   "id": "65741894",
   "metadata": {},
   "outputs": [],
   "source": [
    "x = []\n",
    "y = [10]\n",
    "z = [\"Hello\"]"
   ]
  },
  {
   "cell_type": "code",
   "execution_count": 131,
   "id": "06e3f93b",
   "metadata": {},
   "outputs": [
    {
     "data": {
      "text/plain": [
       "[10, 'Hello']"
      ]
     },
     "execution_count": 131,
     "metadata": {},
     "output_type": "execute_result"
    }
   ],
   "source": [
    "x = x + y + z\n",
    "x"
   ]
  },
  {
   "cell_type": "code",
   "execution_count": 125,
   "id": "887e015c",
   "metadata": {},
   "outputs": [
    {
     "ename": "TypeError",
     "evalue": "can only concatenate list (not \"int\") to list",
     "output_type": "error",
     "traceback": [
      "\u001b[0;31m---------------------------------------------------------------------------\u001b[0m",
      "\u001b[0;31mTypeError\u001b[0m                                 Traceback (most recent call last)",
      "Input \u001b[0;32mIn [125]\u001b[0m, in \u001b[0;36m<cell line: 1>\u001b[0;34m()\u001b[0m\n\u001b[0;32m----> 1\u001b[0m x \u001b[38;5;241m=\u001b[39m \u001b[43mx\u001b[49m\u001b[43m \u001b[49m\u001b[38;5;241;43m+\u001b[39;49m\u001b[43m \u001b[49m\u001b[38;5;241;43m10\u001b[39;49m\n",
      "\u001b[0;31mTypeError\u001b[0m: can only concatenate list (not \"int\") to list"
     ]
    }
   ],
   "source": [
    "x = x + 10"
   ]
  },
  {
   "cell_type": "code",
   "execution_count": 132,
   "id": "4da5824d",
   "metadata": {},
   "outputs": [
    {
     "data": {
      "text/plain": [
       "[20, 10, 'Hello']"
      ]
     },
     "execution_count": 132,
     "metadata": {},
     "output_type": "execute_result"
    }
   ],
   "source": [
    "x = [20] + x\n",
    "x"
   ]
  },
  {
   "cell_type": "code",
   "execution_count": 52,
   "id": "fb3f9d26",
   "metadata": {},
   "outputs": [
    {
     "data": {
      "text/plain": [
       "[1, 5, 20, 10]"
      ]
     },
     "execution_count": 52,
     "metadata": {},
     "output_type": "execute_result"
    }
   ],
   "source": [
    "x = [1, 5] + x\n",
    "x"
   ]
  },
  {
   "cell_type": "markdown",
   "id": "b78d89cc",
   "metadata": {},
   "source": [
    "### Some other functions (max, min, sum)"
   ]
  },
  {
   "cell_type": "code",
   "execution_count": 134,
   "id": "b309918f",
   "metadata": {},
   "outputs": [
    {
     "name": "stdout",
     "output_type": "stream",
     "text": [
      "10 -1 24\n"
     ]
    }
   ],
   "source": [
    "x = [1, 3, 5, 6, 10, -1]\n",
    "print(max(x), min(x), sum(x))"
   ]
  },
  {
   "cell_type": "markdown",
   "id": "e7abfd39",
   "metadata": {},
   "source": [
    "### Map (transformation)\n",
    "\n",
    "Kohli's score increase by 4 in each match\n",
    "\n",
    "#### Create a new list"
   ]
  },
  {
   "cell_type": "code",
   "execution_count": 135,
   "id": "5214f5e5",
   "metadata": {},
   "outputs": [
    {
     "data": {
      "text/plain": [
       "[90, 82, 83, 100, 102]"
      ]
     },
     "execution_count": 135,
     "metadata": {},
     "output_type": "execute_result"
    }
   ],
   "source": [
    "kohli"
   ]
  },
  {
   "cell_type": "code",
   "execution_count": 137,
   "id": "b5fc68ac",
   "metadata": {},
   "outputs": [
    {
     "name": "stdout",
     "output_type": "stream",
     "text": [
      "0\n",
      "[94]\n",
      "****************************************\n",
      "\n",
      "1\n",
      "[94, 86]\n",
      "****************************************\n",
      "\n",
      "2\n",
      "[94, 86, 87]\n",
      "****************************************\n",
      "\n",
      "3\n",
      "[94, 86, 87, 104]\n",
      "****************************************\n",
      "\n",
      "4\n",
      "[94, 86, 87, 104, 106]\n",
      "****************************************\n",
      "\n"
     ]
    }
   ],
   "source": [
    "updated_score = []\n",
    "\n",
    "i = 0\n",
    "total_matches = len(kohli)\n",
    "while i < total_matches:\n",
    "    print(i)\n",
    "    curr_score = kohli[i]\n",
    "    new_score = curr_score + 4\n",
    "    updated_score.append(new_score)\n",
    "    print(updated_score)\n",
    "    i = i + 1\n",
    "    print(\"**\"*20)\n",
    "    print()\n"
   ]
  },
  {
   "cell_type": "code",
   "execution_count": 138,
   "id": "d004e432",
   "metadata": {},
   "outputs": [
    {
     "name": "stdout",
     "output_type": "stream",
     "text": [
      "[90, 82, 83, 100, 102]\n",
      "[94, 86, 87, 104, 106]\n"
     ]
    }
   ],
   "source": [
    "print(kohli)\n",
    "print(updated_score)"
   ]
  },
  {
   "cell_type": "markdown",
   "id": "5d7f1278",
   "metadata": {},
   "source": [
    "#### Inplace"
   ]
  },
  {
   "cell_type": "code",
   "execution_count": 55,
   "id": "d22858d9",
   "metadata": {},
   "outputs": [
    {
     "data": {
      "text/plain": [
       "[90, 82, 83, 100, 102, 145]"
      ]
     },
     "execution_count": 55,
     "metadata": {},
     "output_type": "execute_result"
    }
   ],
   "source": [
    "kohli"
   ]
  },
  {
   "cell_type": "code",
   "execution_count": null,
   "id": "e6c629df",
   "metadata": {},
   "outputs": [],
   "source": [
    "i = 0\n",
    "\n",
    "while i < len(kohli):\n",
    "    kohli[i] = kohli[i] + 4\n",
    "    i = i +1 \n"
   ]
  },
  {
   "cell_type": "code",
   "execution_count": 139,
   "id": "49084af2",
   "metadata": {},
   "outputs": [
    {
     "data": {
      "text/plain": [
       "[94, 86, 87, 104, 106]"
      ]
     },
     "execution_count": 139,
     "metadata": {},
     "output_type": "execute_result"
    }
   ],
   "source": [
    "list(map(lambda x: x+4, kohli))"
   ]
  },
  {
   "cell_type": "code",
   "execution_count": 140,
   "id": "7c17fa93",
   "metadata": {},
   "outputs": [
    {
     "data": {
      "text/plain": [
       "[94, 86, 87, 104, 106]"
      ]
     },
     "execution_count": 140,
     "metadata": {},
     "output_type": "execute_result"
    }
   ],
   "source": [
    "[x+4 for x in kohli]"
   ]
  },
  {
   "cell_type": "code",
   "execution_count": 56,
   "id": "6de36632",
   "metadata": {},
   "outputs": [],
   "source": [
    "i  = 0\n",
    "while i<len(kohli):\n",
    "    kohli[i] = kohli[i] + 4\n",
    "    i = i +1\n"
   ]
  },
  {
   "cell_type": "code",
   "execution_count": 57,
   "id": "0a572035",
   "metadata": {},
   "outputs": [
    {
     "data": {
      "text/plain": [
       "[94, 86, 87, 104, 106, 149]"
      ]
     },
     "execution_count": 57,
     "metadata": {},
     "output_type": "execute_result"
    }
   ],
   "source": [
    "kohli"
   ]
  },
  {
   "cell_type": "code",
   "execution_count": 142,
   "id": "437c72d3",
   "metadata": {},
   "outputs": [],
   "source": [
    "x = [1, 3, 4, 5]\n",
    "# expected out = [False, False, True, False]"
   ]
  },
  {
   "cell_type": "code",
   "execution_count": 143,
   "id": "6b9900de",
   "metadata": {},
   "outputs": [
    {
     "name": "stdout",
     "output_type": "stream",
     "text": [
      "[False, False, True, False]\n"
     ]
    }
   ],
   "source": [
    "out = []\n",
    "\n",
    "i = 0\n",
    "while i < len(x):\n",
    "    if x[i]%2==0:\n",
    "        out.append(True)\n",
    "    else:\n",
    "        out.append(False)\n",
    "    i = i +1\n",
    "print(out)"
   ]
  },
  {
   "cell_type": "code",
   "execution_count": null,
   "id": "bffb6e73",
   "metadata": {},
   "outputs": [],
   "source": [
    "# In place"
   ]
  },
  {
   "cell_type": "code",
   "execution_count": null,
   "id": "79ad2cbe",
   "metadata": {},
   "outputs": [],
   "source": [
    "z = [1, 3, 4, 5]\n",
    "\n",
    "i = 0\n",
    "while i < len(z):\n",
    "    if z[i]%2 == 0:\n",
    "        z[i] = True\n",
    "    else:\n",
    "        z[i] = False\n",
    "    \n",
    "    i = i +1\n",
    "\n"
   ]
  },
  {
   "cell_type": "code",
   "execution_count": null,
   "id": "f4459910",
   "metadata": {},
   "outputs": [],
   "source": [
    "z = [1, 3, 4, 5]\n",
    "\n",
    "i = 0\n",
    "while i < len(z):\n",
    "    z[i] = z[i]%2==0\n",
    "    i = i +1"
   ]
  },
  {
   "cell_type": "code",
   "execution_count": null,
   "id": "3ae00154",
   "metadata": {},
   "outputs": [],
   "source": [
    "out = []\n",
    "\n",
    "i = 0\n",
    "while i < len(x):\n",
    "    out.append(x[i]%2==0)\n",
    "    i = i +1\n",
    "print(out)"
   ]
  },
  {
   "cell_type": "code",
   "execution_count": 145,
   "id": "0a9c14e9",
   "metadata": {},
   "outputs": [
    {
     "data": {
      "text/plain": [
       "[False, False, True, False]"
      ]
     },
     "execution_count": 145,
     "metadata": {},
     "output_type": "execute_result"
    }
   ],
   "source": [
    "list(map(lambda x: x%2==0, x))"
   ]
  },
  {
   "cell_type": "code",
   "execution_count": 146,
   "id": "5e6d3fca",
   "metadata": {},
   "outputs": [
    {
     "data": {
      "text/plain": [
       "[False, False, True, False]"
      ]
     },
     "execution_count": 146,
     "metadata": {},
     "output_type": "execute_result"
    }
   ],
   "source": [
    "[a%2==0 for a in x]"
   ]
  },
  {
   "cell_type": "markdown",
   "id": "620e1d19",
   "metadata": {},
   "source": [
    "### Filter"
   ]
  },
  {
   "cell_type": "markdown",
   "id": "7402838b",
   "metadata": {},
   "source": [
    "Given a list of score\n",
    "[40, 30, 100, 199, 100]\n",
    "\n",
    "return a list of scores greater than 95\n",
    "[100, 199, 100]"
   ]
  },
  {
   "cell_type": "code",
   "execution_count": 147,
   "id": "78ece0db",
   "metadata": {},
   "outputs": [
    {
     "data": {
      "text/plain": [
       "[90, 82, 83, 100, 102]"
      ]
     },
     "execution_count": 147,
     "metadata": {},
     "output_type": "execute_result"
    }
   ],
   "source": [
    "kohli"
   ]
  },
  {
   "cell_type": "code",
   "execution_count": 148,
   "id": "3e114fec",
   "metadata": {},
   "outputs": [
    {
     "name": "stdout",
     "output_type": "stream",
     "text": [
      "[100, 102]\n"
     ]
    }
   ],
   "source": [
    "greater_95 = []\n",
    "\n",
    "i = 0\n",
    "\n",
    "while i < len(kohli):\n",
    "    score_ith = kohli[i]\n",
    "    if score_ith > 95:\n",
    "        greater_95.append(score_ith)\n",
    "    \n",
    "    i = i +1\n",
    "print(greater_95)\n"
   ]
  },
  {
   "cell_type": "code",
   "execution_count": 149,
   "id": "63fbbdb7",
   "metadata": {},
   "outputs": [
    {
     "data": {
      "text/plain": [
       "[100, 102]"
      ]
     },
     "execution_count": 149,
     "metadata": {},
     "output_type": "execute_result"
    }
   ],
   "source": [
    "list(filter(lambda x: x > 95, kohli))"
   ]
  },
  {
   "cell_type": "code",
   "execution_count": 150,
   "id": "ff6aa565",
   "metadata": {},
   "outputs": [
    {
     "data": {
      "text/plain": [
       "[100, 102]"
      ]
     },
     "execution_count": 150,
     "metadata": {},
     "output_type": "execute_result"
    }
   ],
   "source": [
    "[y for y in kohli if y > 95]"
   ]
  },
  {
   "cell_type": "markdown",
   "id": "a5381968",
   "metadata": {},
   "source": [
    "### Reduce\n",
    "\n"
   ]
  },
  {
   "cell_type": "markdown",
   "id": "7aa95009",
   "metadata": {},
   "source": [
    "### in"
   ]
  },
  {
   "cell_type": "code",
   "execution_count": 152,
   "id": "0524e448",
   "metadata": {},
   "outputs": [
    {
     "name": "stdout",
     "output_type": "stream",
     "text": [
      "False\n",
      "True\n"
     ]
    }
   ],
   "source": [
    "x = [40, 1, 90]\n",
    "print(50 in x)\n",
    "print(40 in x)"
   ]
  },
  {
   "cell_type": "markdown",
   "id": "5f74a458",
   "metadata": {},
   "source": [
    "### Slicing\n",
    "\n",
    "x[start:stop:step]"
   ]
  },
  {
   "cell_type": "code",
   "execution_count": 170,
   "id": "244c2789",
   "metadata": {},
   "outputs": [],
   "source": [
    "x = [\"a\", \"b\", \"c\", \"d\", \"e\"]"
   ]
  },
  {
   "cell_type": "code",
   "execution_count": 171,
   "id": "e7570e31",
   "metadata": {},
   "outputs": [
    {
     "data": {
      "text/plain": [
       "['a', 'b']"
      ]
     },
     "execution_count": 171,
     "metadata": {},
     "output_type": "execute_result"
    }
   ],
   "source": [
    "## Get the first two entries of x\n",
    " # start from 0th position \n",
    "#and go till 2-1 = index 1\n",
    "\n",
    "x[0:2]"
   ]
  },
  {
   "cell_type": "code",
   "execution_count": null,
   "id": "e110d99d",
   "metadata": {},
   "outputs": [],
   "source": [
    "## We do not necessarily \n",
    "# need to give all args"
   ]
  },
  {
   "cell_type": "code",
   "execution_count": 155,
   "id": "7dd87bd8",
   "metadata": {},
   "outputs": [
    {
     "data": {
      "text/plain": [
       "[1, 2]"
      ]
     },
     "execution_count": 155,
     "metadata": {},
     "output_type": "execute_result"
    }
   ],
   "source": [
    "x[:2]"
   ]
  },
  {
   "cell_type": "code",
   "execution_count": 157,
   "id": "01f3f014",
   "metadata": {},
   "outputs": [
    {
     "data": {
      "text/plain": [
       "[1, 2, 3, 4, 5]"
      ]
     },
     "execution_count": 157,
     "metadata": {},
     "output_type": "execute_result"
    }
   ],
   "source": [
    "x"
   ]
  },
  {
   "cell_type": "code",
   "execution_count": 156,
   "id": "8a7881f2",
   "metadata": {},
   "outputs": [
    {
     "data": {
      "text/plain": [
       "5"
      ]
     },
     "execution_count": 156,
     "metadata": {},
     "output_type": "execute_result"
    }
   ],
   "source": [
    "len(x)"
   ]
  },
  {
   "cell_type": "code",
   "execution_count": null,
   "id": "e36ec0fa",
   "metadata": {},
   "outputs": [],
   "source": [
    "# get all elements from position \n",
    "# 0 to (5-1) without skipping any"
   ]
  },
  {
   "cell_type": "code",
   "execution_count": 59,
   "id": "9878bb60",
   "metadata": {},
   "outputs": [
    {
     "data": {
      "text/plain": [
       "[1, 2, 3, 4, 5]"
      ]
     },
     "execution_count": 59,
     "metadata": {},
     "output_type": "execute_result"
    }
   ],
   "source": [
    "x[0:5:1]"
   ]
  },
  {
   "cell_type": "code",
   "execution_count": 158,
   "id": "e5a80e4a",
   "metadata": {},
   "outputs": [
    {
     "data": {
      "text/plain": [
       "[1, 3, 5]"
      ]
     },
     "execution_count": 158,
     "metadata": {},
     "output_type": "execute_result"
    }
   ],
   "source": [
    "# consider every 2nd element\n",
    "# while going from 0th to (5-1)th element\n",
    "x[0:5:2] "
   ]
  },
  {
   "cell_type": "code",
   "execution_count": 159,
   "id": "1284bbe5",
   "metadata": {},
   "outputs": [
    {
     "data": {
      "text/plain": [
       "[2, 3, 4, 5]"
      ]
     },
     "execution_count": 159,
     "metadata": {},
     "output_type": "execute_result"
    }
   ],
   "source": [
    "x[1:5:1]"
   ]
  },
  {
   "cell_type": "code",
   "execution_count": 160,
   "id": "4d6c6bdb",
   "metadata": {},
   "outputs": [
    {
     "data": {
      "text/plain": [
       "[2, 3, 4]"
      ]
     },
     "execution_count": 160,
     "metadata": {},
     "output_type": "execute_result"
    }
   ],
   "source": [
    "x[1:4:1]"
   ]
  },
  {
   "cell_type": "code",
   "execution_count": null,
   "id": "a77f584c",
   "metadata": {},
   "outputs": [],
   "source": [
    "1:5:2\n",
    "Indices being picked up\n",
    "Pick up 1, 1 + 2 + .. till (5-1)\n",
    "Pick up 1, 3, "
   ]
  },
  {
   "cell_type": "code",
   "execution_count": 162,
   "id": "36321f83",
   "metadata": {},
   "outputs": [
    {
     "data": {
      "text/plain": [
       "[2, 4]"
      ]
     },
     "execution_count": 162,
     "metadata": {},
     "output_type": "execute_result"
    }
   ],
   "source": [
    "x[1:5:2] "
   ]
  },
  {
   "cell_type": "code",
   "execution_count": 163,
   "id": "d963f0b6",
   "metadata": {},
   "outputs": [
    {
     "data": {
      "text/plain": [
       "[1, 3, 5]"
      ]
     },
     "execution_count": 163,
     "metadata": {},
     "output_type": "execute_result"
    }
   ],
   "source": [
    "x[::2]"
   ]
  },
  {
   "cell_type": "code",
   "execution_count": 164,
   "id": "9d5d2f41",
   "metadata": {},
   "outputs": [
    {
     "data": {
      "text/plain": [
       "[1, 4]"
      ]
     },
     "execution_count": 164,
     "metadata": {},
     "output_type": "execute_result"
    }
   ],
   "source": [
    "x[::3]"
   ]
  },
  {
   "cell_type": "code",
   "execution_count": 65,
   "id": "d102e449",
   "metadata": {},
   "outputs": [
    {
     "data": {
      "text/plain": [
       "[5, 4, 3, 2, 1]"
      ]
     },
     "execution_count": 65,
     "metadata": {},
     "output_type": "execute_result"
    }
   ],
   "source": [
    "x[::-1]"
   ]
  },
  {
   "cell_type": "code",
   "execution_count": 166,
   "id": "fa2feff6",
   "metadata": {},
   "outputs": [
    {
     "name": "stdout",
     "output_type": "stream",
     "text": [
      "[1, 2, 3, 4, 5]\n"
     ]
    }
   ],
   "source": [
    "print(x)"
   ]
  },
  {
   "cell_type": "code",
   "execution_count": 165,
   "id": "c0953192",
   "metadata": {},
   "outputs": [
    {
     "data": {
      "text/plain": [
       "[5, 3, 1]"
      ]
     },
     "execution_count": 165,
     "metadata": {},
     "output_type": "execute_result"
    }
   ],
   "source": [
    "x[::-2]"
   ]
  },
  {
   "cell_type": "code",
   "execution_count": 75,
   "id": "28828cc2",
   "metadata": {},
   "outputs": [
    {
     "data": {
      "text/plain": [
       "[3, 2, 1]"
      ]
     },
     "execution_count": 75,
     "metadata": {},
     "output_type": "execute_result"
    }
   ],
   "source": [
    "x[2::-1]"
   ]
  },
  {
   "cell_type": "code",
   "execution_count": 167,
   "id": "0873e1b9",
   "metadata": {},
   "outputs": [
    {
     "data": {
      "text/plain": [
       "[]"
      ]
     },
     "execution_count": 167,
     "metadata": {},
     "output_type": "execute_result"
    }
   ],
   "source": [
    "x[2:4:-1]"
   ]
  },
  {
   "cell_type": "code",
   "execution_count": 76,
   "id": "1a77f197",
   "metadata": {},
   "outputs": [
    {
     "data": {
      "text/plain": [
       "[3, 4, 5]"
      ]
     },
     "execution_count": 76,
     "metadata": {},
     "output_type": "execute_result"
    }
   ],
   "source": [
    "x[2::1]"
   ]
  },
  {
   "cell_type": "code",
   "execution_count": 77,
   "id": "f6bda3d1",
   "metadata": {},
   "outputs": [
    {
     "data": {
      "text/plain": [
       "[4, 5]"
      ]
     },
     "execution_count": 77,
     "metadata": {},
     "output_type": "execute_result"
    }
   ],
   "source": [
    "x[-2::1]"
   ]
  },
  {
   "cell_type": "code",
   "execution_count": 78,
   "id": "adffe6e7",
   "metadata": {},
   "outputs": [
    {
     "data": {
      "text/plain": [
       "[4, 3, 2, 1]"
      ]
     },
     "execution_count": 78,
     "metadata": {},
     "output_type": "execute_result"
    }
   ],
   "source": [
    "x[-2::-1]"
   ]
  },
  {
   "cell_type": "code",
   "execution_count": 79,
   "id": "9abcb0c8",
   "metadata": {},
   "outputs": [
    {
     "data": {
      "text/plain": [
       "[2, 3, 4]"
      ]
     },
     "execution_count": 79,
     "metadata": {},
     "output_type": "execute_result"
    }
   ],
   "source": [
    "x[1:-1:1]"
   ]
  },
  {
   "cell_type": "code",
   "execution_count": 80,
   "id": "3c351683",
   "metadata": {},
   "outputs": [
    {
     "data": {
      "text/plain": [
       "[]"
      ]
     },
     "execution_count": 80,
     "metadata": {},
     "output_type": "execute_result"
    }
   ],
   "source": [
    "x[-1:-3:1]"
   ]
  },
  {
   "cell_type": "code",
   "execution_count": 81,
   "id": "4f61b2af",
   "metadata": {},
   "outputs": [
    {
     "data": {
      "text/plain": [
       "[5, 4]"
      ]
     },
     "execution_count": 81,
     "metadata": {},
     "output_type": "execute_result"
    }
   ],
   "source": [
    "x[-1:-3:-1]"
   ]
  },
  {
   "cell_type": "markdown",
   "id": "4f587483",
   "metadata": {},
   "source": [
    "### List comprehensions\n",
    "\n"
   ]
  },
  {
   "cell_type": "markdown",
   "id": "75b6910d",
   "metadata": {},
   "source": [
    "### Nested lists\n",
    "\n"
   ]
  },
  {
   "cell_type": "code",
   "execution_count": 173,
   "id": "edd6c171",
   "metadata": {},
   "outputs": [
    {
     "name": "stdout",
     "output_type": "stream",
     "text": [
      "[[70, 80, 100], [100, 90, 89]]\n"
     ]
    }
   ],
   "source": [
    "marks_A = [70, 80, 100]\n",
    "marks_B = [100, 90, 89]\n",
    "\n",
    "marks = [marks_A, marks_B]\n",
    "print(marks)"
   ]
  },
  {
   "cell_type": "code",
   "execution_count": 174,
   "id": "f19e4492",
   "metadata": {},
   "outputs": [
    {
     "name": "stdout",
     "output_type": "stream",
     "text": [
      "[[70, 80, 100], [100, 90, 89], [100, 71, 43]]\n"
     ]
    }
   ],
   "source": [
    "marks.append([100, 71, 43])\n",
    "print(marks)"
   ]
  },
  {
   "cell_type": "code",
   "execution_count": 178,
   "id": "913f830a",
   "metadata": {},
   "outputs": [
    {
     "data": {
      "text/plain": [
       "100"
      ]
     },
     "execution_count": 178,
     "metadata": {},
     "output_type": "execute_result"
    }
   ],
   "source": [
    "marks[2][0]"
   ]
  },
  {
   "cell_type": "markdown",
   "id": "305a4cfd",
   "metadata": {},
   "source": []
  },
  {
   "cell_type": "code",
   "execution_count": null,
   "id": "a39dbae6",
   "metadata": {},
   "outputs": [],
   "source": [
    "@"
   ]
  }
 ],
 "metadata": {
  "kernelspec": {
   "display_name": "Python 3 (ipykernel)",
   "language": "python",
   "name": "python3"
  },
  "language_info": {
   "codemirror_mode": {
    "name": "ipython",
    "version": 3
   },
   "file_extension": ".py",
   "mimetype": "text/x-python",
   "name": "python",
   "nbconvert_exporter": "python",
   "pygments_lexer": "ipython3",
   "version": "3.8.13"
  }
 },
 "nbformat": 4,
 "nbformat_minor": 5
}
