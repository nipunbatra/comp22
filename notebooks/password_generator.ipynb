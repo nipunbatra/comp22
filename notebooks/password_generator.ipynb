{
 "cells": [
  {
   "cell_type": "code",
   "execution_count": 12,
   "id": "4a7ff5fd",
   "metadata": {},
   "outputs": [
    {
     "name": "stdout",
     "output_type": "stream",
     "text": [
      "2022-12-16\n"
     ]
    }
   ],
   "source": [
    "from datetime import date\n",
    "print(date.today())"
   ]
  },
  {
   "cell_type": "code",
   "execution_count": 3,
   "id": "ecae3b69",
   "metadata": {},
   "outputs": [
    {
     "ename": "NameError",
     "evalue": "name 'make_password' is not defined",
     "output_type": "error",
     "traceback": [
      "\u001b[0;31m---------------------------------------------------------------------------\u001b[0m",
      "\u001b[0;31mNameError\u001b[0m                                 Traceback (most recent call last)",
      "Cell \u001b[0;32mIn [3], line 1\u001b[0m\n\u001b[0;32m----> 1\u001b[0m \u001b[43mmake_password\u001b[49m(\u001b[38;5;124m\"\u001b[39m\u001b[38;5;124mllllddxx\u001b[39m\u001b[38;5;124m\"\u001b[39m)\n",
      "\u001b[0;31mNameError\u001b[0m: name 'make_password' is not defined"
     ]
    }
   ],
   "source": [
    "make_password(\"llllddxx\")"
   ]
  },
  {
   "cell_type": "code",
   "execution_count": 4,
   "id": "ec2e89c4",
   "metadata": {},
   "outputs": [
    {
     "ename": "NameError",
     "evalue": "name 'make_password' is not defined",
     "output_type": "error",
     "traceback": [
      "\u001b[0;31m---------------------------------------------------------------------------\u001b[0m",
      "\u001b[0;31mNameError\u001b[0m                                 Traceback (most recent call last)",
      "Cell \u001b[0;32mIn [4], line 1\u001b[0m\n\u001b[0;32m----> 1\u001b[0m \u001b[43mmake_password\u001b[49m(\u001b[38;5;124m\"\u001b[39m\u001b[38;5;124mdddddd\u001b[39m\u001b[38;5;124m\"\u001b[39m)\n",
      "\u001b[0;31mNameError\u001b[0m: name 'make_password' is not defined"
     ]
    }
   ],
   "source": [
    "make_password(\"dddddd\")"
   ]
  },
  {
   "cell_type": "code",
   "execution_count": 5,
   "id": "bfc3b585",
   "metadata": {},
   "outputs": [
    {
     "ename": "NameError",
     "evalue": "name 'make_password' is not defined",
     "output_type": "error",
     "traceback": [
      "\u001b[0;31m---------------------------------------------------------------------------\u001b[0m",
      "\u001b[0;31mNameError\u001b[0m                                 Traceback (most recent call last)",
      "Cell \u001b[0;32mIn [5], line 1\u001b[0m\n\u001b[0;32m----> 1\u001b[0m \u001b[43mmake_password\u001b[49m(\u001b[38;5;124m\"\u001b[39m\u001b[38;5;124mdddd\u001b[39m\u001b[38;5;124m\"\u001b[39m)\n",
      "\u001b[0;31mNameError\u001b[0m: name 'make_password' is not defined"
     ]
    }
   ],
   "source": [
    "make_password(\"dddd\")"
   ]
  },
  {
   "cell_type": "code",
   "execution_count": 6,
   "id": "91c584e6",
   "metadata": {},
   "outputs": [
    {
     "ename": "NameError",
     "evalue": "name 'make_password' is not defined",
     "output_type": "error",
     "traceback": [
      "\u001b[0;31m---------------------------------------------------------------------------\u001b[0m",
      "\u001b[0;31mNameError\u001b[0m                                 Traceback (most recent call last)",
      "Cell \u001b[0;32mIn [6], line 1\u001b[0m\n\u001b[0;32m----> 1\u001b[0m \u001b[43mmake_password\u001b[49m(\u001b[38;5;124m\"\u001b[39m\u001b[38;5;124msscsllxxddx\u001b[39m\u001b[38;5;124m\"\u001b[39m)\n",
      "\u001b[0;31mNameError\u001b[0m: name 'make_password' is not defined"
     ]
    }
   ],
   "source": [
    "make_password(\"sscsllxxddx\")"
   ]
  },
  {
   "cell_type": "code",
   "execution_count": 7,
   "id": "23b9d827",
   "metadata": {},
   "outputs": [],
   "source": [
    "import random"
   ]
  },
  {
   "cell_type": "code",
   "execution_count": 8,
   "id": "2a2d63aa",
   "metadata": {},
   "outputs": [
    {
     "data": {
      "text/plain": [
       "'c'"
      ]
     },
     "execution_count": 8,
     "metadata": {},
     "output_type": "execute_result"
    }
   ],
   "source": [
    "random.choice(\"abcdefgh\")"
   ]
  },
  {
   "cell_type": "code",
   "execution_count": 9,
   "id": "4ae1cb6e",
   "metadata": {},
   "outputs": [
    {
     "data": {
      "text/plain": [
       "'h'"
      ]
     },
     "execution_count": 9,
     "metadata": {},
     "output_type": "execute_result"
    }
   ],
   "source": [
    "random.choice(\"abcdefgh\")"
   ]
  },
  {
   "cell_type": "code",
   "execution_count": 10,
   "id": "34ab879a",
   "metadata": {},
   "outputs": [],
   "source": [
    "def make_password(format):\n",
    "    p = \"\"\n",
    "    for c in format:\n",
    "        if c == \"c\":\n",
    "            p = p + random.choice(\"ABCDEFGHIJKLMNOPQRSTUVWXYZ\")\n",
    "        elif c == \"s\":\n",
    "            p = p + random.choice(\"abcdefghijklmnopqrstuvwxyz\")\n",
    "        elif c == \"d\":\n",
    "            p = p + random.choice(\"0123456789\")\n",
    "        elif c == \"l\":\n",
    "            p = p + random.choice(\"ABCDEFGHIJKLMNOPQRSTUVWXYZ\"\"abcdefghijklmnopqrstuvwxyz\")\n",
    "        elif c == \"x\":\n",
    "            p = p + random.choice(\"`~!@#$%^&*()_-+=/?.>,<\")\n",
    "    return p"
   ]
  },
  {
   "cell_type": "code",
   "execution_count": 11,
   "id": "83217626",
   "metadata": {},
   "outputs": [
    {
     "data": {
      "text/plain": [
       "'foobar'"
      ]
     },
     "execution_count": 11,
     "metadata": {},
     "output_type": "execute_result"
    }
   ],
   "source": [
    "'foo''bar'"
   ]
  },
  {
   "cell_type": "code",
   "execution_count": 12,
   "id": "ea351eef",
   "metadata": {},
   "outputs": [
    {
     "data": {
      "text/plain": [
       "'4464'"
      ]
     },
     "execution_count": 12,
     "metadata": {},
     "output_type": "execute_result"
    }
   ],
   "source": [
    "make_password(\"dddd\")"
   ]
  },
  {
   "cell_type": "code",
   "execution_count": 13,
   "id": "52d00970",
   "metadata": {},
   "outputs": [
    {
     "data": {
      "text/plain": [
       "'3821'"
      ]
     },
     "execution_count": 13,
     "metadata": {},
     "output_type": "execute_result"
    }
   ],
   "source": [
    "make_password(\"dddd\")"
   ]
  },
  {
   "cell_type": "code",
   "execution_count": 14,
   "id": "009f2af9",
   "metadata": {},
   "outputs": [
    {
     "data": {
      "text/plain": [
       "'VEolEQ?(8>'"
      ]
     },
     "execution_count": 14,
     "metadata": {},
     "output_type": "execute_result"
    }
   ],
   "source": [
    "make_password(\"ccssccxxdx\")"
   ]
  },
  {
   "cell_type": "code",
   "execution_count": 15,
   "id": "0600a78f",
   "metadata": {},
   "outputs": [],
   "source": [
    "# Whenever possible, move complexity from code to data."
   ]
  },
  {
   "cell_type": "code",
   "execution_count": 16,
   "id": "fbd39959",
   "metadata": {},
   "outputs": [],
   "source": [
    "# Dictionaries."
   ]
  },
  {
   "cell_type": "code",
   "execution_count": 17,
   "id": "545a0918",
   "metadata": {},
   "outputs": [],
   "source": [
    "xs = [0, 5, 3, 2]"
   ]
  },
  {
   "cell_type": "code",
   "execution_count": 18,
   "id": "9315c8f8",
   "metadata": {},
   "outputs": [
    {
     "data": {
      "text/plain": [
       "5"
      ]
     },
     "execution_count": 18,
     "metadata": {},
     "output_type": "execute_result"
    }
   ],
   "source": [
    "xs[1]"
   ]
  },
  {
   "cell_type": "code",
   "execution_count": 19,
   "id": "31ff1502",
   "metadata": {},
   "outputs": [
    {
     "data": {
      "text/plain": [
       "2"
      ]
     },
     "execution_count": 19,
     "metadata": {},
     "output_type": "execute_result"
    }
   ],
   "source": [
    "xs[3]"
   ]
  },
  {
   "cell_type": "code",
   "execution_count": 21,
   "id": "ebc195da",
   "metadata": {},
   "outputs": [],
   "source": [
    "capitals = { \"Gujarat\": \"Gandhinagar\", \"Kerala\": \"Thiruvananthapuram\", \"Maharashtra\": \"Mumbai\", \"West Bengal\": \"Kolkata\" }"
   ]
  },
  {
   "cell_type": "code",
   "execution_count": 22,
   "id": "5e1d434d",
   "metadata": {},
   "outputs": [
    {
     "data": {
      "text/plain": [
       "{'Gujarat': 'Gandhinagar',\n",
       " 'Kerala': 'Thiruvananthapuram',\n",
       " 'Maharashtra': 'Mumbai',\n",
       " 'West Bengal': 'Kolkata'}"
      ]
     },
     "execution_count": 22,
     "metadata": {},
     "output_type": "execute_result"
    }
   ],
   "source": [
    "capitals"
   ]
  },
  {
   "cell_type": "code",
   "execution_count": 23,
   "id": "22a0896e",
   "metadata": {},
   "outputs": [
    {
     "data": {
      "text/plain": [
       "'Kolkata'"
      ]
     },
     "execution_count": 23,
     "metadata": {},
     "output_type": "execute_result"
    }
   ],
   "source": [
    "capitals[\"West Bengal\"]"
   ]
  },
  {
   "cell_type": "code",
   "execution_count": 24,
   "id": "f29030eb",
   "metadata": {},
   "outputs": [],
   "source": [
    "possibilities = {\n",
    "    \"c\": \"ABCDEFGHIJKLMNOPQRSTUVWXYZ\",\n",
    "    \"s\": \"abcdefghijklmnopqrstuvwxyz\",\n",
    "    \"l\": \"ABCDEFGHIJKLMNOPQRSTUVWXYZ\"\"abcdefghijklmnopqrstuvwxyz\",\n",
    "    \"d\": \"0123456789\",\n",
    "    \"x\": \"`~!@#$%^&*()_-+=/?.>,<\"\n",
    "}\n",
    "\n",
    "def make_password(format):\n",
    "    p = \"\"\n",
    "    for c in format:\n",
    "        p = p + random.choice(possibilities[c])\n",
    "    return p"
   ]
  },
  {
   "cell_type": "code",
   "execution_count": 25,
   "id": "fd7791a7",
   "metadata": {},
   "outputs": [
    {
     "data": {
      "text/plain": [
       "'6340'"
      ]
     },
     "execution_count": 25,
     "metadata": {},
     "output_type": "execute_result"
    }
   ],
   "source": [
    "make_password(\"dddd\")"
   ]
  },
  {
   "cell_type": "code",
   "execution_count": 26,
   "id": "51ed5593",
   "metadata": {},
   "outputs": [
    {
     "data": {
      "text/plain": [
       "'QHlcGA)!8*'"
      ]
     },
     "execution_count": 26,
     "metadata": {},
     "output_type": "execute_result"
    }
   ],
   "source": [
    "make_password(\"ccssccxxdx\")"
   ]
  },
  {
   "cell_type": "code",
   "execution_count": 27,
   "id": "5149ca3b",
   "metadata": {},
   "outputs": [],
   "source": [
    "possibilities = {\n",
    "    \"c\": \"ABCDEFGHIJKLMNOPQRSTUVWXYZ\",\n",
    "    \"s\": \"abcdefghijklmnopqrstuvwxyz\",\n",
    "    \"l\": \"ABCDEFGHIJKLMNOPQRSTUVWXYZ\"\"abcdefghijklmnopqrstuvwxyz\",\n",
    "    \"d\": \"0123456789\",\n",
    "    \"x\": \"`~!@#$%^&*()_-+=/?.>,<\"\n",
    "}\n",
    "\n",
    "def make_password(format):\n",
    "    return \"\".join([random.choice(possibilities[c]) for c in format])"
   ]
  },
  {
   "cell_type": "code",
   "execution_count": 28,
   "id": "346e5dd3",
   "metadata": {},
   "outputs": [
    {
     "data": {
      "text/plain": [
       "'CMunZM>/2<'"
      ]
     },
     "execution_count": 28,
     "metadata": {},
     "output_type": "execute_result"
    }
   ],
   "source": [
    "make_password(\"ccssccxxdx\")"
   ]
  },
  {
   "cell_type": "code",
   "execution_count": 29,
   "id": "b531bc36",
   "metadata": {},
   "outputs": [],
   "source": [
    "# List comprehensions."
   ]
  },
  {
   "cell_type": "code",
   "execution_count": 30,
   "id": "d6be5776",
   "metadata": {},
   "outputs": [
    {
     "data": {
      "text/plain": [
       "[1, 4, 9, 16, 25, 36, 49, 64, 81, 100]"
      ]
     },
     "execution_count": 30,
     "metadata": {},
     "output_type": "execute_result"
    }
   ],
   "source": [
    "[i*i for i in range(1, 11)]"
   ]
  },
  {
   "cell_type": "code",
   "execution_count": null,
   "id": "78315822",
   "metadata": {},
   "outputs": [],
   "source": []
  }
 ],
 "metadata": {
  "kernelspec": {
   "display_name": "Python 3 (ipykernel)",
   "language": "python",
   "name": "python3"
  },
  "language_info": {
   "codemirror_mode": {
    "name": "ipython",
    "version": 3
   },
   "file_extension": ".py",
   "mimetype": "text/x-python",
   "name": "python",
   "nbconvert_exporter": "python",
   "pygments_lexer": "ipython3",
   "version": "3.10.8"
  }
 },
 "nbformat": 4,
 "nbformat_minor": 5
}
