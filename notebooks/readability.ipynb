{
 "cells": [
  {
   "cell_type": "code",
   "execution_count": 1,
   "id": "2bfdf0dc",
   "metadata": {},
   "outputs": [
    {
     "name": "stdout",
     "output_type": "stream",
     "text": [
      "2022-12-20\n"
     ]
    }
   ],
   "source": [
    "from datetime import date\n",
    "print(date.today())"
   ]
  },
  {
   "cell_type": "code",
   "execution_count": 2,
   "id": "df49f786",
   "metadata": {},
   "outputs": [],
   "source": [
    "xs = [x*x for x in range(1, 11)]"
   ]
  },
  {
   "cell_type": "code",
   "execution_count": 3,
   "id": "32679fb0",
   "metadata": {},
   "outputs": [
    {
     "data": {
      "text/plain": [
       "[1, 4, 9, 16, 25, 36, 49, 64, 81, 100]"
      ]
     },
     "execution_count": 3,
     "metadata": {},
     "output_type": "execute_result"
    }
   ],
   "source": [
    "xs"
   ]
  },
  {
   "cell_type": "code",
   "execution_count": 4,
   "id": "b19a6c43",
   "metadata": {},
   "outputs": [],
   "source": [
    "ys = []\n",
    "for x in range(1, 11):\n",
    "    ys.append(x*x)\n"
   ]
  },
  {
   "cell_type": "code",
   "execution_count": 5,
   "id": "c2c3c5c0",
   "metadata": {},
   "outputs": [
    {
     "data": {
      "text/plain": [
       "[1, 4, 9, 16, 25, 36, 49, 64, 81, 100]"
      ]
     },
     "execution_count": 5,
     "metadata": {},
     "output_type": "execute_result"
    }
   ],
   "source": [
    "ys"
   ]
  },
  {
   "cell_type": "code",
   "execution_count": 8,
   "id": "34a853d0",
   "metadata": {},
   "outputs": [],
   "source": [
    "# Python also supports sets.\n",
    "\n",
    "zs = set()"
   ]
  },
  {
   "cell_type": "code",
   "execution_count": 9,
   "id": "ecebbf19",
   "metadata": {},
   "outputs": [
    {
     "data": {
      "text/plain": [
       "set()"
      ]
     },
     "execution_count": 9,
     "metadata": {},
     "output_type": "execute_result"
    }
   ],
   "source": [
    "zs"
   ]
  },
  {
   "cell_type": "code",
   "execution_count": 14,
   "id": "6fce855b",
   "metadata": {},
   "outputs": [],
   "source": [
    "zs = { 2, 3, 5, 7, 11 }"
   ]
  },
  {
   "cell_type": "code",
   "execution_count": 11,
   "id": "770e8209",
   "metadata": {},
   "outputs": [
    {
     "data": {
      "text/plain": [
       "{2, 3, 5, 7, 11}"
      ]
     },
     "execution_count": 11,
     "metadata": {},
     "output_type": "execute_result"
    }
   ],
   "source": [
    "zs"
   ]
  },
  {
   "cell_type": "code",
   "execution_count": 12,
   "id": "048eb904",
   "metadata": {},
   "outputs": [
    {
     "data": {
      "text/plain": [
       "set"
      ]
     },
     "execution_count": 12,
     "metadata": {},
     "output_type": "execute_result"
    }
   ],
   "source": [
    "type(zs)"
   ]
  },
  {
   "cell_type": "code",
   "execution_count": 13,
   "id": "e7e37fa4",
   "metadata": {},
   "outputs": [
    {
     "data": {
      "text/plain": [
       "list"
      ]
     },
     "execution_count": 13,
     "metadata": {},
     "output_type": "execute_result"
    }
   ],
   "source": [
    "type(xs)"
   ]
  },
  {
   "cell_type": "code",
   "execution_count": 14,
   "id": "759b9c07",
   "metadata": {},
   "outputs": [
    {
     "data": {
      "text/plain": [
       "True"
      ]
     },
     "execution_count": 14,
     "metadata": {},
     "output_type": "execute_result"
    }
   ],
   "source": [
    "zs == { 3, 5, 7, 11, 2 }"
   ]
  },
  {
   "cell_type": "code",
   "execution_count": 15,
   "id": "b689470f",
   "metadata": {},
   "outputs": [
    {
     "data": {
      "text/plain": [
       "False"
      ]
     },
     "execution_count": 15,
     "metadata": {},
     "output_type": "execute_result"
    }
   ],
   "source": [
    "[2, 3, 5, 7, 11] == [3, 5, 7, 11, 2]"
   ]
  },
  {
   "cell_type": "code",
   "execution_count": 16,
   "id": "8a478ae2",
   "metadata": {},
   "outputs": [
    {
     "name": "stdout",
     "output_type": "stream",
     "text": [
      "2\n",
      "3\n",
      "5\n",
      "7\n",
      "11\n"
     ]
    }
   ],
   "source": [
    "for z in zs:\n",
    "    print(z)"
   ]
  },
  {
   "cell_type": "code",
   "execution_count": 17,
   "id": "9f4f17d9",
   "metadata": {},
   "outputs": [
    {
     "name": "stdout",
     "output_type": "stream",
     "text": [
      "2\n",
      "3\n",
      "5\n",
      "7\n",
      "11\n"
     ]
    }
   ],
   "source": [
    "for z in {3, 5, 7, 11, 2}:\n",
    "    print(z)"
   ]
  },
  {
   "cell_type": "code",
   "execution_count": 18,
   "id": "5f23c633",
   "metadata": {},
   "outputs": [
    {
     "data": {
      "text/plain": [
       "True"
      ]
     },
     "execution_count": 18,
     "metadata": {},
     "output_type": "execute_result"
    }
   ],
   "source": [
    "3 in zs"
   ]
  },
  {
   "cell_type": "code",
   "execution_count": 19,
   "id": "aa258f08",
   "metadata": {},
   "outputs": [
    {
     "data": {
      "text/plain": [
       "True"
      ]
     },
     "execution_count": 19,
     "metadata": {},
     "output_type": "execute_result"
    }
   ],
   "source": [
    "9 in xs"
   ]
  },
  {
   "cell_type": "code",
   "execution_count": 20,
   "id": "7627d7a5",
   "metadata": {},
   "outputs": [
    {
     "data": {
      "text/plain": [
       "False"
      ]
     },
     "execution_count": 20,
     "metadata": {},
     "output_type": "execute_result"
    }
   ],
   "source": [
    "10 in xs"
   ]
  },
  {
   "cell_type": "code",
   "execution_count": 2,
   "id": "4727eca7",
   "metadata": {},
   "outputs": [],
   "source": [
    "ls = list(range(10000000))"
   ]
  },
  {
   "cell_type": "code",
   "execution_count": 3,
   "id": "30baa627",
   "metadata": {},
   "outputs": [],
   "source": [
    "ss = set(range(10000000))"
   ]
  },
  {
   "cell_type": "code",
   "execution_count": 10,
   "id": "b70cdcd1",
   "metadata": {},
   "outputs": [
    {
     "data": {
      "text/plain": [
       "False"
      ]
     },
     "execution_count": 10,
     "metadata": {},
     "output_type": "execute_result"
    }
   ],
   "source": [
    "-1 in ls"
   ]
  },
  {
   "cell_type": "code",
   "execution_count": 11,
   "id": "363fcb6c",
   "metadata": {},
   "outputs": [
    {
     "data": {
      "text/plain": [
       "False"
      ]
     },
     "execution_count": 11,
     "metadata": {},
     "output_type": "execute_result"
    }
   ],
   "source": [
    "-1 in ss"
   ]
  },
  {
   "cell_type": "code",
   "execution_count": 12,
   "id": "566063f3",
   "metadata": {},
   "outputs": [],
   "source": [
    "# Element membership lookups are faster in a set than a list."
   ]
  },
  {
   "cell_type": "code",
   "execution_count": 15,
   "id": "72e1c730",
   "metadata": {},
   "outputs": [],
   "source": [
    "zs.add(13)"
   ]
  },
  {
   "cell_type": "code",
   "execution_count": 16,
   "id": "9d372cb8",
   "metadata": {},
   "outputs": [
    {
     "data": {
      "text/plain": [
       "{2, 3, 5, 7, 11, 13}"
      ]
     },
     "execution_count": 16,
     "metadata": {},
     "output_type": "execute_result"
    }
   ],
   "source": [
    "zs"
   ]
  },
  {
   "cell_type": "code",
   "execution_count": null,
   "id": "9ebe645f",
   "metadata": {},
   "outputs": [],
   "source": []
  }
 ],
 "metadata": {
  "kernelspec": {
   "display_name": "Python 3 (ipykernel)",
   "language": "python",
   "name": "python3"
  },
  "language_info": {
   "codemirror_mode": {
    "name": "ipython",
    "version": 3
   },
   "file_extension": ".py",
   "mimetype": "text/x-python",
   "name": "python",
   "nbconvert_exporter": "python",
   "pygments_lexer": "ipython3",
   "version": "3.10.8"
  }
 },
 "nbformat": 4,
 "nbformat_minor": 5
}
