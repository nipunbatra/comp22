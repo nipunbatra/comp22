{
 "cells": [
  {
   "cell_type": "code",
   "execution_count": 1,
   "id": "3e334786",
   "metadata": {},
   "outputs": [
    {
     "ename": "NameError",
     "evalue": "name 'y' is not defined",
     "output_type": "error",
     "traceback": [
      "\u001b[0;31m---------------------------------------------------------------------------\u001b[0m",
      "\u001b[0;31mNameError\u001b[0m                                 Traceback (most recent call last)",
      "Cell \u001b[0;32mIn [1], line 11\u001b[0m\n\u001b[1;32m      9\u001b[0m f(\u001b[38;5;241m2\u001b[39m)\n\u001b[1;32m     10\u001b[0m g(\u001b[38;5;241m2\u001b[39m)\n\u001b[0;32m---> 11\u001b[0m \u001b[38;5;28mprint\u001b[39m(\u001b[43my\u001b[49m)\n",
      "\u001b[0;31mNameError\u001b[0m: name 'y' is not defined"
     ]
    }
   ],
   "source": [
    "# Scope rules in Python.\n",
    "\n",
    "def f(x):\n",
    "    y = x\n",
    "\n",
    "def g(x):\n",
    "    y = x + 1\n",
    "\n",
    "f(2)\n",
    "g(2)\n",
    "print(y)\n",
    "\n",
    "# Scope rules determine the values of variable names at \n",
    "# particular points.\n",
    "\n",
    "# Variables in Python get function-local scope by default\n",
    "# if possible."
   ]
  },
  {
   "cell_type": "code",
   "execution_count": 6,
   "id": "e616b10f",
   "metadata": {},
   "outputs": [
    {
     "name": "stdout",
     "output_type": "stream",
     "text": [
      "2\n",
      "3\n",
      "0\n"
     ]
    }
   ],
   "source": [
    "def f(x):\n",
    "    y = x\n",
    "    return y\n",
    "\n",
    "def g(x):\n",
    "    y = x + 1\n",
    "    print(y)\n",
    "\n",
    "y = 0\n",
    "print(f(2))\n",
    "g(2)\n",
    "print(y)"
   ]
  },
  {
   "cell_type": "code",
   "execution_count": 15,
   "id": "4ed660cb",
   "metadata": {},
   "outputs": [
    {
     "name": "stdout",
     "output_type": "stream",
     "text": [
      "Friday\n"
     ]
    }
   ],
   "source": [
    "day = \"Thursday\"\n",
    "\n",
    "def setday(newday):\n",
    "    global day\n",
    "    day = newday\n",
    "\n",
    "setday(\"Friday\")\n",
    "print(day)"
   ]
  },
  {
   "cell_type": "code",
   "execution_count": 16,
   "id": "9a74c176",
   "metadata": {},
   "outputs": [
    {
     "ename": "SyntaxError",
     "evalue": "no binding for nonlocal 'day' found (1254170986.py, line 4)",
     "output_type": "error",
     "traceback": [
      "\u001b[0;36m  Cell \u001b[0;32mIn [16], line 4\u001b[0;36m\u001b[0m\n\u001b[0;31m    nonlocal day\u001b[0m\n\u001b[0m    ^\u001b[0m\n\u001b[0;31mSyntaxError\u001b[0m\u001b[0;31m:\u001b[0m no binding for nonlocal 'day' found\n"
     ]
    }
   ],
   "source": [
    "day = \"Thursday\"\n",
    "\n",
    "def setday(newday):\n",
    "    nonlocal day\n",
    "    day = newday\n",
    "\n",
    "setday(\"Friday\")\n",
    "print(day)"
   ]
  },
  {
   "cell_type": "code",
   "execution_count": 9,
   "id": "32d54c9f",
   "metadata": {},
   "outputs": [
    {
     "name": "stdout",
     "output_type": "stream",
     "text": [
      "5\n"
     ]
    }
   ],
   "source": [
    "x = 5\n",
    "\n",
    "def foo():\n",
    "    x = 6\n",
    "    def bar():\n",
    "        global x\n",
    "        print(x)\n",
    "    bar()\n",
    "\n",
    "foo()"
   ]
  },
  {
   "cell_type": "code",
   "execution_count": 10,
   "id": "9cf08778",
   "metadata": {},
   "outputs": [
    {
     "name": "stdout",
     "output_type": "stream",
     "text": [
      "6\n"
     ]
    }
   ],
   "source": [
    "x = 5\n",
    "\n",
    "def foo():\n",
    "    x = 6\n",
    "    def bar():\n",
    "        nonlocal x\n",
    "        print(x)\n",
    "    bar()\n",
    "\n",
    "foo()"
   ]
  },
  {
   "cell_type": "code",
   "execution_count": 11,
   "id": "948519d9",
   "metadata": {},
   "outputs": [
    {
     "name": "stdout",
     "output_type": "stream",
     "text": [
      "5\n",
      "25\n",
      "6\n",
      "26\n"
     ]
    }
   ],
   "source": [
    "def make_counter(start):\n",
    "    def tick():\n",
    "        nonlocal start\n",
    "        r = start\n",
    "        start = start+1\n",
    "        return r\n",
    "    return tick\n",
    "\n",
    "c1 = make_counter(5)\n",
    "c2 = make_counter(25)\n",
    "\n",
    "print(c1()) # 5\n",
    "print(c2()) # 25\n",
    "print(c1()) # 6\n",
    "print(c2()) # 26"
   ]
  },
  {
   "cell_type": "code",
   "execution_count": 12,
   "id": "003ef57c",
   "metadata": {},
   "outputs": [
    {
     "name": "stdout",
     "output_type": "stream",
     "text": [
      "5\n",
      "5\n"
     ]
    }
   ],
   "source": [
    "print(make_counter(5)())\n",
    "print(make_counter(5)())"
   ]
  },
  {
   "cell_type": "code",
   "execution_count": 13,
   "id": "3af0217f",
   "metadata": {},
   "outputs": [
    {
     "ename": "NameError",
     "evalue": "name 'tick' is not defined",
     "output_type": "error",
     "traceback": [
      "\u001b[0;31m---------------------------------------------------------------------------\u001b[0m",
      "\u001b[0;31mNameError\u001b[0m                                 Traceback (most recent call last)",
      "Cell \u001b[0;32mIn [13], line 1\u001b[0m\n\u001b[0;32m----> 1\u001b[0m \u001b[38;5;28mprint\u001b[39m(\u001b[43mtick\u001b[49m())\n",
      "\u001b[0;31mNameError\u001b[0m: name 'tick' is not defined"
     ]
    }
   ],
   "source": [
    "print(tick())"
   ]
  },
  {
   "cell_type": "code",
   "execution_count": null,
   "id": "7a3e8ca1",
   "metadata": {},
   "outputs": [],
   "source": []
  }
 ],
 "metadata": {
  "kernelspec": {
   "display_name": "Python 3 (ipykernel)",
   "language": "python",
   "name": "python3"
  },
  "language_info": {
   "codemirror_mode": {
    "name": "ipython",
    "version": 3
   },
   "file_extension": ".py",
   "mimetype": "text/x-python",
   "name": "python",
   "nbconvert_exporter": "python",
   "pygments_lexer": "ipython3",
   "version": "3.10.8"
  }
 },
 "nbformat": 4,
 "nbformat_minor": 5
}
