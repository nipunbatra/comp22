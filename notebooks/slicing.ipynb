{
 "cells": [
  {
   "cell_type": "markdown",
   "id": "1c89107f",
   "metadata": {},
   "source": [
    "### Syntax\n",
    "\n",
    "x[start:stop:step]\n",
    "\n",
    "\n",
    "If step is positive, we from start to (stop - 1) in steps of step (stride)\n",
    "\n",
    "If step is negative, we from start to (stop + 1) in steps of step (stride)"
   ]
  },
  {
   "cell_type": "code",
   "execution_count": 4,
   "id": "704122e7",
   "metadata": {},
   "outputs": [
    {
     "data": {
      "text/plain": [
       "['a', 'b', 'c', 'd', 'e']"
      ]
     },
     "execution_count": 4,
     "metadata": {},
     "output_type": "execute_result"
    }
   ],
   "source": [
    "x = \"a,b,c,d,e\".split(\",\")\n",
    "x"
   ]
  },
  {
   "cell_type": "markdown",
   "id": "795a56e4",
   "metadata": {},
   "source": [
    "<img src=\"slicing.png\" alt=\"drawing\" width=\"800\"/>"
   ]
  },
  {
   "cell_type": "markdown",
   "id": "5deb465a",
   "metadata": {},
   "source": [
    "### Slice object"
   ]
  },
  {
   "cell_type": "code",
   "execution_count": 10,
   "id": "9b527f0b",
   "metadata": {},
   "outputs": [
    {
     "data": {
      "text/plain": [
       "(0, 5, 1)"
      ]
     },
     "execution_count": 10,
     "metadata": {},
     "output_type": "execute_result"
    }
   ],
   "source": [
    "s = slice(0, 5, 1)\n",
    "s.start, s.stop, s.step"
   ]
  },
  {
   "cell_type": "code",
   "execution_count": 11,
   "id": "cd1f48c3",
   "metadata": {},
   "outputs": [
    {
     "data": {
      "text/plain": [
       "['a', 'b', 'c', 'd', 'e']"
      ]
     },
     "execution_count": 11,
     "metadata": {},
     "output_type": "execute_result"
    }
   ],
   "source": [
    "x[s]"
   ]
  },
  {
   "cell_type": "code",
   "execution_count": null,
   "id": "57aa9eb9",
   "metadata": {},
   "outputs": [],
   "source": [
    "x[0:5:1]"
   ]
  },
  {
   "cell_type": "code",
   "execution_count": 21,
   "id": "75e20873",
   "metadata": {},
   "outputs": [
    {
     "data": {
      "text/plain": [
       "['a', 'b', 'c', 'd', 'e']"
      ]
     },
     "execution_count": 21,
     "metadata": {},
     "output_type": "execute_result"
    }
   ],
   "source": [
    "x[::]"
   ]
  },
  {
   "cell_type": "code",
   "execution_count": 22,
   "id": "591f0947",
   "metadata": {},
   "outputs": [
    {
     "data": {
      "text/plain": [
       "['a', 'b', 'c', 'd', 'e']"
      ]
     },
     "execution_count": 22,
     "metadata": {},
     "output_type": "execute_result"
    }
   ],
   "source": [
    "s = slice(None, None, None)\n",
    "x[s]"
   ]
  },
  {
   "cell_type": "markdown",
   "id": "f68aa527",
   "metadata": {},
   "source": [
    "<img src=\"slicing.png\" alt=\"drawing\" width=\"200\"/>"
   ]
  },
  {
   "cell_type": "code",
   "execution_count": 23,
   "id": "55817aa3",
   "metadata": {},
   "outputs": [
    {
     "data": {
      "text/plain": [
       "['b', 'c', 'd', 'e']"
      ]
     },
     "execution_count": 23,
     "metadata": {},
     "output_type": "execute_result"
    }
   ],
   "source": [
    "x[1::]"
   ]
  },
  {
   "cell_type": "code",
   "execution_count": 24,
   "id": "bbd93a7d",
   "metadata": {},
   "outputs": [
    {
     "data": {
      "text/plain": [
       "['a', 'b', 'c']"
      ]
     },
     "execution_count": 24,
     "metadata": {},
     "output_type": "execute_result"
    }
   ],
   "source": [
    "x[:3:]"
   ]
  },
  {
   "cell_type": "code",
   "execution_count": 25,
   "id": "1a19ea16",
   "metadata": {},
   "outputs": [
    {
     "ename": "ValueError",
     "evalue": "slice step cannot be zero",
     "output_type": "error",
     "traceback": [
      "\u001b[0;31m---------------------------------------------------------------------------\u001b[0m",
      "\u001b[0;31mValueError\u001b[0m                                Traceback (most recent call last)",
      "Input \u001b[0;32mIn [25]\u001b[0m, in \u001b[0;36m<cell line: 1>\u001b[0;34m()\u001b[0m\n\u001b[0;32m----> 1\u001b[0m \u001b[43mx\u001b[49m\u001b[43m[\u001b[49m\u001b[43m:\u001b[49m\u001b[43m:\u001b[49m\u001b[38;5;241;43m0\u001b[39;49m\u001b[43m]\u001b[49m\n",
      "\u001b[0;31mValueError\u001b[0m: slice step cannot be zero"
     ]
    }
   ],
   "source": [
    "x[::0]"
   ]
  },
  {
   "cell_type": "markdown",
   "id": "a007f2a7",
   "metadata": {},
   "source": [
    "<img src=\"slicing.png\" alt=\"drawing\" width=\"600\"/>"
   ]
  },
  {
   "cell_type": "code",
   "execution_count": 27,
   "id": "5c1506e5",
   "metadata": {},
   "outputs": [
    {
     "data": {
      "text/plain": [
       "['a', 'c', 'e']"
      ]
     },
     "execution_count": 27,
     "metadata": {},
     "output_type": "execute_result"
    }
   ],
   "source": [
    "x[::2] # x[0:5:2]"
   ]
  },
  {
   "cell_type": "code",
   "execution_count": 28,
   "id": "41191b95",
   "metadata": {},
   "outputs": [
    {
     "data": {
      "text/plain": [
       "['b', 'c', 'd', 'e']"
      ]
     },
     "execution_count": 28,
     "metadata": {},
     "output_type": "execute_result"
    }
   ],
   "source": [
    "x[-4::]"
   ]
  },
  {
   "cell_type": "code",
   "execution_count": 29,
   "id": "7f5d1919",
   "metadata": {},
   "outputs": [
    {
     "data": {
      "text/plain": [
       "[]"
      ]
     },
     "execution_count": 29,
     "metadata": {},
     "output_type": "execute_result"
    }
   ],
   "source": [
    "x[-3:-5:]"
   ]
  },
  {
   "cell_type": "markdown",
   "id": "daf2e191",
   "metadata": {},
   "source": [
    "<img src=\"slicing.png\" alt=\"drawing\" width=\"400\"/>"
   ]
  },
  {
   "cell_type": "code",
   "execution_count": 30,
   "id": "6f48fe77",
   "metadata": {},
   "outputs": [
    {
     "data": {
      "text/plain": [
       "['a', 'b']"
      ]
     },
     "execution_count": 30,
     "metadata": {},
     "output_type": "execute_result"
    }
   ],
   "source": [
    "x[:-3:]"
   ]
  },
  {
   "cell_type": "code",
   "execution_count": 31,
   "id": "85e76751",
   "metadata": {},
   "outputs": [
    {
     "data": {
      "text/plain": [
       "[]"
      ]
     },
     "execution_count": 31,
     "metadata": {},
     "output_type": "execute_result"
    }
   ],
   "source": [
    "x[4:2:1]"
   ]
  },
  {
   "cell_type": "code",
   "execution_count": 32,
   "id": "60f848cb",
   "metadata": {},
   "outputs": [
    {
     "data": {
      "text/plain": [
       "[]"
      ]
     },
     "execution_count": 32,
     "metadata": {},
     "output_type": "execute_result"
    }
   ],
   "source": [
    "x[4:4:1]"
   ]
  },
  {
   "cell_type": "markdown",
   "id": "cd212fde",
   "metadata": {},
   "source": [
    "<img src=\"slicing.png\" alt=\"drawing\" width=\"400\"/>"
   ]
  },
  {
   "cell_type": "code",
   "execution_count": 33,
   "id": "1d50166d",
   "metadata": {},
   "outputs": [
    {
     "data": {
      "text/plain": [
       "['e']"
      ]
     },
     "execution_count": 33,
     "metadata": {},
     "output_type": "execute_result"
    }
   ],
   "source": [
    "x[4:5:1]"
   ]
  },
  {
   "cell_type": "code",
   "execution_count": 34,
   "id": "7d2550f6",
   "metadata": {},
   "outputs": [
    {
     "ename": "IndexError",
     "evalue": "list index out of range",
     "output_type": "error",
     "traceback": [
      "\u001b[0;31m---------------------------------------------------------------------------\u001b[0m",
      "\u001b[0;31mIndexError\u001b[0m                                Traceback (most recent call last)",
      "Input \u001b[0;32mIn [34]\u001b[0m, in \u001b[0;36m<cell line: 1>\u001b[0;34m()\u001b[0m\n\u001b[0;32m----> 1\u001b[0m \u001b[43mx\u001b[49m\u001b[43m[\u001b[49m\u001b[38;5;241;43m10\u001b[39;49m\u001b[43m]\u001b[49m\n",
      "\u001b[0;31mIndexError\u001b[0m: list index out of range"
     ]
    }
   ],
   "source": [
    "x[10]"
   ]
  },
  {
   "cell_type": "code",
   "execution_count": 35,
   "id": "417ad307",
   "metadata": {},
   "outputs": [
    {
     "data": {
      "text/plain": [
       "['a', 'b', 'c', 'd', 'e']"
      ]
     },
     "execution_count": 35,
     "metadata": {},
     "output_type": "execute_result"
    }
   ],
   "source": [
    "x[0:10:1]"
   ]
  },
  {
   "cell_type": "markdown",
   "id": "b92ab74e",
   "metadata": {},
   "source": [
    "<img src=\"slicing.png\" alt=\"drawing\" width=\"400\"/>"
   ]
  },
  {
   "cell_type": "code",
   "execution_count": 36,
   "id": "8565172a",
   "metadata": {},
   "outputs": [
    {
     "data": {
      "text/plain": [
       "['b', 'c']"
      ]
     },
     "execution_count": 36,
     "metadata": {},
     "output_type": "execute_result"
    }
   ],
   "source": [
    "x[-4:3:1]"
   ]
  },
  {
   "cell_type": "markdown",
   "id": "fee0d139",
   "metadata": {},
   "source": [
    "<img src=\"slicing.png\" alt=\"drawing\" width=\"400\"/>"
   ]
  },
  {
   "cell_type": "code",
   "execution_count": 37,
   "id": "ee6a56f3",
   "metadata": {},
   "outputs": [
    {
     "data": {
      "text/plain": [
       "['e', 'd', 'c', 'b']"
      ]
     },
     "execution_count": 37,
     "metadata": {},
     "output_type": "execute_result"
    }
   ],
   "source": [
    "x[4:0:-1]"
   ]
  },
  {
   "cell_type": "code",
   "execution_count": 38,
   "id": "81624adf",
   "metadata": {},
   "outputs": [
    {
     "data": {
      "text/plain": [
       "[]"
      ]
     },
     "execution_count": 38,
     "metadata": {},
     "output_type": "execute_result"
    }
   ],
   "source": [
    "x[4:-1:-1]"
   ]
  },
  {
   "cell_type": "markdown",
   "id": "8c37ef95",
   "metadata": {},
   "source": [
    "<img src=\"slicing.png\" alt=\"drawing\" width=\"400\"/>"
   ]
  },
  {
   "cell_type": "code",
   "execution_count": 39,
   "id": "09dbb5b9",
   "metadata": {},
   "outputs": [
    {
     "data": {
      "text/plain": [
       "['e', 'c']"
      ]
     },
     "execution_count": 39,
     "metadata": {},
     "output_type": "execute_result"
    }
   ],
   "source": [
    "x[4:1:-2]"
   ]
  },
  {
   "cell_type": "code",
   "execution_count": 42,
   "id": "a98c83e1",
   "metadata": {},
   "outputs": [
    {
     "data": {
      "text/plain": [
       "['e', 'd', 'c', 'b', 'a']"
      ]
     },
     "execution_count": 42,
     "metadata": {},
     "output_type": "execute_result"
    }
   ],
   "source": [
    "x[::-1]"
   ]
  },
  {
   "cell_type": "code",
   "execution_count": 43,
   "id": "2f286d4f",
   "metadata": {},
   "outputs": [
    {
     "data": {
      "text/plain": [
       "['e']"
      ]
     },
     "execution_count": 43,
     "metadata": {},
     "output_type": "execute_result"
    }
   ],
   "source": [
    "x[::-5]"
   ]
  },
  {
   "cell_type": "markdown",
   "id": "7808275f",
   "metadata": {},
   "source": [
    "<img src=\"slicing.png\" alt=\"drawing\" width=\"400\"/>"
   ]
  },
  {
   "cell_type": "code",
   "execution_count": 46,
   "id": "49a4e613",
   "metadata": {},
   "outputs": [
    {
     "data": {
      "text/plain": [
       "['e', 'a']"
      ]
     },
     "execution_count": 46,
     "metadata": {},
     "output_type": "execute_result"
    }
   ],
   "source": [
    "x[::-4]"
   ]
  },
  {
   "cell_type": "code",
   "execution_count": 45,
   "id": "3057ee51",
   "metadata": {},
   "outputs": [
    {
     "data": {
      "text/plain": [
       "[]"
      ]
     },
     "execution_count": 45,
     "metadata": {},
     "output_type": "execute_result"
    }
   ],
   "source": [
    "x[4:4:1]"
   ]
  },
  {
   "cell_type": "markdown",
   "id": "9fd5eed7",
   "metadata": {},
   "source": [
    "<img src=\"slicing.png\" alt=\"drawing\" width=\"400\"/>"
   ]
  },
  {
   "cell_type": "code",
   "execution_count": 47,
   "id": "298f4470",
   "metadata": {},
   "outputs": [
    {
     "data": {
      "text/plain": [
       "['b', 'a']"
      ]
     },
     "execution_count": 47,
     "metadata": {},
     "output_type": "execute_result"
    }
   ],
   "source": [
    "x[1::-1]"
   ]
  },
  {
   "cell_type": "code",
   "execution_count": 48,
   "id": "356788a7",
   "metadata": {},
   "outputs": [
    {
     "data": {
      "text/plain": [
       "['e', 'd']"
      ]
     },
     "execution_count": 48,
     "metadata": {},
     "output_type": "execute_result"
    }
   ],
   "source": [
    "x[:-3:-1]"
   ]
  },
  {
   "cell_type": "markdown",
   "id": "359632b5",
   "metadata": {},
   "source": [
    "<img src=\"slicing.png\" alt=\"drawing\" width=\"400\"/>"
   ]
  },
  {
   "cell_type": "code",
   "execution_count": 49,
   "id": "5b9cce3b",
   "metadata": {},
   "outputs": [
    {
     "data": {
      "text/plain": [
       "['c', 'b', 'a']"
      ]
     },
     "execution_count": 49,
     "metadata": {},
     "output_type": "execute_result"
    }
   ],
   "source": [
    "x[-3::-1]"
   ]
  },
  {
   "cell_type": "code",
   "execution_count": 14,
   "id": "4034b8ca",
   "metadata": {},
   "outputs": [
    {
     "data": {
      "text/plain": [
       "['a', 'c', 'e']"
      ]
     },
     "execution_count": 14,
     "metadata": {},
     "output_type": "execute_result"
    }
   ],
   "source": [
    "s  = slice(None, None, 2)\n",
    "x[s]"
   ]
  },
  {
   "cell_type": "code",
   "execution_count": 17,
   "id": "42a96d4b",
   "metadata": {},
   "outputs": [
    {
     "data": {
      "text/plain": [
       "(None, None, 2)"
      ]
     },
     "execution_count": 17,
     "metadata": {},
     "output_type": "execute_result"
    }
   ],
   "source": [
    "s.start, s.stop, s.step"
   ]
  },
  {
   "cell_type": "code",
   "execution_count": 20,
   "id": "441eb1a0",
   "metadata": {},
   "outputs": [
    {
     "data": {
      "text/plain": [
       "['b', 'a']"
      ]
     },
     "execution_count": 20,
     "metadata": {},
     "output_type": "execute_result"
    }
   ],
   "source": [
    "#x[::-1]    # all items in the array, reversed\n",
    "#x[1::-1]   # the first two items, reversed\n",
    "#x[:-3:-1]  # the last two items, reversed\n",
    "#x[-3::-1]  # everything except the last two items, reversed"
   ]
  },
  {
   "cell_type": "markdown",
   "id": "cedfe8f5",
   "metadata": {},
   "source": [
    "References\n",
    "\n",
    "1. https://stackoverflow.com/questions/509211/understanding-slicing\n",
    "2. https://stackoverflow.com/questions/71654669/what-is-the-point-of-the-slice-indices-method\n",
    "3. https://stackoverflow.com/questions/59920270/how-to-read-slicing-with-negative-step/59920309#59920309"
   ]
  }
 ],
 "metadata": {
  "kernelspec": {
   "display_name": "Python 3 (ipykernel)",
   "language": "python",
   "name": "python3"
  },
  "language_info": {
   "codemirror_mode": {
    "name": "ipython",
    "version": 3
   },
   "file_extension": ".py",
   "mimetype": "text/x-python",
   "name": "python",
   "nbconvert_exporter": "python",
   "pygments_lexer": "ipython3",
   "version": "3.8.13"
  }
 },
 "nbformat": 4,
 "nbformat_minor": 5
}
