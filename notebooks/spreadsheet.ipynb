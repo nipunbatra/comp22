{
 "cells": [
  {
   "cell_type": "code",
   "execution_count": 146,
   "id": "9b124898",
   "metadata": {},
   "outputs": [],
   "source": [
    "class Record:\n",
    "    \n",
    "    def __init__(self, roll, name, marks):\n",
    "        self.roll = roll\n",
    "        self.name = name.capitalize()\n",
    "        self.marks = marks\n",
    "        \n",
    "        if marks > 90.0:\n",
    "            self.grade = \"A\"\n",
    "        else:\n",
    "            self.grade = \"B\"\n",
    "    \n",
    "    def __repr__(self):\n",
    "        return f\"|Roll: {self.roll:>5} | Name: {self.name:>10} | Marks: {self.marks:0.2f} | Grade: {self.grade:2} |\"\n",
    "    "
   ]
  },
  {
   "cell_type": "code",
   "execution_count": 147,
   "id": "810db7c1",
   "metadata": {},
   "outputs": [],
   "source": [
    "r1 = Record(1, \"Rahul\", 80.5)\n",
    "r2 = Record(2, \"Siya\", 92.1)\n",
    "r3 = Record(3, \"amrit\", 83.2)"
   ]
  },
  {
   "cell_type": "code",
   "execution_count": 148,
   "id": "d93d2848",
   "metadata": {},
   "outputs": [
    {
     "data": {
      "text/plain": [
       "|Roll:     1 | Name:      Rahul | Marks: 80.50 | Grade: B  |"
      ]
     },
     "execution_count": 148,
     "metadata": {},
     "output_type": "execute_result"
    }
   ],
   "source": [
    "r1"
   ]
  },
  {
   "cell_type": "code",
   "execution_count": 149,
   "id": "8f0a6c0a",
   "metadata": {},
   "outputs": [],
   "source": [
    "class Spreadhseet:\n",
    "    def __init__(self):\n",
    "        self.records = []\n",
    "    \n",
    "    def add_record(self, r):\n",
    "        assert type(r) == Record\n",
    "        self.records.append(r)\n",
    "    \n",
    "    def __repr__(self):\n",
    "        s = \"\"\n",
    "        for r in self.records:\n",
    "            s = s + r.__repr__() + \"\\n\" + \"-\"*60 + \"\\n\"\n",
    "        return s\n",
    "            "
   ]
  },
  {
   "cell_type": "code",
   "execution_count": 150,
   "id": "17670a6e",
   "metadata": {},
   "outputs": [],
   "source": [
    "s = Spreadhseet()"
   ]
  },
  {
   "cell_type": "code",
   "execution_count": 151,
   "id": "130342fb",
   "metadata": {},
   "outputs": [],
   "source": [
    "s.add_record(r1)\n",
    "s.add_record(r2)\n",
    "s.add_record(r3)\n"
   ]
  },
  {
   "cell_type": "code",
   "execution_count": 152,
   "id": "81722581",
   "metadata": {},
   "outputs": [
    {
     "data": {
      "text/plain": [
       "|Roll:     1 | Name:      Rahul | Marks: 80.50 | Grade: B  |\n",
       "------------------------------------------------------------\n",
       "|Roll:     2 | Name:       Siya | Marks: 92.10 | Grade: A  |\n",
       "------------------------------------------------------------\n",
       "|Roll:     3 | Name:      Amrit | Marks: 83.20 | Grade: B  |\n",
       "------------------------------------------------------------"
      ]
     },
     "execution_count": 152,
     "metadata": {},
     "output_type": "execute_result"
    }
   ],
   "source": [
    "s"
   ]
  },
  {
   "cell_type": "code",
   "execution_count": 135,
   "id": "cf4a6b67",
   "metadata": {},
   "outputs": [
    {
     "data": {
      "text/plain": [
       "'Amrit'"
      ]
     },
     "execution_count": 135,
     "metadata": {},
     "output_type": "execute_result"
    }
   ],
   "source": [
    "r3.name.capitalize()"
   ]
  },
  {
   "cell_type": "code",
   "execution_count": 136,
   "id": "19d17fea",
   "metadata": {},
   "outputs": [
    {
     "name": "stdout",
     "output_type": "stream",
     "text": [
      "Help on method raw_input in module ipykernel.kernelbase:\n",
      "\n",
      "raw_input(prompt='') method of ipykernel.ipkernel.IPythonKernel instance\n",
      "    Forward raw_input to frontends\n",
      "    \n",
      "    Raises\n",
      "    ------\n",
      "    StdinNotImplementedError if active frontend doesn't support stdin.\n",
      "\n"
     ]
    }
   ],
   "source": [
    "help(input)"
   ]
  },
  {
   "cell_type": "code",
   "execution_count": 138,
   "id": "a18854b6",
   "metadata": {},
   "outputs": [
    {
     "name": "stdout",
     "output_type": "stream",
     "text": [
      "Help on built-in function print in module builtins:\n",
      "\n",
      "print(...)\n",
      "    print(value, ..., sep=' ', end='\\n', file=sys.stdout, flush=False)\n",
      "    \n",
      "    Prints the values to a stream, or to sys.stdout by default.\n",
      "    Optional keyword arguments:\n",
      "    file:  a file-like object (stream); defaults to the current sys.stdout.\n",
      "    sep:   string inserted between values, default a space.\n",
      "    end:   string appended after the last value, default a newline.\n",
      "    flush: whether to forcibly flush the stream.\n",
      "\n"
     ]
    }
   ],
   "source": [
    "help(print)"
   ]
  },
  {
   "cell_type": "code",
   "execution_count": 153,
   "id": "76d8c8d7",
   "metadata": {},
   "outputs": [],
   "source": [
    "full_name = \"First Last\""
   ]
  },
  {
   "cell_type": "code",
   "execution_count": 154,
   "id": "91e034d9",
   "metadata": {},
   "outputs": [
    {
     "data": {
      "text/plain": [
       "['First', 'Last']"
      ]
     },
     "execution_count": 154,
     "metadata": {},
     "output_type": "execute_result"
    }
   ],
   "source": [
    "full_name.split(\" \")"
   ]
  },
  {
   "cell_type": "code",
   "execution_count": null,
   "id": "9bc7caf9",
   "metadata": {},
   "outputs": [],
   "source": []
  }
 ],
 "metadata": {
  "kernelspec": {
   "display_name": "Python 3 (ipykernel)",
   "language": "python",
   "name": "python3"
  },
  "language_info": {
   "codemirror_mode": {
    "name": "ipython",
    "version": 3
   },
   "file_extension": ".py",
   "mimetype": "text/x-python",
   "name": "python",
   "nbconvert_exporter": "python",
   "pygments_lexer": "ipython3",
   "version": "3.8.13"
  }
 },
 "nbformat": 4,
 "nbformat_minor": 5
}
