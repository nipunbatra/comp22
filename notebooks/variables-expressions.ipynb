{
 "cells": [
  {
   "cell_type": "markdown",
   "id": "3277f6d2",
   "metadata": {},
   "source": [
    "### Basic paradigm\n",
    "\n",
    "1. Take input from user\n",
    "2. Do some useful processing\n",
    "3. Give some output"
   ]
  },
  {
   "cell_type": "markdown",
   "id": "2d033eed",
   "metadata": {},
   "source": [
    "### Giving some output using the print function"
   ]
  },
  {
   "cell_type": "code",
   "execution_count": 1,
   "id": "f955cedf",
   "metadata": {},
   "outputs": [
    {
     "name": "stdout",
     "output_type": "stream",
     "text": [
      "This is something I want to be printed\n",
      "10\n",
      "10.5\n"
     ]
    }
   ],
   "source": [
    "print(\"This is something I want to be printed\")\n",
    "\n",
    "print(10)\n",
    "\n",
    "print(10.5)"
   ]
  },
  {
   "cell_type": "markdown",
   "id": "5d2b65f5",
   "metadata": {},
   "source": [
    "### Comments\n",
    "\n",
    "- Use `#` to comment a line\n",
    "- These lines do not execute"
   ]
  },
  {
   "cell_type": "markdown",
   "id": "7a09e64a",
   "metadata": {},
   "source": [
    "### Variables"
   ]
  },
  {
   "cell_type": "code",
   "execution_count": 2,
   "id": "71d78c33",
   "metadata": {},
   "outputs": [],
   "source": [
    "# Assign the value 10 to the variable whose name is x\n",
    "# 10 is an integer number\n",
    "x = 10\n",
    "\n",
    "# Assign the value 10.5 to the variable whose name is y\n",
    "# 10.5 is float number\n",
    "y = 10.5\n",
    "\n",
    "# Assign the value \"Rahul\" to the variable whose name is x\n",
    "name = \"Rahul\""
   ]
  },
  {
   "cell_type": "code",
   "execution_count": 3,
   "id": "f564f3f4",
   "metadata": {},
   "outputs": [
    {
     "name": "stdout",
     "output_type": "stream",
     "text": [
      "10\n"
     ]
    }
   ],
   "source": [
    "print(x)"
   ]
  },
  {
   "cell_type": "code",
   "execution_count": 4,
   "id": "204f33de",
   "metadata": {},
   "outputs": [
    {
     "name": "stdout",
     "output_type": "stream",
     "text": [
      "10\n"
     ]
    }
   ],
   "source": [
    "print(10)"
   ]
  },
  {
   "cell_type": "markdown",
   "id": "11f7a318",
   "metadata": {},
   "source": [
    "### What not to name your variables\n",
    "\n",
    "- Python keywords"
   ]
  },
  {
   "cell_type": "markdown",
   "id": "499832d5",
   "metadata": {},
   "source": [
    "```python\n",
    "\n",
    "Here is a list of the Python keywords.  Enter any keyword to get more help.\n",
    "\n",
    "False               class               from                or\n",
    "None                continue            global              pass\n",
    "True                def                 if                  raise\n",
    "and                 del                 import              return\n",
    "as                  elif                in                  try\n",
    "assert              else                is                  while\n",
    "async               except              lambda              with\n",
    "await               finally             nonlocal            yield\n",
    "break               for                 not                 \n",
    "\n",
    "help> \n",
    "```"
   ]
  },
  {
   "cell_type": "markdown",
   "id": "66718fd9",
   "metadata": {},
   "source": [
    "The following variables names will not work"
   ]
  },
  {
   "cell_type": "code",
   "execution_count": 1,
   "id": "406267c2",
   "metadata": {},
   "outputs": [
    {
     "ename": "SyntaxError",
     "evalue": "cannot assign to False (1429262388.py, line 1)",
     "output_type": "error",
     "traceback": [
      "\u001b[0;36m  Input \u001b[0;32mIn [1]\u001b[0;36m\u001b[0m\n\u001b[0;31m    False = 1\u001b[0m\n\u001b[0m    ^\u001b[0m\n\u001b[0;31mSyntaxError\u001b[0m\u001b[0;31m:\u001b[0m cannot assign to False\n"
     ]
    }
   ],
   "source": [
    "False = 1"
   ]
  },
  {
   "cell_type": "code",
   "execution_count": 2,
   "id": "c576c594",
   "metadata": {},
   "outputs": [
    {
     "ename": "SyntaxError",
     "evalue": "invalid syntax (997967751.py, line 1)",
     "output_type": "error",
     "traceback": [
      "\u001b[0;36m  Input \u001b[0;32mIn [2]\u001b[0;36m\u001b[0m\n\u001b[0;31m    for = \"alpha\"\u001b[0m\n\u001b[0m        ^\u001b[0m\n\u001b[0;31mSyntaxError\u001b[0m\u001b[0;31m:\u001b[0m invalid syntax\n"
     ]
    }
   ],
   "source": [
    "for = \"alpha\""
   ]
  },
  {
   "cell_type": "code",
   "execution_count": 3,
   "id": "92b6fede",
   "metadata": {},
   "outputs": [
    {
     "ename": "SyntaxError",
     "evalue": "invalid syntax (282590606.py, line 1)",
     "output_type": "error",
     "traceback": [
      "\u001b[0;36m  Input \u001b[0;32mIn [3]\u001b[0;36m\u001b[0m\n\u001b[0;31m    if = 10.5\u001b[0m\n\u001b[0m       ^\u001b[0m\n\u001b[0;31mSyntaxError\u001b[0m\u001b[0;31m:\u001b[0m invalid syntax\n"
     ]
    }
   ],
   "source": [
    "if = 10.5"
   ]
  },
  {
   "cell_type": "code",
   "execution_count": 4,
   "id": "6d5657c7",
   "metadata": {},
   "outputs": [
    {
     "ename": "SyntaxError",
     "evalue": "cannot assign to literal (690182220.py, line 1)",
     "output_type": "error",
     "traceback": [
      "\u001b[0;36m  Input \u001b[0;32mIn [4]\u001b[0;36m\u001b[0m\n\u001b[0;31m    1 = 2\u001b[0m\n\u001b[0m    ^\u001b[0m\n\u001b[0;31mSyntaxError\u001b[0m\u001b[0;31m:\u001b[0m cannot assign to literal\n"
     ]
    }
   ],
   "source": [
    "1 = 2"
   ]
  },
  {
   "cell_type": "code",
   "execution_count": 6,
   "id": "ff7eb844",
   "metadata": {},
   "outputs": [
    {
     "ename": "SyntaxError",
     "evalue": "invalid syntax (2079796758.py, line 1)",
     "output_type": "error",
     "traceback": [
      "\u001b[0;36m  Input \u001b[0;32mIn [6]\u001b[0;36m\u001b[0m\n\u001b[0;31m    1x = 2\u001b[0m\n\u001b[0m     ^\u001b[0m\n\u001b[0;31mSyntaxError\u001b[0m\u001b[0;31m:\u001b[0m invalid syntax\n"
     ]
    }
   ],
   "source": [
    "1x = 2"
   ]
  },
  {
   "cell_type": "markdown",
   "id": "6d2ae9a5",
   "metadata": {},
   "source": [
    "### The following will work"
   ]
  },
  {
   "cell_type": "code",
   "execution_count": 7,
   "id": "5ae39ddf",
   "metadata": {},
   "outputs": [],
   "source": [
    "x1 = 2"
   ]
  },
  {
   "cell_type": "code",
   "execution_count": 8,
   "id": "9e06d19c",
   "metadata": {},
   "outputs": [],
   "source": [
    "x_1 = 2"
   ]
  },
  {
   "cell_type": "code",
   "execution_count": 9,
   "id": "8bf65647",
   "metadata": {},
   "outputs": [
    {
     "name": "stdout",
     "output_type": "stream",
     "text": [
      "2\n"
     ]
    }
   ],
   "source": [
    "print(x1)"
   ]
  },
  {
   "cell_type": "code",
   "execution_count": 10,
   "id": "cf2e286f",
   "metadata": {},
   "outputs": [
    {
     "name": "stdout",
     "output_type": "stream",
     "text": [
      "2\n"
     ]
    }
   ],
   "source": [
    "print(x_1)"
   ]
  },
  {
   "cell_type": "markdown",
   "id": "511e57d6",
   "metadata": {},
   "source": [
    "### Case is important -- upper and lowercase are different variables"
   ]
  },
  {
   "cell_type": "code",
   "execution_count": 11,
   "id": "b9b46676",
   "metadata": {},
   "outputs": [],
   "source": [
    "X = 4\n",
    "x = 3"
   ]
  },
  {
   "cell_type": "markdown",
   "id": "c05945ed",
   "metadata": {},
   "source": [
    "### Use \"good\" names for variables"
   ]
  },
  {
   "cell_type": "code",
   "execution_count": 12,
   "id": "6f149656",
   "metadata": {},
   "outputs": [
    {
     "name": "stdout",
     "output_type": "stream",
     "text": [
      "11\n"
     ]
    }
   ],
   "source": [
    "# Important to use useful variable names\n",
    "first_number = 1\n",
    "second_number = 10\n",
    "\n",
    "print(first_number + second_number)"
   ]
  },
  {
   "cell_type": "markdown",
   "id": "f1adf5c3",
   "metadata": {},
   "source": [
    "### Types"
   ]
  },
  {
   "cell_type": "code",
   "execution_count": 13,
   "id": "2ac24a5f",
   "metadata": {},
   "outputs": [],
   "source": [
    "\n",
    "# Integers\n",
    "x = 10\n",
    "y = -10\n",
    "\n",
    "# Booleans\n",
    "a = True\n",
    "b = False\n",
    "\n",
    "# Float\n",
    "x = 10.5\n",
    "y = -10.34634767\n",
    "\n",
    "\n",
    "# Strings\n",
    "\n",
    "name = \"alpha\"\n",
    "second = \"beta\""
   ]
  },
  {
   "cell_type": "markdown",
   "id": "0612b778",
   "metadata": {},
   "source": [
    "### Functions"
   ]
  },
  {
   "cell_type": "code",
   "execution_count": null,
   "id": "764c80a1",
   "metadata": {},
   "outputs": [],
   "source": [
    "# f is the name of the function\n",
    "# x is the input\n",
    "# output is the sine of x\n",
    "# f(x) = sin(x)"
   ]
  },
  {
   "cell_type": "code",
   "execution_count": 15,
   "id": "375cd96b",
   "metadata": {},
   "outputs": [
    {
     "name": "stdout",
     "output_type": "stream",
     "text": [
      "<class 'int'>\n"
     ]
    }
   ],
   "source": [
    "### type function\n",
    "\n",
    "# type is the name of the function\n",
    "# 10 is the input\n",
    "# output is the data type of 10\n",
    "print(type(10))"
   ]
  },
  {
   "cell_type": "code",
   "execution_count": 20,
   "id": "99fb852b",
   "metadata": {},
   "outputs": [
    {
     "name": "stdout",
     "output_type": "stream",
     "text": [
      "<class 'int'>\n",
      "<class 'float'>\n",
      "<class 'str'>\n",
      "<class 'bool'>\n",
      "<class 'bool'>\n"
     ]
    }
   ],
   "source": [
    "print(type(10))\n",
    "\n",
    "print(type(10.5))\n",
    "\n",
    "print(type(\"Hello\"))\n",
    "\n",
    "print(type(False))\n",
    "\n",
    "print(type(True))"
   ]
  },
  {
   "cell_type": "code",
   "execution_count": 18,
   "id": "5335b89d",
   "metadata": {},
   "outputs": [
    {
     "name": "stdout",
     "output_type": "stream",
     "text": [
      "<class 'int'>\n"
     ]
    }
   ],
   "source": [
    "x = 10\n",
    "\n",
    "\n",
    "\"\"\"\n",
    "\n",
    "# First get the value of x\n",
    "\n",
    "print(type(10))\n",
    "\n",
    "# Next, find type(10)\n",
    "\n",
    "print(class int)\n",
    "\n",
    "# Finally print class int to the console\n",
    "\"\"\"\n",
    "\n",
    "print(type(x))\n"
   ]
  },
  {
   "cell_type": "markdown",
   "id": "d4e11f65",
   "metadata": {},
   "source": [
    "```\n",
    "Evalaute sin(cos(x)) at x = pi/2\n",
    "\n",
    "1. sin(cos(pi/2))\n",
    "2. sin(0)\n",
    "3. 0\n",
    "```"
   ]
  },
  {
   "cell_type": "code",
   "execution_count": 26,
   "id": "6aaca56f",
   "metadata": {},
   "outputs": [
    {
     "name": "stdout",
     "output_type": "stream",
     "text": [
      "<class 'int'>\n"
     ]
    }
   ],
   "source": [
    "# There is no limit to the size of an integer\n",
    "# Refer to: help> INTEGER\n",
    "\n",
    "print(type(1000000000000000000000000000000000000000000000000000000000))"
   ]
  },
  {
   "cell_type": "code",
   "execution_count": 27,
   "id": "0cd50aae",
   "metadata": {},
   "outputs": [],
   "source": [
    "complex_num = 3 + 0.5j"
   ]
  },
  {
   "cell_type": "code",
   "execution_count": 28,
   "id": "814de1e4",
   "metadata": {},
   "outputs": [
    {
     "data": {
      "text/plain": [
       "(3+0.5j)"
      ]
     },
     "execution_count": 28,
     "metadata": {},
     "output_type": "execute_result"
    }
   ],
   "source": [
    "complex_num"
   ]
  },
  {
   "cell_type": "code",
   "execution_count": 29,
   "id": "01ae8f7f",
   "metadata": {},
   "outputs": [
    {
     "data": {
      "text/plain": [
       "3.0"
      ]
     },
     "execution_count": 29,
     "metadata": {},
     "output_type": "execute_result"
    }
   ],
   "source": [
    "complex_num.real"
   ]
  },
  {
   "cell_type": "code",
   "execution_count": 30,
   "id": "48286e64",
   "metadata": {},
   "outputs": [
    {
     "data": {
      "text/plain": [
       "0.5"
      ]
     },
     "execution_count": 30,
     "metadata": {},
     "output_type": "execute_result"
    }
   ],
   "source": [
    "complex_num.imag"
   ]
  },
  {
   "cell_type": "markdown",
   "id": "1a0a7a64",
   "metadata": {},
   "source": [
    "### Type conversion"
   ]
  },
  {
   "cell_type": "code",
   "execution_count": 31,
   "id": "1aaef1b9",
   "metadata": {},
   "outputs": [
    {
     "name": "stdout",
     "output_type": "stream",
     "text": [
      "<class 'str'>\n"
     ]
    }
   ],
   "source": [
    "\n",
    "x = \"100\"\n",
    "print(type(x))"
   ]
  },
  {
   "cell_type": "code",
   "execution_count": 35,
   "id": "baadb050",
   "metadata": {},
   "outputs": [
    {
     "name": "stdout",
     "output_type": "stream",
     "text": [
      "100\n",
      "<class 'str'>\n",
      "--------------------\n",
      "100\n",
      "<class 'int'>\n"
     ]
    }
   ],
   "source": [
    "# We have a function\n",
    "# name: int\n",
    "# input to the function: 100\n",
    "# output from function: tries to convert the input to an integer\n",
    "\n",
    "x = \"100\"\n",
    "y = int(x)\n",
    "print(x)\n",
    "print(type(x))\n",
    "\n",
    "print(\"-\"*20)\n",
    "\n",
    "print(y)\n",
    "print(type(y))"
   ]
  },
  {
   "cell_type": "code",
   "execution_count": 36,
   "id": "d784b25b",
   "metadata": {},
   "outputs": [],
   "source": [
    "### int() may fail"
   ]
  },
  {
   "cell_type": "code",
   "execution_count": 37,
   "id": "3e85f0ad",
   "metadata": {},
   "outputs": [
    {
     "ename": "ValueError",
     "evalue": "invalid literal for int() with base 10: 'abc'",
     "output_type": "error",
     "traceback": [
      "\u001b[0;31m---------------------------------------------------------------------------\u001b[0m",
      "\u001b[0;31mValueError\u001b[0m                                Traceback (most recent call last)",
      "Input \u001b[0;32mIn [37]\u001b[0m, in \u001b[0;36m<cell line: 1>\u001b[0;34m()\u001b[0m\n\u001b[0;32m----> 1\u001b[0m \u001b[38;5;28;43mint\u001b[39;49m\u001b[43m(\u001b[49m\u001b[38;5;124;43m\"\u001b[39;49m\u001b[38;5;124;43mabc\u001b[39;49m\u001b[38;5;124;43m\"\u001b[39;49m\u001b[43m)\u001b[49m\n",
      "\u001b[0;31mValueError\u001b[0m: invalid literal for int() with base 10: 'abc'"
     ]
    }
   ],
   "source": [
    "int(\"abc\")"
   ]
  },
  {
   "cell_type": "code",
   "execution_count": 38,
   "id": "df714e82",
   "metadata": {},
   "outputs": [
    {
     "name": "stdout",
     "output_type": "stream",
     "text": [
      "<class 'float'>\n"
     ]
    }
   ],
   "source": [
    "z = float(\"10.56\")\n",
    "print(type(z))"
   ]
  },
  {
   "cell_type": "code",
   "execution_count": 39,
   "id": "288f4bf6",
   "metadata": {},
   "outputs": [
    {
     "name": "stdout",
     "output_type": "stream",
     "text": [
      "10.56\n"
     ]
    }
   ],
   "source": [
    "print(z)"
   ]
  },
  {
   "cell_type": "code",
   "execution_count": 40,
   "id": "ac3429dc",
   "metadata": {},
   "outputs": [
    {
     "name": "stdout",
     "output_type": "stream",
     "text": [
      "0\n"
     ]
    }
   ],
   "source": [
    "y = int()\n",
    "print(y)"
   ]
  },
  {
   "cell_type": "code",
   "execution_count": 44,
   "id": "ae987fbb",
   "metadata": {},
   "outputs": [
    {
     "data": {
      "text/plain": [
       "10"
      ]
     },
     "execution_count": 44,
     "metadata": {},
     "output_type": "execute_result"
    }
   ],
   "source": [
    "int(float(\"10.61\"))"
   ]
  },
  {
   "cell_type": "code",
   "execution_count": 46,
   "id": "0d410976",
   "metadata": {},
   "outputs": [
    {
     "data": {
      "text/plain": [
       "10"
      ]
     },
     "execution_count": 46,
     "metadata": {},
     "output_type": "execute_result"
    }
   ],
   "source": [
    "int(float(\"10.61\"))"
   ]
  },
  {
   "cell_type": "code",
   "execution_count": 47,
   "id": "70982b92",
   "metadata": {},
   "outputs": [
    {
     "data": {
      "text/plain": [
       "10"
      ]
     },
     "execution_count": 47,
     "metadata": {},
     "output_type": "execute_result"
    }
   ],
   "source": [
    "int(float(\"10.61\"))"
   ]
  },
  {
   "cell_type": "code",
   "execution_count": 49,
   "id": "03e173ee",
   "metadata": {},
   "outputs": [
    {
     "name": "stdout",
     "output_type": "stream",
     "text": [
      "<class 'str'>\n"
     ]
    }
   ],
   "source": [
    "a = 10\n",
    "b = str(a)\n",
    "print(type(b))"
   ]
  },
  {
   "cell_type": "markdown",
   "id": "301b50bd",
   "metadata": {},
   "source": [
    "### Finding number of digits in a number"
   ]
  },
  {
   "cell_type": "code",
   "execution_count": 54,
   "id": "8f67c4ed",
   "metadata": {},
   "outputs": [],
   "source": [
    "x = 12373626527645726457264527634\n",
    "y = str(x)"
   ]
  },
  {
   "cell_type": "code",
   "execution_count": 55,
   "id": "f36ad19c",
   "metadata": {},
   "outputs": [
    {
     "name": "stdout",
     "output_type": "stream",
     "text": [
      "12373626527645726457264527634\n"
     ]
    }
   ],
   "source": [
    "print(y)"
   ]
  },
  {
   "cell_type": "code",
   "execution_count": 56,
   "id": "942b82d3",
   "metadata": {},
   "outputs": [
    {
     "name": "stdout",
     "output_type": "stream",
     "text": [
      "5\n"
     ]
    }
   ],
   "source": [
    "e = \"Hello\"\n",
    "print(len(e))"
   ]
  },
  {
   "cell_type": "code",
   "execution_count": 57,
   "id": "810b73f9",
   "metadata": {},
   "outputs": [
    {
     "name": "stdout",
     "output_type": "stream",
     "text": [
      "29\n"
     ]
    }
   ],
   "source": [
    "print(len(y))"
   ]
  },
  {
   "cell_type": "code",
   "execution_count": 58,
   "id": "a4fe0004",
   "metadata": {},
   "outputs": [
    {
     "ename": "TypeError",
     "evalue": "object of type 'int' has no len()",
     "output_type": "error",
     "traceback": [
      "\u001b[0;31m---------------------------------------------------------------------------\u001b[0m",
      "\u001b[0;31mTypeError\u001b[0m                                 Traceback (most recent call last)",
      "Input \u001b[0;32mIn [58]\u001b[0m, in \u001b[0;36m<cell line: 1>\u001b[0;34m()\u001b[0m\n\u001b[0;32m----> 1\u001b[0m \u001b[38;5;28;43mlen\u001b[39;49m\u001b[43m(\u001b[49m\u001b[38;5;241;43m10\u001b[39;49m\u001b[43m)\u001b[49m\n",
      "\u001b[0;31mTypeError\u001b[0m: object of type 'int' has no len()"
     ]
    }
   ],
   "source": [
    "len(10)"
   ]
  },
  {
   "cell_type": "code",
   "execution_count": 59,
   "id": "9d7d0a08",
   "metadata": {},
   "outputs": [],
   "source": [
    "val = 10.56"
   ]
  },
  {
   "cell_type": "code",
   "execution_count": 60,
   "id": "59edf852",
   "metadata": {},
   "outputs": [],
   "source": [
    "str_val = str(val)"
   ]
  },
  {
   "cell_type": "code",
   "execution_count": 61,
   "id": "74739b6f",
   "metadata": {},
   "outputs": [
    {
     "name": "stdout",
     "output_type": "stream",
     "text": [
      "10.56\n"
     ]
    }
   ],
   "source": [
    "print(str_val)"
   ]
  },
  {
   "cell_type": "code",
   "execution_count": 62,
   "id": "f68dbdde",
   "metadata": {},
   "outputs": [
    {
     "name": "stdout",
     "output_type": "stream",
     "text": [
      "5\n"
     ]
    }
   ],
   "source": [
    "print(len(str_val))"
   ]
  },
  {
   "cell_type": "code",
   "execution_count": 64,
   "id": "5e658a4d",
   "metadata": {},
   "outputs": [
    {
     "ename": "AttributeError",
     "evalue": "'str' object has no attribute 'len'",
     "output_type": "error",
     "traceback": [
      "\u001b[0;31m---------------------------------------------------------------------------\u001b[0m",
      "\u001b[0;31mAttributeError\u001b[0m                            Traceback (most recent call last)",
      "Input \u001b[0;32mIn [64]\u001b[0m, in \u001b[0;36m<cell line: 1>\u001b[0;34m()\u001b[0m\n\u001b[0;32m----> 1\u001b[0m \u001b[43mstr_val\u001b[49m\u001b[38;5;241;43m.\u001b[39;49m\u001b[43mlen\u001b[49m()\n",
      "\u001b[0;31mAttributeError\u001b[0m: 'str' object has no attribute 'len'"
     ]
    }
   ],
   "source": [
    "len(str_val)"
   ]
  },
  {
   "cell_type": "markdown",
   "id": "7d625777",
   "metadata": {},
   "source": [
    "### Mathematical Operations"
   ]
  },
  {
   "cell_type": "code",
   "execution_count": 65,
   "id": "e4f9ee08",
   "metadata": {},
   "outputs": [
    {
     "name": "stdout",
     "output_type": "stream",
     "text": [
      "5\n"
     ]
    }
   ],
   "source": [
    "x = 10\n",
    "y = 5\n",
    "\n",
    "z = x - y\n",
    "print(z)"
   ]
  },
  {
   "cell_type": "code",
   "execution_count": 66,
   "id": "d04073b4",
   "metadata": {},
   "outputs": [
    {
     "name": "stdout",
     "output_type": "stream",
     "text": [
      "32\n"
     ]
    }
   ],
   "source": [
    "x = 2\n",
    "y = 5\n",
    "\n",
    "z = x ** y # x raised to the power y\n",
    "print(z)"
   ]
  },
  {
   "cell_type": "code",
   "execution_count": 67,
   "id": "8377f300",
   "metadata": {},
   "outputs": [
    {
     "name": "stdout",
     "output_type": "stream",
     "text": [
      "0.4\n"
     ]
    }
   ],
   "source": [
    "x = 2\n",
    "y = 5\n",
    "\n",
    "z = x / y # x divided y\n",
    "print(z)"
   ]
  },
  {
   "cell_type": "code",
   "execution_count": 70,
   "id": "d9908d68",
   "metadata": {},
   "outputs": [
    {
     "name": "stdout",
     "output_type": "stream",
     "text": [
      "0\n",
      "2\n"
     ]
    }
   ],
   "source": [
    "x = 2\n",
    "y = 5\n",
    "\n",
    "z = x // y # x divided y (floor)\n",
    "remainder = x%y\n",
    "print(z)\n",
    "print(remainder)"
   ]
  },
  {
   "cell_type": "code",
   "execution_count": 71,
   "id": "65ca96e1",
   "metadata": {},
   "outputs": [],
   "source": [
    "### 2 = 5 * 0 + 2"
   ]
  },
  {
   "cell_type": "markdown",
   "id": "7d31e302",
   "metadata": {},
   "source": [
    "### Modulus operator"
   ]
  },
  {
   "cell_type": "code",
   "execution_count": 74,
   "id": "37315051",
   "metadata": {},
   "outputs": [
    {
     "name": "stdout",
     "output_type": "stream",
     "text": [
      "1\n",
      "0\n",
      "1\n"
     ]
    }
   ],
   "source": [
    "print(1 % 2)\n",
    "\n",
    "# 1 = 2 * 0 (integer) + 1 (remainder)\n",
    "\n",
    "print(2 % 2)\n",
    "# 2 = 2 * 1 (integer) + 0 (remainder)\n",
    "\n",
    "print(3 % 2)\n",
    "# 3 = 2 * 1 (integer) + 1 (remainder)\n",
    "\n",
    "\n",
    "print(x % y)\n",
    "# x = y * b + remainder"
   ]
  },
  {
   "cell_type": "markdown",
   "id": "b23a88ed",
   "metadata": {},
   "source": [
    "### Operator Precedence\n",
    "\n",
    "Can figure by invoking `help` and then writing OPERATORS\n",
    "\n",
    "```python\n",
    "help>OPERATORS\n",
    "\n",
    "Operator precedence\n",
    "*******************\n",
    "\n",
    "The following table summarizes the operator precedence in Python, from\n",
    "lowest precedence (least binding) to highest precedence (most\n",
    "binding).  Operators in the same box have the same precedence.  Unless\n",
    "the syntax is explicitly given, operators are binary.  Operators in\n",
    "the same box group left to right (except for exponentiation, which\n",
    "groups from right to left).\n",
    "\n",
    "...\n",
    "```"
   ]
  },
  {
   "cell_type": "code",
   "execution_count": 75,
   "id": "5f082b6f",
   "metadata": {},
   "outputs": [],
   "source": [
    "\n",
    "x = 1+2**3/4*5\n",
    "\n",
    "# Operators we have are:\n",
    "# +\n",
    "# **\n",
    "# /\n",
    "# *\n",
    "\n",
    "# In decreasing precedence we have\n",
    "# **\n",
    "# / *\n",
    "# +\n",
    "\n",
    "x = 1+(2**3)/4*5\n",
    "x = 1+8/4*5\n",
    "\n",
    "# Option 1\n",
    "# x = 1+(8/4)*5\n",
    "\n",
    "# option 2\n",
    "# x = 1+8/(4*5)\n",
    "\n",
    "# since we have left to right precedence\n",
    "\n",
    "x = 1+(8/4)*5\n",
    "x = 1+2*5\n",
    "\n",
    "x = 1+(2*5)\n",
    "x = 1 + 10\n",
    "x = 11"
   ]
  },
  {
   "cell_type": "code",
   "execution_count": 76,
   "id": "3f83eae1",
   "metadata": {},
   "outputs": [
    {
     "name": "stdout",
     "output_type": "stream",
     "text": [
      "11.0\n"
     ]
    }
   ],
   "source": [
    "x = 1+2**3/4*5\n",
    "print(x)\n"
   ]
  },
  {
   "cell_type": "code",
   "execution_count": 77,
   "id": "05c28cd0",
   "metadata": {},
   "outputs": [],
   "source": [
    "# Ideal way\n",
    "\n",
    "x = 1 + ((2**3)/4)*5"
   ]
  },
  {
   "cell_type": "code",
   "execution_count": 78,
   "id": "3c06486f",
   "metadata": {},
   "outputs": [
    {
     "name": "stdout",
     "output_type": "stream",
     "text": [
      "5.5\n"
     ]
    }
   ],
   "source": [
    "x = 11/2\n",
    "print(x)"
   ]
  },
  {
   "cell_type": "code",
   "execution_count": 79,
   "id": "8954961e",
   "metadata": {},
   "outputs": [
    {
     "name": "stdout",
     "output_type": "stream",
     "text": [
      "5\n"
     ]
    }
   ],
   "source": [
    "x = 11//2\n",
    "\n",
    "print(x)"
   ]
  }
 ],
 "metadata": {
  "kernelspec": {
   "display_name": "Python 3 (ipykernel)",
   "language": "python",
   "name": "python3"
  },
  "language_info": {
   "codemirror_mode": {
    "name": "ipython",
    "version": 3
   },
   "file_extension": ".py",
   "mimetype": "text/x-python",
   "name": "python",
   "nbconvert_exporter": "python",
   "pygments_lexer": "ipython3",
   "version": "3.8.13"
  }
 },
 "nbformat": 4,
 "nbformat_minor": 5
}
