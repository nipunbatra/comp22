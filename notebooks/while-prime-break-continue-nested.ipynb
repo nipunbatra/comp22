{
 "cells": [
  {
   "cell_type": "markdown",
   "id": "724da015",
   "metadata": {},
   "source": [
    "### Revision"
   ]
  },
  {
   "cell_type": "markdown",
   "id": "6d211314",
   "metadata": {},
   "source": [
    "```\n",
    "Initialise looping variable\n",
    "\n",
    "while condition (on looping variable):\n",
    "    Do something\n",
    "    change looping variable\n",
    "    Do something\n",
    "```"
   ]
  },
  {
   "cell_type": "code",
   "execution_count": null,
   "id": "fde756a3",
   "metadata": {},
   "outputs": [],
   "source": [
    "n = 5\n",
    "\n",
    "num = 1\n",
    "while num <= n:\n",
    "    print(num)\n",
    "    num = num + 1\n",
    "print(\"Done with while\")"
   ]
  },
  {
   "cell_type": "code",
   "execution_count": null,
   "id": "c3e7de13",
   "metadata": {},
   "outputs": [],
   "source": [
    "### Prime numbers\n",
    "\n",
    "# check if n is prime or not\n",
    "n = 10\n",
    "assert type(n)==int, f\"number {n} is not an int\"\n",
    "assert n > 0, \"negative integers not allowed\"\n"
   ]
  },
  {
   "cell_type": "markdown",
   "id": "cd72fd9a",
   "metadata": {},
   "source": [
    "### Let us look at some numbers\n",
    "\n",
    "4 -- Not prime/Composite\n",
    "\n",
    "4 = 4 X 1\n",
    "4 = 2 X 2\n",
    "\n",
    "\n",
    "91 -- Composite\n",
    "\n",
    "91 = 7 X 13\n",
    "91 = 13 X 7\n",
    "\n",
    "19 -- prime\n",
    "\n",
    "19 = 1 X 19\n",
    "19 = 19 X 1\n",
    "\n"
   ]
  },
  {
   "cell_type": "code",
   "execution_count": null,
   "id": "ba92262f",
   "metadata": {},
   "outputs": [],
   "source": [
    "### not of boolean\n",
    "\n",
    "print(not True)\n",
    "print(not False)"
   ]
  },
  {
   "cell_type": "code",
   "execution_count": null,
   "id": "e8a08e2c",
   "metadata": {},
   "outputs": [],
   "source": [
    "%%timeit\n",
    "num = 197\n",
    "\n",
    "i = 2\n",
    "\n",
    "factor_found = False\n",
    "while i < num:\n",
    "    if num%i == 0:\n",
    "        factor_found = True\n",
    "    i = i + 1\n",
    "    \n",
    "#print(not factor_found)"
   ]
  },
  {
   "cell_type": "code",
   "execution_count": null,
   "id": "96d2cc13",
   "metadata": {},
   "outputs": [],
   "source": [
    "factor_found = False\n",
    "print(factor_found != True)\n",
    "print(not factor_found)"
   ]
  },
  {
   "cell_type": "code",
   "execution_count": null,
   "id": "7b2a8ca9",
   "metadata": {},
   "outputs": [],
   "source": [
    "%%timeit\n",
    "num = 197\n",
    "\n",
    "i = 2\n",
    "\n",
    "factor_found = False\n",
    "while i < num and factor_found!=True: # and not factor_found\n",
    "    if num%i == 0:\n",
    "        factor_found = True\n",
    "    i = i + 1\n",
    "#print(not factor_found)"
   ]
  },
  {
   "cell_type": "code",
   "execution_count": null,
   "id": "71a4cc6d",
   "metadata": {},
   "outputs": [],
   "source": [
    "import math"
   ]
  },
  {
   "cell_type": "code",
   "execution_count": null,
   "id": "d8602269",
   "metadata": {},
   "outputs": [],
   "source": [
    "math.ceil(0.99)"
   ]
  },
  {
   "cell_type": "code",
   "execution_count": null,
   "id": "2a7184cd",
   "metadata": {},
   "outputs": [],
   "source": [
    "Go till num/2"
   ]
  },
  {
   "cell_type": "code",
   "execution_count": null,
   "id": "9ac9991a",
   "metadata": {},
   "outputs": [],
   "source": [
    "%%timeit\n",
    "num = 197\n",
    "\n",
    "num_by_2_ceil  = math.ceil(num/2)\n",
    "\n",
    "i = 2\n",
    "\n",
    "factor_found = False\n",
    "while i < num_by_2_ceil and factor_found!=True: # and not factor_found\n",
    "    if num%i == 0:\n",
    "        factor_found = True\n",
    "    i = i + 1\n",
    "#print(not factor_found)"
   ]
  },
  {
   "cell_type": "code",
   "execution_count": null,
   "id": "50da9d07",
   "metadata": {},
   "outputs": [],
   "source": [
    "Go till sqrt(n)"
   ]
  },
  {
   "cell_type": "code",
   "execution_count": null,
   "id": "ed75beb4",
   "metadata": {},
   "outputs": [],
   "source": [
    "num = 37\n",
    "math.ceil(math.sqrt(num))+1"
   ]
  },
  {
   "cell_type": "code",
   "execution_count": null,
   "id": "f961fd89",
   "metadata": {},
   "outputs": [],
   "source": [
    "%%timeit\n",
    "num = 197\n",
    "\n",
    "sqrt_num_ceil_plus_1  = math.ceil(math.sqrt(num)) + 1\n",
    "\n",
    "i = 2\n",
    "\n",
    "factor_found = False\n",
    "\n",
    "\n",
    "while i < sqrt_num_ceil_plus_1 and factor_found!=True: # and not factor_found\n",
    "    if num%i == 0:\n",
    "        factor_found = True\n",
    "    i = i + 1\n",
    "#print(not factor_found)"
   ]
  },
  {
   "cell_type": "code",
   "execution_count": null,
   "id": "4f02b302",
   "metadata": {},
   "outputs": [],
   "source": [
    "# Separately deal with even numbers, increment i by 2"
   ]
  },
  {
   "cell_type": "code",
   "execution_count": null,
   "id": "319343c4",
   "metadata": {},
   "outputs": [],
   "source": [
    "%%timeit\n",
    "num = 197\n",
    "\n",
    "sqrt_num_ceil_plus_1  = math.ceil(math.sqrt(num)) + 1\n",
    "\n",
    "i = 3\n",
    "\n",
    "factor_found = False\n",
    "if num%2 == 0:\n",
    "    factor_found = True\n",
    "else:\n",
    "    while i < sqrt_num_ceil_plus_1 and factor_found!=True: # and not factor_found\n",
    "        if num%i == 0:\n",
    "            factor_found = True\n",
    "        i = i + 2\n",
    "#print(not factor_found)"
   ]
  },
  {
   "cell_type": "code",
   "execution_count": null,
   "id": "700ba626",
   "metadata": {},
   "outputs": [],
   "source": [
    "11*1000/585"
   ]
  },
  {
   "cell_type": "code",
   "execution_count": null,
   "id": "0fe7d45f",
   "metadata": {},
   "outputs": [],
   "source": [
    "%%timeit\n",
    "num = 197\n",
    "\n",
    "sqrt_num_ceil_plus_1  = math.ceil(math.sqrt(num)) + 1\n",
    "\n",
    "i = 3\n",
    "\n",
    "factor_found = False\n",
    "if num%2 == 0:\n",
    "    factor_found = True\n",
    "else:\n",
    "    while i < sqrt_num_ceil_plus_1: # and not factor_found\n",
    "        if num%i == 0:\n",
    "            factor_found = True\n",
    "            break\n",
    "        i = i + 2\n",
    "#print(not factor_found)"
   ]
  },
  {
   "cell_type": "code",
   "execution_count": null,
   "id": "bf1f573d",
   "metadata": {},
   "outputs": [],
   "source": [
    "11*1000/471"
   ]
  },
  {
   "cell_type": "markdown",
   "id": "a79e4a60",
   "metadata": {},
   "source": [
    "### Continue\n",
    "\n",
    "\n",
    "\n"
   ]
  },
  {
   "cell_type": "code",
   "execution_count": null,
   "id": "42bfe038",
   "metadata": {},
   "outputs": [],
   "source": [
    "n = 10\n",
    "i = 1\n",
    "\n",
    "s = 0\n",
    "\n",
    "while i <=n:\n",
    "    if i%2==0:\n",
    "        i = i + 1\n",
    "        #Num is even\n",
    "        continue\n",
    "    s = s + i # add odd number to s\n",
    "    i = i +1 # increment i by 1\n",
    "print(s)"
   ]
  },
  {
   "cell_type": "markdown",
   "id": "07c2c6ed",
   "metadata": {},
   "source": [
    "Write a program that prints > at the start of each line. \n",
    "\n",
    "It then waits for the user's input. If the user's input starts with #, then it ignores and asks user to enter another line. \n",
    "\n",
    "If the user's input is done, the program exits.\n",
    "\n",
    "Otherwise, the program prints whatever the user enters.\n",
    "\n",
    "```\n",
    "> hello there\n",
    "hello there\n",
    "> # don't print this\n",
    "> print this!\n",
    "print this!\n",
    "> done\n",
    "Done!\n",
    "```"
   ]
  },
  {
   "cell_type": "code",
   "execution_count": null,
   "id": "e0f07da8",
   "metadata": {},
   "outputs": [],
   "source": [
    "a = \"hello\"\n",
    "a.startswith(\"e\")"
   ]
  },
  {
   "cell_type": "code",
   "execution_count": null,
   "id": "3cc1ef0c",
   "metadata": {},
   "outputs": [],
   "source": [
    "while True:\n",
    "    print(\">\", end=\"\")\n",
    "    inp = input()\n",
    "    \n",
    "    if inp.startswith(\"#\"):\n",
    "        # Ask for another input\n",
    "        continue\n",
    "    elif inp == \"done\":\n",
    "        # Do not ask for another input\n",
    "        print(\"Done!\")\n",
    "        break\n",
    "    else:\n",
    "        # Input is something else\n",
    "        print(inp)\n",
    "        # Ask user for an input"
   ]
  },
  {
   "cell_type": "markdown",
   "id": "734fc784",
   "metadata": {},
   "source": [
    "### Nested loops\n",
    "\n",
    "Write a program to print the following\n",
    "```\n",
    "1*1= 1 1*2= 2 1*3= 3 1*4= 4 1*5= 5 \n",
    "2*1= 2 2*2= 4 2*3= 6 2*4= 8 2*5= 10 \n",
    "3*1= 3 3*2= 6 3*3= 9 3*4= 12 3*5= 15 \n",
    "4*1= 4 4*2= 8 4*3= 12 4*4= 16 4*5= 20 \n",
    "5*1= 5 5*2= 10 5*3= 15 5*4= 20 5*5= 25 \n",
    "```"
   ]
  },
  {
   "cell_type": "code",
   "execution_count": null,
   "id": "18acb6a2",
   "metadata": {},
   "outputs": [],
   "source": [
    "row = 1\n",
    "column = 1\n",
    "\n",
    "while column <=5:\n",
    "    print(row, \"*\", column,  \"= \", row*column, sep = \"\", end= \" \")\n",
    "    column = column + 1\n",
    "\n",
    "print()\n",
    "row = 2\n",
    "column = 1\n",
    "\n",
    "while column <=5:\n",
    "    print(row, \"*\", column,  \"= \", row*column, sep = \"\", end= \" \")\n",
    "    column = column + 1"
   ]
  },
  {
   "cell_type": "code",
   "execution_count": 6,
   "id": "074bd160",
   "metadata": {},
   "outputs": [
    {
     "name": "stdout",
     "output_type": "stream",
     "text": [
      "1*1= 1 1*2= 2 1*3= 3 1*4= 4 1*5= 5 \n",
      "2*1= 2 2*2= 4 2*3= 6 2*4= 8 2*5= 10 \n",
      "3*1= 3 3*2= 6 3*3= 9 3*4= 12 3*5= 15 \n",
      "4*1= 4 4*2= 8 4*3= 12 4*4= 16 4*5= 20 \n",
      "5*1= 5 5*2= 10 5*3= 15 5*4= 20 5*5= 25 \n"
     ]
    }
   ],
   "source": [
    "row = 1\n",
    "while row <=5:\n",
    "    column = 1\n",
    "\n",
    "    while column <=5:\n",
    "        print(row, \"*\", column,  \"= \", row*column, sep = \"\", end= \" \")\n",
    "        column = column + 1\n",
    "    print()\n",
    "    row = row + 1"
   ]
  },
  {
   "cell_type": "code",
   "execution_count": null,
   "id": "ab25908d",
   "metadata": {},
   "outputs": [],
   "source": [
    "while row <=5 and col<=5:\n",
    "    "
   ]
  }
 ],
 "metadata": {
  "kernelspec": {
   "display_name": "Python 3 (ipykernel)",
   "language": "python",
   "name": "python3"
  },
  "language_info": {
   "codemirror_mode": {
    "name": "ipython",
    "version": 3
   },
   "file_extension": ".py",
   "mimetype": "text/x-python",
   "name": "python",
   "nbconvert_exporter": "python",
   "pygments_lexer": "ipython3",
   "version": "3.8.13"
  }
 },
 "nbformat": 4,
 "nbformat_minor": 5
}
