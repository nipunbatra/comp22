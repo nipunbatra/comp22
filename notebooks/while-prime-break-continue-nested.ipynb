{
 "cells": [
  {
   "cell_type": "markdown",
   "id": "724da015",
   "metadata": {},
   "source": [
    "### Revision"
   ]
  },
  {
   "cell_type": "markdown",
   "id": "6d211314",
   "metadata": {},
   "source": [
    "```\n",
    "Initialise looping variable\n",
    "\n",
    "while condition (on looping variable):\n",
    "    Do something\n",
    "    change looping variable\n",
    "    Do something\n",
    "```"
   ]
  },
  {
   "cell_type": "code",
   "execution_count": 1,
   "id": "fde756a3",
   "metadata": {},
   "outputs": [
    {
     "name": "stdout",
     "output_type": "stream",
     "text": [
      "1\n",
      "2\n",
      "3\n",
      "4\n",
      "5\n",
      "Done with while\n"
     ]
    }
   ],
   "source": [
    "n = 5\n",
    "\n",
    "num = 1\n",
    "while num <= n:\n",
    "    print(num)\n",
    "    num = num + 1\n",
    "print(\"Done with while\")"
   ]
  },
  {
   "cell_type": "code",
   "execution_count": 10,
   "id": "c3e7de13",
   "metadata": {},
   "outputs": [],
   "source": [
    "### Prime numbers\n",
    "\n",
    "# check if n is prime or not\n",
    "n = 10\n",
    "assert type(n)==int, f\"number {n} is not an int\"\n",
    "assert n > 0, \"negative integers not allowed\"\n"
   ]
  },
  {
   "cell_type": "markdown",
   "id": "cd72fd9a",
   "metadata": {},
   "source": [
    "### Let us look at some numbers\n",
    "\n",
    "4 -- Not prime/Composite\n",
    "\n",
    "4 = 4 X 1\n",
    "4 = 2 X 2\n",
    "\n",
    "\n",
    "91 -- Composite\n",
    "\n",
    "91 = 7 X 13\n",
    "91 = 13 X 7\n",
    "\n",
    "19 -- prime\n",
    "\n",
    "19 = 1 X 19\n",
    "19 = 19 X 1\n",
    "\n"
   ]
  },
  {
   "cell_type": "code",
   "execution_count": 12,
   "id": "ba92262f",
   "metadata": {},
   "outputs": [
    {
     "name": "stdout",
     "output_type": "stream",
     "text": [
      "False\n",
      "True\n"
     ]
    }
   ],
   "source": [
    "### not of boolean\n",
    "\n",
    "print(not True)\n",
    "print(not False)"
   ]
  },
  {
   "cell_type": "code",
   "execution_count": 49,
   "id": "e8a08e2c",
   "metadata": {},
   "outputs": [
    {
     "name": "stdout",
     "output_type": "stream",
     "text": [
      "8.45 µs ± 48.5 ns per loop (mean ± std. dev. of 7 runs, 100,000 loops each)\n"
     ]
    }
   ],
   "source": [
    "%%timeit\n",
    "num = 197\n",
    "\n",
    "i = 2\n",
    "\n",
    "factor_found = False\n",
    "while i < num:\n",
    "    if num%i == 0:\n",
    "        factor_found = True\n",
    "    i = i + 1\n",
    "    \n",
    "#print(not factor_found)"
   ]
  },
  {
   "cell_type": "code",
   "execution_count": 29,
   "id": "96d2cc13",
   "metadata": {},
   "outputs": [
    {
     "name": "stdout",
     "output_type": "stream",
     "text": [
      "True\n",
      "True\n"
     ]
    }
   ],
   "source": [
    "factor_found = False\n",
    "print(factor_found != True)\n",
    "print(not factor_found)"
   ]
  },
  {
   "cell_type": "code",
   "execution_count": 50,
   "id": "7b2a8ca9",
   "metadata": {},
   "outputs": [
    {
     "name": "stdout",
     "output_type": "stream",
     "text": [
      "11.5 µs ± 59.8 ns per loop (mean ± std. dev. of 7 runs, 100,000 loops each)\n"
     ]
    }
   ],
   "source": [
    "%%timeit\n",
    "num = 197\n",
    "\n",
    "i = 2\n",
    "\n",
    "factor_found = False\n",
    "while i < num and factor_found!=True: # and not factor_found\n",
    "    if num%i == 0:\n",
    "        factor_found = True\n",
    "    i = i + 1\n",
    "#print(not factor_found)"
   ]
  },
  {
   "cell_type": "code",
   "execution_count": 43,
   "id": "faab8312",
   "metadata": {},
   "outputs": [],
   "source": [
    "import math"
   ]
  },
  {
   "cell_type": "code",
   "execution_count": 47,
   "id": "16d5748b",
   "metadata": {},
   "outputs": [
    {
     "data": {
      "text/plain": [
       "1"
      ]
     },
     "execution_count": 47,
     "metadata": {},
     "output_type": "execute_result"
    }
   ],
   "source": [
    "math.ceil(0.99)"
   ]
  },
  {
   "cell_type": "code",
   "execution_count": null,
   "id": "d56e1de7",
   "metadata": {},
   "outputs": [],
   "source": [
    "Go till num/2"
   ]
  },
  {
   "cell_type": "code",
   "execution_count": 51,
   "id": "9ac9991a",
   "metadata": {},
   "outputs": [
    {
     "name": "stdout",
     "output_type": "stream",
     "text": [
      "5.98 µs ± 53.9 ns per loop (mean ± std. dev. of 7 runs, 100,000 loops each)\n"
     ]
    }
   ],
   "source": [
    "%%timeit\n",
    "num = 197\n",
    "\n",
    "num_by_2_ceil  = math.ceil(num/2)\n",
    "\n",
    "i = 2\n",
    "\n",
    "factor_found = False\n",
    "while i < num_by_2_ceil and factor_found!=True: # and not factor_found\n",
    "    if num%i == 0:\n",
    "        factor_found = True\n",
    "    i = i + 1\n",
    "#print(not factor_found)"
   ]
  },
  {
   "cell_type": "code",
   "execution_count": null,
   "id": "56c49622",
   "metadata": {},
   "outputs": [],
   "source": [
    "Go till sqrt(n)"
   ]
  },
  {
   "cell_type": "code",
   "execution_count": 54,
   "id": "5a80b33d",
   "metadata": {},
   "outputs": [
    {
     "data": {
      "text/plain": [
       "8"
      ]
     },
     "execution_count": 54,
     "metadata": {},
     "output_type": "execute_result"
    }
   ],
   "source": [
    "num = 37\n",
    "math.ceil(math.sqrt(num))+1"
   ]
  },
  {
   "cell_type": "code",
   "execution_count": 65,
   "id": "8e4050d2",
   "metadata": {},
   "outputs": [
    {
     "name": "stdout",
     "output_type": "stream",
     "text": [
      "976 ns ± 2.55 ns per loop (mean ± std. dev. of 7 runs, 1,000,000 loops each)\n"
     ]
    }
   ],
   "source": [
    "%%timeit\n",
    "num = 197\n",
    "\n",
    "sqrt_num_ceil_plus_1  = math.ceil(math.sqrt(num)) + 1\n",
    "\n",
    "i = 2\n",
    "\n",
    "factor_found = False\n",
    "\n",
    "\n",
    "while i < sqrt_num_ceil_plus_1 and factor_found!=True: # and not factor_found\n",
    "    if num%i == 0:\n",
    "        factor_found = True\n",
    "    i = i + 1\n",
    "#print(not factor_found)"
   ]
  },
  {
   "cell_type": "code",
   "execution_count": null,
   "id": "73939e1d",
   "metadata": {},
   "outputs": [],
   "source": [
    "# Separately deal with even numbers, increment i by 2"
   ]
  },
  {
   "cell_type": "code",
   "execution_count": 64,
   "id": "c7201a76",
   "metadata": {},
   "outputs": [
    {
     "name": "stdout",
     "output_type": "stream",
     "text": [
      "585 ns ± 1.39 ns per loop (mean ± std. dev. of 7 runs, 1,000,000 loops each)\n"
     ]
    }
   ],
   "source": [
    "%%timeit\n",
    "num = 197\n",
    "\n",
    "sqrt_num_ceil_plus_1  = math.ceil(math.sqrt(num)) + 1\n",
    "\n",
    "i = 3\n",
    "\n",
    "factor_found = False\n",
    "if num%2 == 0:\n",
    "    factor_found = True\n",
    "else:\n",
    "    while i < sqrt_num_ceil_plus_1 and factor_found!=True: # and not factor_found\n",
    "        if num%i == 0:\n",
    "            factor_found = True\n",
    "        i = i + 2\n",
    "#print(not factor_found)"
   ]
  },
  {
   "cell_type": "code",
   "execution_count": 66,
   "id": "1d2b53c4",
   "metadata": {},
   "outputs": [
    {
     "data": {
      "text/plain": [
       "18.803418803418804"
      ]
     },
     "execution_count": 66,
     "metadata": {},
     "output_type": "execute_result"
    }
   ],
   "source": [
    "11*1000/585"
   ]
  },
  {
   "cell_type": "code",
   "execution_count": 71,
   "id": "55f5b9d1",
   "metadata": {},
   "outputs": [
    {
     "name": "stdout",
     "output_type": "stream",
     "text": [
      "471 ns ± 1.31 ns per loop (mean ± std. dev. of 7 runs, 1,000,000 loops each)\n"
     ]
    }
   ],
   "source": [
    "%%timeit\n",
    "num = 197\n",
    "\n",
    "sqrt_num_ceil_plus_1  = math.ceil(math.sqrt(num)) + 1\n",
    "\n",
    "i = 3\n",
    "\n",
    "factor_found = False\n",
    "if num%2 == 0:\n",
    "    factor_found = True\n",
    "else:\n",
    "    while i < sqrt_num_ceil_plus_1: # and not factor_found\n",
    "        if num%i == 0:\n",
    "            factor_found = True\n",
    "            break\n",
    "        i = i + 2\n",
    "#print(not factor_found)"
   ]
  },
  {
   "cell_type": "code",
   "execution_count": 72,
   "id": "37ebece3",
   "metadata": {},
   "outputs": [
    {
     "data": {
      "text/plain": [
       "23.35456475583864"
      ]
     },
     "execution_count": 72,
     "metadata": {},
     "output_type": "execute_result"
    }
   ],
   "source": [
    "11*1000/471"
   ]
  },
  {
   "cell_type": "markdown",
   "id": "4dcbd2e1",
   "metadata": {},
   "source": [
    "### Continue\n"
   ]
  },
  {
   "cell_type": "markdown",
   "id": "a1c24e95",
   "metadata": {},
   "source": [
    "Write a program that prints > at the start of each line. It then waits for the user's input. If the user's input starts with #, then it ignores and asks user to enter another line. If the user's input is done, the program exits. Otherwise, the program prints whatever the user enters.\n",
    "\n",
    "```\n",
    "> hello there\n",
    "hello there\n",
    "> # don't print this\n",
    "> print this!\n",
    "print this!\n",
    "> done\n",
    "Done!\n",
    "```"
   ]
  },
  {
   "cell_type": "markdown",
   "id": "35ea5c5f",
   "metadata": {},
   "source": [
    "### Nested loops\n",
    "\n",
    "Write a program to print the following\n",
    "```\n",
    "1*1= 1 1*2= 2 1*3= 3 1*4= 4 1*5= 5 \n",
    "2*1= 2 2*2= 4 2*3= 6 2*4= 8 2*5= 10 \n",
    "3*1= 3 3*2= 6 3*3= 9 3*4= 12 3*5= 15 \n",
    "4*1= 4 4*2= 8 4*3= 12 4*4= 16 4*5= 20 \n",
    "5*1= 5 5*2= 10 5*3= 15 5*4= 20 5*5= 25 \n",
    "```"
   ]
  },
  {
   "cell_type": "code",
   "execution_count": null,
   "id": "6f33866a",
   "metadata": {},
   "outputs": [],
   "source": []
  }
 ],
 "metadata": {
  "kernelspec": {
   "display_name": "Python 3 (ipykernel)",
   "language": "python",
   "name": "python3"
  },
  "language_info": {
   "codemirror_mode": {
    "name": "ipython",
    "version": 3
   },
   "file_extension": ".py",
   "mimetype": "text/x-python",
   "name": "python",
   "nbconvert_exporter": "python",
   "pygments_lexer": "ipython3",
   "version": "3.8.13"
  }
 },
 "nbformat": 4,
 "nbformat_minor": 5
}
