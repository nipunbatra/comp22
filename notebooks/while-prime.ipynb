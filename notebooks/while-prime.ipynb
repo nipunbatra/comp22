{
 "cells": [
  {
   "cell_type": "code",
   "execution_count": 3,
   "id": "cc6585ec",
   "metadata": {},
   "outputs": [
    {
     "data": {
      "text/plain": [
       "True"
      ]
     },
     "execution_count": 3,
     "metadata": {},
     "output_type": "execute_result"
    }
   ],
   "source": [
    "not False"
   ]
  },
  {
   "cell_type": "code",
   "execution_count": null,
   "id": "56841c58",
   "metadata": {},
   "outputs": [],
   "source": [
    "### Naive solution (compound condition)"
   ]
  },
  {
   "cell_type": "code",
   "execution_count": 45,
   "id": "dbb4115d",
   "metadata": {},
   "outputs": [
    {
     "name": "stdout",
     "output_type": "stream",
     "text": [
      "11.9 µs ± 26.4 ns per loop (mean ± std. dev. of 7 runs, 100,000 loops each)\n"
     ]
    }
   ],
   "source": [
    "%%timeit\n",
    "num = 197\n",
    "\n",
    "\n",
    "if num == 1 or num == 2:\n",
    "    print(True)\n",
    "elif num > 2:\n",
    "    i = 2\n",
    "    divisor_found = False\n",
    "    while i < num and divisor_found!=True: # or not False\n",
    "        if num%i == 0:\n",
    "            divisor_found = True\n",
    "\n",
    "        i = i+1\n",
    "\n",
    "    #print(not divisor_found)"
   ]
  },
  {
   "cell_type": "code",
   "execution_count": 27,
   "id": "94d413cf",
   "metadata": {},
   "outputs": [],
   "source": [
    "### Naive solution (compound condition) with sqrt(n)"
   ]
  },
  {
   "cell_type": "code",
   "execution_count": 30,
   "id": "5d176655",
   "metadata": {},
   "outputs": [
    {
     "data": {
      "text/plain": [
       "4"
      ]
     },
     "execution_count": 30,
     "metadata": {},
     "output_type": "execute_result"
    }
   ],
   "source": [
    "import math\n",
    "math.ceil(math.sqrt(10))"
   ]
  },
  {
   "cell_type": "code",
   "execution_count": 42,
   "id": "d5e015ae",
   "metadata": {},
   "outputs": [
    {
     "name": "stdout",
     "output_type": "stream",
     "text": [
      "1.05 µs ± 3.35 ns per loop (mean ± std. dev. of 7 runs, 1,000,000 loops each)\n"
     ]
    }
   ],
   "source": [
    "%%timeit\n",
    "num = 197\n",
    "\n",
    "ceil_root_num_plus_1 = math.ceil(math.sqrt(num)) + 1\n",
    "\n",
    "if num == 1 or num == 2:\n",
    "    print(True)\n",
    "elif num > 2:\n",
    "    i = 2\n",
    "    divisor_found = False\n",
    "    while i < ceil_root_num_plus_1 and divisor_found!=True: # or not False\n",
    "        if num%i == 0:\n",
    "            divisor_found = True\n",
    "\n",
    "        i = i+1\n",
    "\n",
    "    #print(not divisor_found)"
   ]
  },
  {
   "cell_type": "code",
   "execution_count": 46,
   "id": "e11878de",
   "metadata": {},
   "outputs": [],
   "source": [
    "### Naive solution (compound condition) with sqrt(n) and add 2"
   ]
  },
  {
   "cell_type": "code",
   "execution_count": 83,
   "id": "a2cee6a4",
   "metadata": {},
   "outputs": [
    {
     "name": "stdout",
     "output_type": "stream",
     "text": [
      "630 ns ± 0.435 ns per loop (mean ± std. dev. of 7 runs, 1,000,000 loops each)\n"
     ]
    }
   ],
   "source": [
    "%%timeit\n",
    "num = 197\n",
    "\n",
    "ceil_root_num_plus_1 = math.ceil(math.sqrt(num)) + 1\n",
    "\n",
    "if num == 2 or num == 1:\n",
    "    print(True)\n",
    "elif num%2 == 0:\n",
    "    print(False)\n",
    "elif num > 2:\n",
    "    i = 3\n",
    "    divisor_found = False\n",
    "    while i < ceil_root_num_plus_1 and divisor_found!=True: # or not False\n",
    "        if num%i == 0:\n",
    "            divisor_found = True\n",
    "\n",
    "        i = i+2\n",
    "\n",
    "    #print(not divisor_found)"
   ]
  },
  {
   "cell_type": "code",
   "execution_count": 62,
   "id": "a26892a2",
   "metadata": {},
   "outputs": [],
   "source": [
    "### Using a break\n",
    "### Naive solution (single condition and break) with sqrt(n) and add 2"
   ]
  },
  {
   "cell_type": "code",
   "execution_count": 100,
   "id": "0a2b8fd4",
   "metadata": {},
   "outputs": [
    {
     "name": "stdout",
     "output_type": "stream",
     "text": [
      "556 ns ± 0.846 ns per loop (mean ± std. dev. of 7 runs, 1,000,000 loops each)\n"
     ]
    }
   ],
   "source": [
    "%%timeit\n",
    "num = 197\n",
    "\n",
    "ceil_root_num_plus_1 = math.ceil(math.sqrt(num)) + 1\n",
    "\n",
    "if num == 2 or num == 1:\n",
    "    print(True)\n",
    "elif num%2 == 0:\n",
    "    print(False)\n",
    "elif num > 2:\n",
    "    i = 3\n",
    "    divisor_found = False\n",
    "    while i < ceil_root_num_plus_1: \n",
    "        if num%i == 0:\n",
    "            divisor_found = True\n",
    "            break\n",
    "\n",
    "        i = i+2\n",
    "\n",
    "    #print(not divisor_found)"
   ]
  },
  {
   "cell_type": "code",
   "execution_count": 104,
   "id": "37cf950c",
   "metadata": {},
   "outputs": [],
   "source": [
    "### Continue\n",
    "\n",
    "i = 0\n",
    "s = 0\n",
    "while i < 10:\n",
    "    i = i + 1\n",
    "    \n",
    "    if i%2 == 0:\n",
    "        continue\n",
    "    s = s + i"
   ]
  },
  {
   "cell_type": "code",
   "execution_count": 105,
   "id": "6f219c5a",
   "metadata": {},
   "outputs": [
    {
     "name": "stdout",
     "output_type": "stream",
     "text": [
      "25\n"
     ]
    }
   ],
   "source": [
    "print(s)"
   ]
  },
  {
   "cell_type": "markdown",
   "id": "afd2fbac",
   "metadata": {},
   "source": [
    "Write a program that prints > at the start of each line. It then waits for the user's input. If the user's input starts with #, then it ignores and asks user to enter another line. If the user's input is done, the program exits.\n",
    "Otherwise, the program prints whatever the user enters.\n",
    "\n",
    "```\n",
    "> hello there\n",
    "hello there\n",
    "> # don't print this\n",
    "> print this!\n",
    "print this!\n",
    "> done\n",
    "Done!\n",
    "```\n"
   ]
  },
  {
   "cell_type": "code",
   "execution_count": null,
   "id": "7c12e5a2",
   "metadata": {},
   "outputs": [],
   "source": []
  }
 ],
 "metadata": {
  "kernelspec": {
   "display_name": "Python 3 (ipykernel)",
   "language": "python",
   "name": "python3"
  },
  "language_info": {
   "codemirror_mode": {
    "name": "ipython",
    "version": 3
   },
   "file_extension": ".py",
   "mimetype": "text/x-python",
   "name": "python",
   "nbconvert_exporter": "python",
   "pygments_lexer": "ipython3",
   "version": "3.9.13"
  }
 },
 "nbformat": 4,
 "nbformat_minor": 5
}
