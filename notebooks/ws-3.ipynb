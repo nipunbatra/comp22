{
 "cells": [
  {
   "cell_type": "code",
   "execution_count": 9,
   "id": "60bb1a0f",
   "metadata": {},
   "outputs": [
    {
     "name": "stdout",
     "output_type": "stream",
     "text": [
      "--------------------\n",
      "Yes\n"
     ]
    }
   ],
   "source": [
    "xs = [1, 20, 3]\n",
    "ys = [0, 5, 7]\n",
    "\n",
    "for x in xs:\n",
    "    # Some flag variable here\n",
    "    flag = True\n",
    "    for y in ys:\n",
    "        print(x, y)\n",
    "        \n",
    "        # Check some conditions (and modify flag)\n",
    "        if x<=y:\n",
    "            flag = False\n",
    "            break\n",
    "            # See if we need to modify the flag variable\n",
    "    # Look at the flag variable and print (Yes or Nothing)\n",
    "    if flag == True:\n",
    "        print(\"Yes\")\n",
    "        break\n",
    "    print(\"-\"*20)"
   ]
  },
  {
   "cell_type": "code",
   "execution_count": 10,
   "id": "3d429c05",
   "metadata": {},
   "outputs": [
    {
     "name": "stdout",
     "output_type": "stream",
     "text": [
      "[1, 1, 2, 2]\n"
     ]
    }
   ],
   "source": [
    "xs = [1, 2, 3, 4]\n",
    "# Expected answer = [1, 1, 1, 1]\n",
    "\n",
    "# i = 1\n",
    "\n",
    "# xs = [1, 1, 3, 4]\n",
    "\n",
    "\n",
    "for i in range(1, len(xs)):\n",
    "    xs[i] = xs[i] - xs[i-1]\n",
    "print(xs)\n"
   ]
  },
  {
   "cell_type": "code",
   "execution_count": 14,
   "id": "b79636ff",
   "metadata": {},
   "outputs": [
    {
     "data": {
      "text/plain": [
       "[3, 2]"
      ]
     },
     "execution_count": 14,
     "metadata": {},
     "output_type": "execute_result"
    }
   ],
   "source": [
    "list(range(3, 0, -1))\n",
    "l#ist(range(3, 1, -1))"
   ]
  },
  {
   "cell_type": "code",
   "execution_count": 15,
   "id": "291e6ae4",
   "metadata": {},
   "outputs": [
    {
     "name": "stdout",
     "output_type": "stream",
     "text": [
      "[1, 1, 1, 1]\n"
     ]
    }
   ],
   "source": [
    "xs = [1, 2, 3, 4]\n",
    "\n",
    "for i in range(len(xs)-1, 0, -1):\n",
    "    xs[i] = xs[i] - xs[i-1]\n",
    "print(xs)"
   ]
  },
  {
   "cell_type": "code",
   "execution_count": 17,
   "id": "79b50a2d",
   "metadata": {},
   "outputs": [
    {
     "name": "stdout",
     "output_type": "stream",
     "text": [
      "[1, 1, 1, 1]\n"
     ]
    }
   ],
   "source": [
    "xs = [1, 2, 3, 4]\n",
    "ys = xs.copy()\n",
    "\n",
    "for i in range(1, len(xs)):\n",
    "    xs[i] = xs[i] - ys[i-1]\n",
    "print(xs)"
   ]
  },
  {
   "cell_type": "code",
   "execution_count": null,
   "id": "0d3b6edc",
   "metadata": {},
   "outputs": [],
   "source": []
  }
 ],
 "metadata": {
  "kernelspec": {
   "display_name": "Python 3 (ipykernel)",
   "language": "python",
   "name": "python3"
  },
  "language_info": {
   "codemirror_mode": {
    "name": "ipython",
    "version": 3
   },
   "file_extension": ".py",
   "mimetype": "text/x-python",
   "name": "python",
   "nbconvert_exporter": "python",
   "pygments_lexer": "ipython3",
   "version": "3.8.13"
  }
 },
 "nbformat": 4,
 "nbformat_minor": 5
}
